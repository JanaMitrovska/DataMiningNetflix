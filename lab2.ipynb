{
  "nbformat": 4,
  "nbformat_minor": 0,
  "metadata": {
    "colab": {
      "name": "lab2_PR.ipynb",
      "provenance": [],
      "collapsed_sections": [
        "kpJoP0zBlMJ2"
      ]
    },
    "kernelspec": {
      "name": "python3",
      "display_name": "Python 3"
    },
    "language_info": {
      "name": "python"
    }
  },
  "cells": [
    {
      "cell_type": "markdown",
      "metadata": {
        "id": "u62LYDjwiMyW"
      },
      "source": [
        "Втора лабораториска вежба по предметот Податочно рударство\n",
        "\n",
        "Изработиле: Јана Митровска (181080) и Бојан Петрушевски (162012)\n",
        "\n",
        "Податочно множество:\n",
        "\n",
        "Тема: Дрва на одлучување\n"
      ]
    },
    {
      "cell_type": "markdown",
      "metadata": {
        "id": "kpJoP0zBlMJ2"
      },
      "source": [
        "# **Reading the dataset**"
      ]
    },
    {
      "cell_type": "code",
      "metadata": {
        "id": "53fT5b-alK-3"
      },
      "source": [
        "import pandas as pd\n",
        "import numpy as np\n",
        "import sklearn \n",
        "import matplotlib.pyplot as plt\n",
        "from sklearn.tree import DecisionTreeClassifier\n",
        "from sklearn.model_selection import train_test_split, LeaveOneOut, cross_val_score, cross_validate\n",
        "from sklearn.preprocessing import LabelEncoder\n",
        "from sklearn.metrics import accuracy_score, precision_score, recall_score, f1_score, plot_roc_curve\n",
        "from sklearn.ensemble import RandomForestClassifier\n",
        "import seaborn as sns\n",
        "\n",
        "data = pd.read_csv('/content/drive/MyDrive/netflix.csv')"
      ],
      "execution_count": null,
      "outputs": []
    },
    {
      "cell_type": "code",
      "metadata": {
        "colab": {
          "base_uri": "https://localhost:8080/",
          "height": 190
        },
        "id": "FleKzfXGi_rS",
        "outputId": "2083ba72-5f8f-4d4d-b5a0-414cebcbefbe"
      },
      "source": [
        "data.head()"
      ],
      "execution_count": null,
      "outputs": [
        {
          "output_type": "execute_result",
          "data": {
            "text/html": [
              "<div>\n",
              "<style scoped>\n",
              "    .dataframe tbody tr th:only-of-type {\n",
              "        vertical-align: middle;\n",
              "    }\n",
              "\n",
              "    .dataframe tbody tr th {\n",
              "        vertical-align: top;\n",
              "    }\n",
              "\n",
              "    .dataframe thead th {\n",
              "        text-align: right;\n",
              "    }\n",
              "</style>\n",
              "<table border=\"1\" class=\"dataframe\">\n",
              "  <thead>\n",
              "    <tr style=\"text-align: right;\">\n",
              "      <th></th>\n",
              "      <th>Unnamed: 0</th>\n",
              "      <th>show_id</th>\n",
              "      <th>type</th>\n",
              "      <th>title</th>\n",
              "      <th>director</th>\n",
              "      <th>cast</th>\n",
              "      <th>country</th>\n",
              "      <th>date_added</th>\n",
              "      <th>release_year</th>\n",
              "      <th>rating</th>\n",
              "      <th>duration</th>\n",
              "      <th>listed_in</th>\n",
              "      <th>description</th>\n",
              "    </tr>\n",
              "  </thead>\n",
              "  <tbody>\n",
              "    <tr>\n",
              "      <th>0</th>\n",
              "      <td>0</td>\n",
              "      <td>s1</td>\n",
              "      <td>TV Show</td>\n",
              "      <td>3%</td>\n",
              "      <td>Unknown</td>\n",
              "      <td>João Miguel, Bianca Comparato, Michel Gomes, R...</td>\n",
              "      <td>Brazil</td>\n",
              "      <td>August 14, 2020</td>\n",
              "      <td>2020</td>\n",
              "      <td>TV-MA</td>\n",
              "      <td>4</td>\n",
              "      <td>International TV Shows, TV Dramas, TV Sci-Fi &amp;...</td>\n",
              "      <td>In a future where the elite inhabit an island ...</td>\n",
              "    </tr>\n",
              "    <tr>\n",
              "      <th>1</th>\n",
              "      <td>1</td>\n",
              "      <td>s2</td>\n",
              "      <td>Movie</td>\n",
              "      <td>7:19</td>\n",
              "      <td>Jorge Michel Grau</td>\n",
              "      <td>Demián Bichir, Héctor Bonilla, Oscar Serrano, ...</td>\n",
              "      <td>Mexico</td>\n",
              "      <td>December 23, 2016</td>\n",
              "      <td>2016</td>\n",
              "      <td>TV-MA</td>\n",
              "      <td>93</td>\n",
              "      <td>Dramas, International Movies</td>\n",
              "      <td>After a devastating earthquake hits Mexico Cit...</td>\n",
              "    </tr>\n",
              "    <tr>\n",
              "      <th>2</th>\n",
              "      <td>2</td>\n",
              "      <td>s3</td>\n",
              "      <td>Movie</td>\n",
              "      <td>23:59</td>\n",
              "      <td>Gilbert Chan</td>\n",
              "      <td>Tedd Chan, Stella Chung, Henley Hii, Lawrence ...</td>\n",
              "      <td>Singapore</td>\n",
              "      <td>December 20, 2018</td>\n",
              "      <td>2011</td>\n",
              "      <td>R</td>\n",
              "      <td>78</td>\n",
              "      <td>Horror Movies, International Movies</td>\n",
              "      <td>When an army recruit is found dead, his fellow...</td>\n",
              "    </tr>\n",
              "    <tr>\n",
              "      <th>3</th>\n",
              "      <td>3</td>\n",
              "      <td>s4</td>\n",
              "      <td>Movie</td>\n",
              "      <td>9</td>\n",
              "      <td>Shane Acker</td>\n",
              "      <td>Elijah Wood, John C. Reilly, Jennifer Connelly...</td>\n",
              "      <td>United States</td>\n",
              "      <td>November 16, 2017</td>\n",
              "      <td>2009</td>\n",
              "      <td>PG-13</td>\n",
              "      <td>80</td>\n",
              "      <td>Action &amp; Adventure, Independent Movies, Sci-Fi...</td>\n",
              "      <td>In a postapocalyptic world, rag-doll robots hi...</td>\n",
              "    </tr>\n",
              "    <tr>\n",
              "      <th>4</th>\n",
              "      <td>4</td>\n",
              "      <td>s5</td>\n",
              "      <td>Movie</td>\n",
              "      <td>21</td>\n",
              "      <td>Robert Luketic</td>\n",
              "      <td>Jim Sturgess, Kevin Spacey, Kate Bosworth, Aar...</td>\n",
              "      <td>United States</td>\n",
              "      <td>January 1, 2020</td>\n",
              "      <td>2008</td>\n",
              "      <td>PG-13</td>\n",
              "      <td>123</td>\n",
              "      <td>Dramas</td>\n",
              "      <td>A brilliant group of students become card-coun...</td>\n",
              "    </tr>\n",
              "  </tbody>\n",
              "</table>\n",
              "</div>"
            ],
            "text/plain": [
              "   Unnamed: 0  ...                                        description\n",
              "0           0  ...  In a future where the elite inhabit an island ...\n",
              "1           1  ...  After a devastating earthquake hits Mexico Cit...\n",
              "2           2  ...  When an army recruit is found dead, his fellow...\n",
              "3           3  ...  In a postapocalyptic world, rag-doll robots hi...\n",
              "4           4  ...  A brilliant group of students become card-coun...\n",
              "\n",
              "[5 rows x 13 columns]"
            ]
          },
          "metadata": {
            "tags": []
          },
          "execution_count": 4
        }
      ]
    },
    {
      "cell_type": "markdown",
      "metadata": {
        "id": "DaoxW3E-5lqq"
      },
      "source": [
        "# **Decision trees**"
      ]
    },
    {
      "cell_type": "code",
      "metadata": {
        "id": "Zu-AhXAzASr3"
      },
      "source": [
        "data['cast'] = data['cast'].fillna('Unknown')\n",
        "data['date_added'] = data['date_added'].fillna('Unknown')"
      ],
      "execution_count": null,
      "outputs": []
    },
    {
      "cell_type": "code",
      "metadata": {
        "id": "jNt7J-5O6w2i"
      },
      "source": [
        "dt = DecisionTreeClassifier(criterion='entropy')"
      ],
      "execution_count": null,
      "outputs": []
    },
    {
      "cell_type": "code",
      "metadata": {
        "colab": {
          "base_uri": "https://localhost:8080/",
          "height": 392
        },
        "id": "FVNHZ_7v62WG",
        "outputId": "4db9e5ee-981f-453d-abab-366996d4fced"
      },
      "source": [
        "data_encoded = data.apply(LabelEncoder().fit_transform)\n",
        "data_encoded"
      ],
      "execution_count": null,
      "outputs": [
        {
          "output_type": "execute_result",
          "data": {
            "text/html": [
              "<div>\n",
              "<style scoped>\n",
              "    .dataframe tbody tr th:only-of-type {\n",
              "        vertical-align: middle;\n",
              "    }\n",
              "\n",
              "    .dataframe tbody tr th {\n",
              "        vertical-align: top;\n",
              "    }\n",
              "\n",
              "    .dataframe thead th {\n",
              "        text-align: right;\n",
              "    }\n",
              "</style>\n",
              "<table border=\"1\" class=\"dataframe\">\n",
              "  <thead>\n",
              "    <tr style=\"text-align: right;\">\n",
              "      <th></th>\n",
              "      <th>Unnamed: 0</th>\n",
              "      <th>show_id</th>\n",
              "      <th>type</th>\n",
              "      <th>title</th>\n",
              "      <th>director</th>\n",
              "      <th>cast</th>\n",
              "      <th>country</th>\n",
              "      <th>date_added</th>\n",
              "      <th>release_year</th>\n",
              "      <th>rating</th>\n",
              "      <th>duration</th>\n",
              "      <th>listed_in</th>\n",
              "      <th>description</th>\n",
              "    </tr>\n",
              "  </thead>\n",
              "  <tbody>\n",
              "    <tr>\n",
              "      <th>0</th>\n",
              "      <td>0</td>\n",
              "      <td>0</td>\n",
              "      <td>1</td>\n",
              "      <td>82</td>\n",
              "      <td>3748</td>\n",
              "      <td>3160</td>\n",
              "      <td>6</td>\n",
              "      <td>207</td>\n",
              "      <td>71</td>\n",
              "      <td>8</td>\n",
              "      <td>3</td>\n",
              "      <td>398</td>\n",
              "      <td>3912</td>\n",
              "    </tr>\n",
              "    <tr>\n",
              "      <th>1</th>\n",
              "      <td>1</td>\n",
              "      <td>1111</td>\n",
              "      <td>0</td>\n",
              "      <td>124</td>\n",
              "      <td>1789</td>\n",
              "      <td>1589</td>\n",
              "      <td>42</td>\n",
              "      <td>391</td>\n",
              "      <td>67</td>\n",
              "      <td>8</td>\n",
              "      <td>91</td>\n",
              "      <td>310</td>\n",
              "      <td>1390</td>\n",
              "    </tr>\n",
              "    <tr>\n",
              "      <th>2</th>\n",
              "      <td>2</td>\n",
              "      <td>2222</td>\n",
              "      <td>0</td>\n",
              "      <td>67</td>\n",
              "      <td>1253</td>\n",
              "      <td>6200</td>\n",
              "      <td>60</td>\n",
              "      <td>378</td>\n",
              "      <td>62</td>\n",
              "      <td>5</td>\n",
              "      <td>76</td>\n",
              "      <td>336</td>\n",
              "      <td>7172</td>\n",
              "    </tr>\n",
              "    <tr>\n",
              "      <th>3</th>\n",
              "      <td>3</td>\n",
              "      <td>3333</td>\n",
              "      <td>0</td>\n",
              "      <td>126</td>\n",
              "      <td>3355</td>\n",
              "      <td>1788</td>\n",
              "      <td>75</td>\n",
              "      <td>1209</td>\n",
              "      <td>60</td>\n",
              "      <td>4</td>\n",
              "      <td>78</td>\n",
              "      <td>47</td>\n",
              "      <td>3936</td>\n",
              "    </tr>\n",
              "    <tr>\n",
              "      <th>4</th>\n",
              "      <td>4</td>\n",
              "      <td>4444</td>\n",
              "      <td>0</td>\n",
              "      <td>60</td>\n",
              "      <td>3095</td>\n",
              "      <td>2924</td>\n",
              "      <td>75</td>\n",
              "      <td>584</td>\n",
              "      <td>59</td>\n",
              "      <td>4</td>\n",
              "      <td>121</td>\n",
              "      <td>294</td>\n",
              "      <td>138</td>\n",
              "    </tr>\n",
              "    <tr>\n",
              "      <th>...</th>\n",
              "      <td>...</td>\n",
              "      <td>...</td>\n",
              "      <td>...</td>\n",
              "      <td>...</td>\n",
              "      <td>...</td>\n",
              "      <td>...</td>\n",
              "      <td>...</td>\n",
              "      <td>...</td>\n",
              "      <td>...</td>\n",
              "      <td>...</td>\n",
              "      <td>...</td>\n",
              "      <td>...</td>\n",
              "      <td>...</td>\n",
              "    </tr>\n",
              "    <tr>\n",
              "      <th>7782</th>\n",
              "      <td>7782</td>\n",
              "      <td>7537</td>\n",
              "      <td>0</td>\n",
              "      <td>7759</td>\n",
              "      <td>1793</td>\n",
              "      <td>2487</td>\n",
              "      <td>67</td>\n",
              "      <td>1352</td>\n",
              "      <td>56</td>\n",
              "      <td>8</td>\n",
              "      <td>97</td>\n",
              "      <td>310</td>\n",
              "      <td>6876</td>\n",
              "    </tr>\n",
              "    <tr>\n",
              "      <th>7783</th>\n",
              "      <td>7783</td>\n",
              "      <td>7538</td>\n",
              "      <td>0</td>\n",
              "      <td>7761</td>\n",
              "      <td>2536</td>\n",
              "      <td>6474</td>\n",
              "      <td>28</td>\n",
              "      <td>985</td>\n",
              "      <td>66</td>\n",
              "      <td>6</td>\n",
              "      <td>109</td>\n",
              "      <td>312</td>\n",
              "      <td>889</td>\n",
              "    </tr>\n",
              "    <tr>\n",
              "      <th>7784</th>\n",
              "      <td>7784</td>\n",
              "      <td>7539</td>\n",
              "      <td>0</td>\n",
              "      <td>7762</td>\n",
              "      <td>3748</td>\n",
              "      <td>4601</td>\n",
              "      <td>76</td>\n",
              "      <td>1516</td>\n",
              "      <td>70</td>\n",
              "      <td>8</td>\n",
              "      <td>42</td>\n",
              "      <td>269</td>\n",
              "      <td>4197</td>\n",
              "    </tr>\n",
              "    <tr>\n",
              "      <th>7785</th>\n",
              "      <td>7785</td>\n",
              "      <td>7540</td>\n",
              "      <td>1</td>\n",
              "      <td>7763</td>\n",
              "      <td>3748</td>\n",
              "      <td>140</td>\n",
              "      <td>1</td>\n",
              "      <td>1418</td>\n",
              "      <td>70</td>\n",
              "      <td>9</td>\n",
              "      <td>0</td>\n",
              "      <td>368</td>\n",
              "      <td>2823</td>\n",
              "    </tr>\n",
              "    <tr>\n",
              "      <th>7786</th>\n",
              "      <td>7786</td>\n",
              "      <td>7541</td>\n",
              "      <td>0</td>\n",
              "      <td>7734</td>\n",
              "      <td>3215</td>\n",
              "      <td>6429</td>\n",
              "      <td>74</td>\n",
              "      <td>942</td>\n",
              "      <td>70</td>\n",
              "      <td>8</td>\n",
              "      <td>88</td>\n",
              "      <td>273</td>\n",
              "      <td>6065</td>\n",
              "    </tr>\n",
              "  </tbody>\n",
              "</table>\n",
              "<p>7787 rows × 13 columns</p>\n",
              "</div>"
            ],
            "text/plain": [
              "      Unnamed: 0  show_id  type  ...  duration  listed_in  description\n",
              "0              0        0     1  ...         3        398         3912\n",
              "1              1     1111     0  ...        91        310         1390\n",
              "2              2     2222     0  ...        76        336         7172\n",
              "3              3     3333     0  ...        78         47         3936\n",
              "4              4     4444     0  ...       121        294          138\n",
              "...          ...      ...   ...  ...       ...        ...          ...\n",
              "7782        7782     7537     0  ...        97        310         6876\n",
              "7783        7783     7538     0  ...       109        312          889\n",
              "7784        7784     7539     0  ...        42        269         4197\n",
              "7785        7785     7540     1  ...         0        368         2823\n",
              "7786        7786     7541     0  ...        88        273         6065\n",
              "\n",
              "[7787 rows x 13 columns]"
            ]
          },
          "metadata": {
            "tags": []
          },
          "execution_count": 7
        }
      ]
    },
    {
      "cell_type": "code",
      "metadata": {
        "id": "mFgzpJamlQlG"
      },
      "source": [
        "X = data_encoded.drop(['type'], axis = 1)\n",
        "Y = data_encoded.type.values\n",
        "X_train, X_test, Y_train, Y_test = train_test_split(X,Y,test_size = 0.2, random_state = 0)"
      ],
      "execution_count": null,
      "outputs": []
    },
    {
      "cell_type": "code",
      "metadata": {
        "colab": {
          "base_uri": "https://localhost:8080/"
        },
        "id": "TM3RBB5lwy5D",
        "outputId": "2df41c46-a770-433a-9202-c42633fd7c5a"
      },
      "source": [
        "dt.fit(X_train,Y_train)"
      ],
      "execution_count": null,
      "outputs": [
        {
          "output_type": "execute_result",
          "data": {
            "text/plain": [
              "DecisionTreeClassifier(ccp_alpha=0.0, class_weight=None, criterion='entropy',\n",
              "                       max_depth=None, max_features=None, max_leaf_nodes=None,\n",
              "                       min_impurity_decrease=0.0, min_impurity_split=None,\n",
              "                       min_samples_leaf=1, min_samples_split=2,\n",
              "                       min_weight_fraction_leaf=0.0, presort='deprecated',\n",
              "                       random_state=None, splitter='best')"
            ]
          },
          "metadata": {
            "tags": []
          },
          "execution_count": 9
        }
      ]
    },
    {
      "cell_type": "code",
      "metadata": {
        "id": "C9og4sBhCGUz"
      },
      "source": [
        "predicted = dt.predict(X_test)"
      ],
      "execution_count": null,
      "outputs": []
    },
    {
      "cell_type": "code",
      "metadata": {
        "colab": {
          "base_uri": "https://localhost:8080/"
        },
        "id": "U3yrgvgdCL04",
        "outputId": "a71b190c-c258-4466-e12f-33f2f417a35e"
      },
      "source": [
        "dt.feature_importances_"
      ],
      "execution_count": null,
      "outputs": [
        {
          "output_type": "execute_result",
          "data": {
            "text/plain": [
              "array([0.        , 0.        , 0.00159038, 0.        , 0.00175968,\n",
              "       0.        , 0.        , 0.        , 0.        , 0.99253098,\n",
              "       0.00221722, 0.00190174])"
            ]
          },
          "metadata": {
            "tags": []
          },
          "execution_count": 11
        }
      ]
    },
    {
      "cell_type": "code",
      "metadata": {
        "id": "XQrVEfhSCRAW"
      },
      "source": [
        "result_data = pd.DataFrame({\"actual\":Y_test, \"predicted\":predicted})"
      ],
      "execution_count": null,
      "outputs": []
    },
    {
      "cell_type": "code",
      "metadata": {
        "colab": {
          "base_uri": "https://localhost:8080/",
          "height": 392
        },
        "id": "42msO846Coli",
        "outputId": "d57fde5f-7697-4a85-81fb-62911dceef6b"
      },
      "source": [
        "result_data"
      ],
      "execution_count": null,
      "outputs": [
        {
          "output_type": "execute_result",
          "data": {
            "text/html": [
              "<div>\n",
              "<style scoped>\n",
              "    .dataframe tbody tr th:only-of-type {\n",
              "        vertical-align: middle;\n",
              "    }\n",
              "\n",
              "    .dataframe tbody tr th {\n",
              "        vertical-align: top;\n",
              "    }\n",
              "\n",
              "    .dataframe thead th {\n",
              "        text-align: right;\n",
              "    }\n",
              "</style>\n",
              "<table border=\"1\" class=\"dataframe\">\n",
              "  <thead>\n",
              "    <tr style=\"text-align: right;\">\n",
              "      <th></th>\n",
              "      <th>actual</th>\n",
              "      <th>predicted</th>\n",
              "    </tr>\n",
              "  </thead>\n",
              "  <tbody>\n",
              "    <tr>\n",
              "      <th>0</th>\n",
              "      <td>0</td>\n",
              "      <td>0</td>\n",
              "    </tr>\n",
              "    <tr>\n",
              "      <th>1</th>\n",
              "      <td>1</td>\n",
              "      <td>1</td>\n",
              "    </tr>\n",
              "    <tr>\n",
              "      <th>2</th>\n",
              "      <td>0</td>\n",
              "      <td>0</td>\n",
              "    </tr>\n",
              "    <tr>\n",
              "      <th>3</th>\n",
              "      <td>0</td>\n",
              "      <td>0</td>\n",
              "    </tr>\n",
              "    <tr>\n",
              "      <th>4</th>\n",
              "      <td>1</td>\n",
              "      <td>1</td>\n",
              "    </tr>\n",
              "    <tr>\n",
              "      <th>...</th>\n",
              "      <td>...</td>\n",
              "      <td>...</td>\n",
              "    </tr>\n",
              "    <tr>\n",
              "      <th>1553</th>\n",
              "      <td>1</td>\n",
              "      <td>1</td>\n",
              "    </tr>\n",
              "    <tr>\n",
              "      <th>1554</th>\n",
              "      <td>0</td>\n",
              "      <td>0</td>\n",
              "    </tr>\n",
              "    <tr>\n",
              "      <th>1555</th>\n",
              "      <td>0</td>\n",
              "      <td>0</td>\n",
              "    </tr>\n",
              "    <tr>\n",
              "      <th>1556</th>\n",
              "      <td>1</td>\n",
              "      <td>1</td>\n",
              "    </tr>\n",
              "    <tr>\n",
              "      <th>1557</th>\n",
              "      <td>1</td>\n",
              "      <td>1</td>\n",
              "    </tr>\n",
              "  </tbody>\n",
              "</table>\n",
              "<p>1558 rows × 2 columns</p>\n",
              "</div>"
            ],
            "text/plain": [
              "      actual  predicted\n",
              "0          0          0\n",
              "1          1          1\n",
              "2          0          0\n",
              "3          0          0\n",
              "4          1          1\n",
              "...      ...        ...\n",
              "1553       1          1\n",
              "1554       0          0\n",
              "1555       0          0\n",
              "1556       1          1\n",
              "1557       1          1\n",
              "\n",
              "[1558 rows x 2 columns]"
            ]
          },
          "metadata": {
            "tags": []
          },
          "execution_count": 13
        }
      ]
    },
    {
      "cell_type": "code",
      "metadata": {
        "colab": {
          "base_uri": "https://localhost:8080/"
        },
        "id": "vq4JdfQJCrs8",
        "outputId": "261f3232-4903-4f61-e76f-04869c5b23cb"
      },
      "source": [
        "#1074 вредности биле 0 и се предвиделе како 0, 2 вредности биле 0 и се предвиделе како 1\n",
        "#0 вредности биле 1 и се предвиделе како 0, 482 вредности биле 1 и се предвиделе како 1\n",
        "confusion_matrix = pd.crosstab(result_data['actual'], result_data['predicted'], rownames={'Actual'},\n",
        "                               colnames=['Predicted'])\n",
        "print(confusion_matrix) "
      ],
      "execution_count": null,
      "outputs": [
        {
          "output_type": "stream",
          "text": [
            "Predicted     0    1\n",
            "Actual              \n",
            "0          1074    2\n",
            "1             0  482\n"
          ],
          "name": "stdout"
        }
      ]
    },
    {
      "cell_type": "code",
      "metadata": {
        "colab": {
          "base_uri": "https://localhost:8080/",
          "height": 278
        },
        "id": "1-Rh1tAVDgY4",
        "outputId": "5e25502f-8292-4e60-9027-acb28f266eb9"
      },
      "source": [
        "sns.heatmap(confusion_matrix, annot=True)\n",
        "plt.show()"
      ],
      "execution_count": null,
      "outputs": [
        {
          "output_type": "display_data",
          "data": {
            "image/png": "[encoded data removed]",
            "text/plain": [
              "<Figure size 432x288 with 2 Axes>"
            ]
          },
          "metadata": {
            "tags": [],
            "needs_background": "light"
          }
        }
      ]
    },
    {
      "cell_type": "code",
      "metadata": {
        "colab": {
          "base_uri": "https://localhost:8080/"
        },
        "id": "QJGiE77mDnVg",
        "outputId": "0a0278b5-a856-4cb6-e98f-4d9c79da6461"
      },
      "source": [
        "#Оваа метрика пресметува точност на подмножество. \n",
        "#Резултатот од тестот е 0.9987 од максимална вредност 1. \n",
        "accuracy_score(result_data['actual'], result_data['predicted']) "
      ],
      "execution_count": null,
      "outputs": [
        {
          "output_type": "execute_result",
          "data": {
            "text/plain": [
              "0.9987163029525032"
            ]
          },
          "metadata": {
            "tags": []
          },
          "execution_count": 16
        }
      ]
    },
    {
      "cell_type": "code",
      "metadata": {
        "colab": {
          "base_uri": "https://localhost:8080/"
        },
        "id": "r85x-vvjDyUR",
        "outputId": "408352b9-5c8d-4983-943f-0cf604cc99f4"
      },
      "source": [
        "#Покажува просечна точност на предвидениот резултат.\n",
        "#Резултатот од тестот е 0.995 од максимална вредност 1.\n",
        "precision_score(result_data['actual'], result_data['predicted']) "
      ],
      "execution_count": null,
      "outputs": [
        {
          "output_type": "execute_result",
          "data": {
            "text/plain": [
              "0.9958677685950413"
            ]
          },
          "metadata": {
            "tags": []
          },
          "execution_count": 17
        }
      ]
    },
    {
      "cell_type": "code",
      "metadata": {
        "colab": {
          "base_uri": "https://localhost:8080/"
        },
        "id": "epiJXZSsD8gP",
        "outputId": "0ad3430e-16b3-4123-a202-ca7fd661d69c"
      },
      "source": [
        "#Го споредува односот помеѓу точните позитивни и лажните негативни. Со помош на оваа формула се пресметува tp / (tp + fn).\n",
        "#Резултатот од тестот е 1 од максимална вредност 1.\n",
        "recall_score(result_data['actual'], result_data['predicted'])"
      ],
      "execution_count": null,
      "outputs": [
        {
          "output_type": "execute_result",
          "data": {
            "text/plain": [
              "1.0"
            ]
          },
          "metadata": {
            "tags": []
          },
          "execution_count": 18
        }
      ]
    },
    {
      "cell_type": "code",
      "metadata": {
        "colab": {
          "base_uri": "https://localhost:8080/"
        },
        "id": "nXBnvwICD_b5",
        "outputId": "1613a96d-0940-423b-d4f0-a43a1386742f"
      },
      "source": [
        "#Резултатот Ф1 може да се толкува како пондериран просек на прецизност и отповикување.\n",
        "#Резултатот од тестот е 0.998 од максимална вредност 1.\n",
        "f1_score(result_data['actual'], result_data['predicted'])"
      ],
      "execution_count": null,
      "outputs": [
        {
          "output_type": "execute_result",
          "data": {
            "text/plain": [
              "0.9979296066252588"
            ]
          },
          "metadata": {
            "tags": []
          },
          "execution_count": 19
        }
      ]
    },
    {
      "cell_type": "code",
      "metadata": {
        "colab": {
          "base_uri": "https://localhost:8080/",
          "height": 278
        },
        "id": "6yR-ovTaEBWl",
        "outputId": "a30afdd0-7f95-4882-f3e8-2b5652b30e3c"
      },
      "source": [
        "#Крива која ја покажува прецизноста на DecisionTreeClassifier \n",
        "plot_roc_curve(dt, X_test, Y_test)\n",
        "plt.show()"
      ],
      "execution_count": null,
      "outputs": [
        {
          "output_type": "display_data",
          "data": {
            "image/png": "[encoded data removed]",
            "text/plain": [
              "<Figure size 432x288 with 1 Axes>"
            ]
          },
          "metadata": {
            "tags": [],
            "needs_background": "light"
          }
        }
      ]
    }
  ]
}