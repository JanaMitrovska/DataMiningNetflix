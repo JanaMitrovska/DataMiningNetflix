{
  "nbformat": 4,
  "nbformat_minor": 0,
  "metadata": {
    "colab": {
      "name": "lab4_PR.ipynb",
      "provenance": [],
      "collapsed_sections": [
        "aiwhB0TQcwC3"
      ],
      "toc_visible": true
    },
    "kernelspec": {
      "name": "python3",
      "display_name": "Python 3"
    },
    "language_info": {
      "name": "python"
    }
  },
  "cells": [
    {
      "cell_type": "markdown",
      "metadata": {
        "id": "mjvw_vssckHH"
      },
      "source": [
        "Четврта лабораториска вежба по предметот Податочно рударство\n",
        "\n",
        "Изработиле: Јана Митровска (181080) и Бојан Петрушевски (162012)\n",
        "\n",
        "Тема: KNN класификација и/или регресија"
      ]
    },
    {
      "cell_type": "markdown",
      "metadata": {
        "id": "aiwhB0TQcwC3"
      },
      "source": [
        "# **Reading the dataset**"
      ]
    },
    {
      "cell_type": "code",
      "metadata": {
        "id": "KCBZaPoIcgX2"
      },
      "source": [
        "import pandas as pd\n",
        "import numpy as np\n",
        "import sklearn \n",
        "import matplotlib.pyplot as plt\n",
        "import seaborn as sns\n",
        "\n",
        "from math import sqrt\n",
        "from sklearn.tree import DecisionTreeClassifier\n",
        "from sklearn.model_selection import train_test_split, LeaveOneOut, cross_val_score, cross_validate\n",
        "from sklearn.preprocessing import LabelEncoder, StandardScaler\n",
        "from sklearn.metrics import accuracy_score, precision_score, recall_score, f1_score, plot_roc_curve, classification_report, confusion_matrix, mean_squared_error\n",
        "from sklearn.neighbors import KNeighborsClassifier, KNeighborsRegressor"
      ],
      "execution_count": null,
      "outputs": []
    },
    {
      "cell_type": "code",
      "metadata": {
        "id": "4ZG_WCA7c8ch"
      },
      "source": [
        "data = pd.read_csv('/content/drive/MyDrive/netflix.csv')"
      ],
      "execution_count": null,
      "outputs": []
    },
    {
      "cell_type": "code",
      "metadata": {
        "colab": {
          "base_uri": "https://localhost:8080/",
          "height": 190
        },
        "id": "hQ294-HsdFuL",
        "outputId": "947bd039-0b53-48a4-e659-dc971d3e001d"
      },
      "source": [
        "data.head()"
      ],
      "execution_count": null,
      "outputs": [
        {
          "output_type": "execute_result",
          "data": {
            "text/html": [
              "<div>\n",
              "<style scoped>\n",
              "    .dataframe tbody tr th:only-of-type {\n",
              "        vertical-align: middle;\n",
              "    }\n",
              "\n",
              "    .dataframe tbody tr th {\n",
              "        vertical-align: top;\n",
              "    }\n",
              "\n",
              "    .dataframe thead th {\n",
              "        text-align: right;\n",
              "    }\n",
              "</style>\n",
              "<table border=\"1\" class=\"dataframe\">\n",
              "  <thead>\n",
              "    <tr style=\"text-align: right;\">\n",
              "      <th></th>\n",
              "      <th>show_id</th>\n",
              "      <th>type</th>\n",
              "      <th>title</th>\n",
              "      <th>director</th>\n",
              "      <th>cast</th>\n",
              "      <th>country</th>\n",
              "      <th>date_added</th>\n",
              "      <th>release_year</th>\n",
              "      <th>rating</th>\n",
              "      <th>duration</th>\n",
              "      <th>listed_in</th>\n",
              "      <th>description</th>\n",
              "    </tr>\n",
              "  </thead>\n",
              "  <tbody>\n",
              "    <tr>\n",
              "      <th>0</th>\n",
              "      <td>s1</td>\n",
              "      <td>TV Show</td>\n",
              "      <td>3%</td>\n",
              "      <td>Unknown</td>\n",
              "      <td>João Miguel, Bianca Comparato, Michel Gomes, R...</td>\n",
              "      <td>Brazil</td>\n",
              "      <td>14-Aug-20</td>\n",
              "      <td>2020</td>\n",
              "      <td>TV-MA</td>\n",
              "      <td>4</td>\n",
              "      <td>International TV Shows, TV Dramas, TV Sci-Fi &amp;...</td>\n",
              "      <td>In a future where the elite inhabit an island ...</td>\n",
              "    </tr>\n",
              "    <tr>\n",
              "      <th>1</th>\n",
              "      <td>s2</td>\n",
              "      <td>Movie</td>\n",
              "      <td>7:19</td>\n",
              "      <td>Jorge Michel Grau</td>\n",
              "      <td>Demián Bichir, Héctor Bonilla, Oscar Serrano, ...</td>\n",
              "      <td>Mexico</td>\n",
              "      <td>23-Dec-16</td>\n",
              "      <td>2016</td>\n",
              "      <td>TV-MA</td>\n",
              "      <td>93</td>\n",
              "      <td>Dramas, International Movies</td>\n",
              "      <td>After a devastating earthquake hits Mexico Cit...</td>\n",
              "    </tr>\n",
              "    <tr>\n",
              "      <th>2</th>\n",
              "      <td>s3</td>\n",
              "      <td>Movie</td>\n",
              "      <td>23:59</td>\n",
              "      <td>Gilbert Chan</td>\n",
              "      <td>Tedd Chan, Stella Chung, Henley Hii, Lawrence ...</td>\n",
              "      <td>Singapore</td>\n",
              "      <td>20-Dec-18</td>\n",
              "      <td>2011</td>\n",
              "      <td>R</td>\n",
              "      <td>78</td>\n",
              "      <td>Horror Movies, International Movies</td>\n",
              "      <td>When an army recruit is found dead, his fellow...</td>\n",
              "    </tr>\n",
              "    <tr>\n",
              "      <th>3</th>\n",
              "      <td>s4</td>\n",
              "      <td>Movie</td>\n",
              "      <td>9</td>\n",
              "      <td>Shane Acker</td>\n",
              "      <td>Elijah Wood, John C. Reilly, Jennifer Connelly...</td>\n",
              "      <td>United States</td>\n",
              "      <td>16-Nov-17</td>\n",
              "      <td>2009</td>\n",
              "      <td>PG-13</td>\n",
              "      <td>80</td>\n",
              "      <td>Action &amp; Adventure, Independent Movies, Sci-Fi...</td>\n",
              "      <td>In a postapocalyptic world, rag-doll robots hi...</td>\n",
              "    </tr>\n",
              "    <tr>\n",
              "      <th>4</th>\n",
              "      <td>s5</td>\n",
              "      <td>Movie</td>\n",
              "      <td>21</td>\n",
              "      <td>Robert Luketic</td>\n",
              "      <td>Jim Sturgess, Kevin Spacey, Kate Bosworth, Aar...</td>\n",
              "      <td>United States</td>\n",
              "      <td>1-Jan-20</td>\n",
              "      <td>2008</td>\n",
              "      <td>PG-13</td>\n",
              "      <td>123</td>\n",
              "      <td>Dramas</td>\n",
              "      <td>A brilliant group of students become card-coun...</td>\n",
              "    </tr>\n",
              "  </tbody>\n",
              "</table>\n",
              "</div>"
            ],
            "text/plain": [
              "  show_id  ...                                        description\n",
              "0      s1  ...  In a future where the elite inhabit an island ...\n",
              "1      s2  ...  After a devastating earthquake hits Mexico Cit...\n",
              "2      s3  ...  When an army recruit is found dead, his fellow...\n",
              "3      s4  ...  In a postapocalyptic world, rag-doll robots hi...\n",
              "4      s5  ...  A brilliant group of students become card-coun...\n",
              "\n",
              "[5 rows x 12 columns]"
            ]
          },
          "metadata": {
            "tags": []
          },
          "execution_count": 3
        }
      ]
    },
    {
      "cell_type": "markdown",
      "metadata": {
        "id": "7w8s9T7RdIfv"
      },
      "source": [
        "# **Building the Model**"
      ]
    },
    {
      "cell_type": "code",
      "metadata": {
        "id": "AuaDE6WwdLWm"
      },
      "source": [
        "data_encoded = data.apply(LabelEncoder().fit_transform)"
      ],
      "execution_count": null,
      "outputs": []
    },
    {
      "cell_type": "code",
      "metadata": {
        "id": "lDCz8pEjd0yw"
      },
      "source": [
        "X = data_encoded.drop(['type'], axis = 1)\n",
        "Y = data_encoded.type.values"
      ],
      "execution_count": null,
      "outputs": []
    },
    {
      "cell_type": "code",
      "metadata": {
        "id": "9p9RUguHdoVZ"
      },
      "source": [
        "scaler = StandardScaler()\n",
        "scaler.fit(X)\n",
        "X = scaler.transform(X)"
      ],
      "execution_count": null,
      "outputs": []
    },
    {
      "cell_type": "code",
      "metadata": {
        "id": "Rpnsqy8cd7F0"
      },
      "source": [
        "X_train, X_test, Y_train, Y_test = train_test_split(X,Y)"
      ],
      "execution_count": null,
      "outputs": []
    },
    {
      "cell_type": "code",
      "metadata": {
        "id": "r_G2VY6OeCn6"
      },
      "source": [
        "#Скалирање на податоците\n",
        "X_train = scaler.transform(X_train)\n",
        "X_test = scaler.transform(X_test)"
      ],
      "execution_count": null,
      "outputs": []
    },
    {
      "cell_type": "markdown",
      "metadata": {
        "id": "kXVQpb4Bd-Kp"
      },
      "source": [
        "# **KNN Model**"
      ]
    },
    {
      "cell_type": "code",
      "metadata": {
        "colab": {
          "base_uri": "https://localhost:8080/"
        },
        "id": "t0Ziyk4ueBCa",
        "outputId": "df2fbca7-9b37-407b-bc6c-dab90943ac99"
      },
      "source": [
        "#Креирање на KNN classifier и ги фитуваме X_train, Y_train во моделот\n",
        "knn_classifier = KNeighborsClassifier(n_neighbors=10)\n",
        "knn_classifier.fit(X_train, Y_train)"
      ],
      "execution_count": null,
      "outputs": [
        {
          "output_type": "execute_result",
          "data": {
            "text/plain": [
              "KNeighborsClassifier(algorithm='auto', leaf_size=30, metric='minkowski',\n",
              "                     metric_params=None, n_jobs=None, n_neighbors=10, p=2,\n",
              "                     weights='uniform')"
            ]
          },
          "metadata": {
            "tags": []
          },
          "execution_count": 39
        }
      ]
    },
    {
      "cell_type": "code",
      "metadata": {
        "id": "b6QADSRveaRU"
      },
      "source": [
        "#Правиме предикција на моделот\n",
        "y_pred = knn_classifier.predict(X_test)"
      ],
      "execution_count": null,
      "outputs": []
    },
    {
      "cell_type": "code",
      "metadata": {
        "colab": {
          "base_uri": "https://localhost:8080/"
        },
        "id": "Vnb5JiXvef-J",
        "outputId": "dd074de5-78a4-4ac8-b302-0178a9911c79"
      },
      "source": [
        "#Анализирање на резултатите на предикциите во однос на моделот.\n",
        "#1326 податоци се предвиделе како 1 и биле 1, 28 се предвиделе како 1 и биле 0\n",
        "#26 податоци биле 0 и се предвиделе како 1, 567 податоци се предвиделе како 0 и биле 0 \n",
        "print(confusion_matrix(Y_test, y_pred))\n",
        "print(classification_report(Y_test, y_pred))"
      ],
      "execution_count": null,
      "outputs": [
        {
          "output_type": "stream",
          "text": [
            "[[1326   28]\n",
            " [  26  567]]\n",
            "              precision    recall  f1-score   support\n",
            "\n",
            "           0       0.98      0.98      0.98      1354\n",
            "           1       0.95      0.96      0.95       593\n",
            "\n",
            "    accuracy                           0.97      1947\n",
            "   macro avg       0.97      0.97      0.97      1947\n",
            "weighted avg       0.97      0.97      0.97      1947\n",
            "\n"
          ],
          "name": "stdout"
        }
      ]
    },
    {
      "cell_type": "code",
      "metadata": {
        "id": "UbbypYj9et0M"
      },
      "source": [
        "error = []\n",
        "\n",
        "for i in range (1,40):\n",
        "  knn = KNeighborsClassifier(n_neighbors=i)\n",
        "  knn.fit(X_train,Y_train)\n",
        "  pred_i = knn.predict(X_test)\n",
        "  error.append(np.mean(pred_i != Y_test))"
      ],
      "execution_count": null,
      "outputs": []
    },
    {
      "cell_type": "code",
      "metadata": {
        "colab": {
          "base_uri": "https://localhost:8080/",
          "height": 421
        },
        "id": "I6v7MBhffI2t",
        "outputId": "d8d7ce85-3313-44ae-fcc1-b0986aaaeed2"
      },
      "source": [
        "#Анализа и графичко претставување на средната грешка на моделот за КНН класификаторот\n",
        "plt.figure(figsize=(12,6))\n",
        "plt.plot(range(1,40), error, color='red', linestyle='dashed', marker='o', markerfacecolor='blue', markersize=10)\n",
        "plt.title('Error rate K value')\n",
        "plt.xlabel('K value')\n",
        "plt.ylabel('Mean Error')"
      ],
      "execution_count": null,
      "outputs": [
        {
          "output_type": "execute_result",
          "data": {
            "text/plain": [
              "Text(0, 0.5, 'Mean Error')"
            ]
          },
          "metadata": {
            "tags": []
          },
          "execution_count": 43
        },
        {
          "output_type": "display_data",
          "data": {
            "image/png": "[encoded data removed]",
            "text/plain": [
              "<Figure size 864x432 with 1 Axes>"
            ]
          },
          "metadata": {
            "tags": [],
            "needs_background": "light"
          }
        }
      ]
    },
    {
      "cell_type": "code",
      "metadata": {
        "id": "zKXcMe8OfpjE"
      },
      "source": [
        "error2 = []\n",
        "\n",
        "for i in range (1,40):\n",
        "  knn = KNeighborsClassifier(n_neighbors=i, metric=\"cosine\")\n",
        "  knn.fit(X_train,Y_train)\n",
        "  pred_i = knn.predict(X_test)\n",
        "  error2.append(np.mean(pred_i != Y_test))"
      ],
      "execution_count": null,
      "outputs": []
    },
    {
      "cell_type": "code",
      "metadata": {
        "colab": {
          "base_uri": "https://localhost:8080/",
          "height": 421
        },
        "id": "wzbvm4a0gy9S",
        "outputId": "b1726735-d084-498a-b83d-f159c5925871"
      },
      "source": [
        "#Анализа и графичко претставување на средната грешка на моделот за КНН класификаторот со косинусна метрика\n",
        "plt.figure(figsize=(12,6))\n",
        "plt.plot(range(1,40), error2, color='green', linestyle='dashed', marker='o', markerfacecolor='yellow', markersize=10)\n",
        "\n",
        "plt.title('Error rate K value')\n",
        "plt.xlabel('K value')\n",
        "plt.ylabel('Mean Error')"
      ],
      "execution_count": null,
      "outputs": [
        {
          "output_type": "execute_result",
          "data": {
            "text/plain": [
              "Text(0, 0.5, 'Mean Error')"
            ]
          },
          "metadata": {
            "tags": []
          },
          "execution_count": 56
        },
        {
          "output_type": "display_data",
          "data": {
            "image/png": "[encoded data removed]",
            "text/plain": [
              "<Figure size 864x432 with 1 Axes>"
            ]
          },
          "metadata": {
            "tags": [],
            "needs_background": "light"
          }
        }
      ]
    }
  ]
}