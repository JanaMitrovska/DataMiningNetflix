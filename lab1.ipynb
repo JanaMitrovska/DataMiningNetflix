{
  "nbformat": 4,
  "nbformat_minor": 0,
  "metadata": {
    "colab": {
      "name": "lab1_PR.ipynb",
      "provenance": [],
      "collapsed_sections": [
        "8x0Dx3EKkWDc",
        "tGpmf725LXMe",
        "ptNH7Hp9ixTF"
      ]
    },
    "kernelspec": {
      "name": "python3",
      "display_name": "Python 3"
    },
    "language_info": {
      "name": "python"
    }
  },
  "cells": [
    {
      "cell_type": "markdown",
      "metadata": {
        "id": "XAraDDbfUkrS"
      },
      "source": [
        "Прва лабораториска вежба по предметот Податочно рударство\n",
        "\n",
        "Изработиле: Јана Митровска (181080) и Бојан Петрушевски (162012)\n",
        "\n",
        "Податочно множество:https://www.kaggle.com/shivamb/netflix-shows?fbclid=IwAR3RCykh-quPVzPLlD2RgxkjVsnwgCZcNu9Va6O9Vp1j7S5gP77AFEiC044\n",
        "\n",
        "Тема: EDA"
      ]
    },
    {
      "cell_type": "markdown",
      "metadata": {
        "id": "8x0Dx3EKkWDc"
      },
      "source": [
        "# **Reading the dataset**"
      ]
    },
    {
      "cell_type": "code",
      "metadata": {
        "colab": {
          "base_uri": "https://localhost:8080/"
        },
        "id": "jQBDHqWT8ChJ",
        "outputId": "5dac1c9b-dcea-4c74-d41a-d256c691c303"
      },
      "source": [
        "from google.colab import drive\n",
        "drive.mount('/content/drive')"
      ],
      "execution_count": 15,
      "outputs": [
        {
          "output_type": "stream",
          "text": [
            "Drive already mounted at /content/drive; to attempt to forcibly remount, call drive.mount(\"/content/drive\", force_remount=True).\n"
          ],
          "name": "stdout"
        }
      ]
    },
    {
      "cell_type": "code",
      "metadata": {
        "id": "brGtVm3QPapx"
      },
      "source": [
        "import pandas as pd\n",
        "import numpy as np\n",
        "\n",
        "data = pd.read_csv('/content/drive/MyDrive/netflix_titles.csv')"
      ],
      "execution_count": 16,
      "outputs": []
    },
    {
      "cell_type": "code",
      "metadata": {
        "colab": {
          "base_uri": "https://localhost:8080/",
          "height": 190
        },
        "id": "p6WZA2DSQ4W-",
        "outputId": "01a8e862-768a-40f2-e09b-68b8f8a55d3f"
      },
      "source": [
        "data.head()"
      ],
      "execution_count": 17,
      "outputs": [
        {
          "output_type": "execute_result",
          "data": {
            "text/html": [
              "<div>\n",
              "<style scoped>\n",
              "    .dataframe tbody tr th:only-of-type {\n",
              "        vertical-align: middle;\n",
              "    }\n",
              "\n",
              "    .dataframe tbody tr th {\n",
              "        vertical-align: top;\n",
              "    }\n",
              "\n",
              "    .dataframe thead th {\n",
              "        text-align: right;\n",
              "    }\n",
              "</style>\n",
              "<table border=\"1\" class=\"dataframe\">\n",
              "  <thead>\n",
              "    <tr style=\"text-align: right;\">\n",
              "      <th></th>\n",
              "      <th>show_id</th>\n",
              "      <th>type</th>\n",
              "      <th>title</th>\n",
              "      <th>director</th>\n",
              "      <th>cast</th>\n",
              "      <th>country</th>\n",
              "      <th>date_added</th>\n",
              "      <th>release_year</th>\n",
              "      <th>rating</th>\n",
              "      <th>duration</th>\n",
              "      <th>listed_in</th>\n",
              "      <th>description</th>\n",
              "    </tr>\n",
              "  </thead>\n",
              "  <tbody>\n",
              "    <tr>\n",
              "      <th>0</th>\n",
              "      <td>s1</td>\n",
              "      <td>TV Show</td>\n",
              "      <td>3%</td>\n",
              "      <td>NaN</td>\n",
              "      <td>João Miguel, Bianca Comparato, Michel Gomes, R...</td>\n",
              "      <td>Brazil</td>\n",
              "      <td>August 14, 2020</td>\n",
              "      <td>2020</td>\n",
              "      <td>TV-MA</td>\n",
              "      <td>4 Seasons</td>\n",
              "      <td>International TV Shows, TV Dramas, TV Sci-Fi &amp;...</td>\n",
              "      <td>In a future where the elite inhabit an island ...</td>\n",
              "    </tr>\n",
              "    <tr>\n",
              "      <th>1</th>\n",
              "      <td>s2</td>\n",
              "      <td>Movie</td>\n",
              "      <td>7:19</td>\n",
              "      <td>Jorge Michel Grau</td>\n",
              "      <td>Demián Bichir, Héctor Bonilla, Oscar Serrano, ...</td>\n",
              "      <td>Mexico</td>\n",
              "      <td>December 23, 2016</td>\n",
              "      <td>2016</td>\n",
              "      <td>TV-MA</td>\n",
              "      <td>93 min</td>\n",
              "      <td>Dramas, International Movies</td>\n",
              "      <td>After a devastating earthquake hits Mexico Cit...</td>\n",
              "    </tr>\n",
              "    <tr>\n",
              "      <th>2</th>\n",
              "      <td>s3</td>\n",
              "      <td>Movie</td>\n",
              "      <td>23:59</td>\n",
              "      <td>Gilbert Chan</td>\n",
              "      <td>Tedd Chan, Stella Chung, Henley Hii, Lawrence ...</td>\n",
              "      <td>Singapore</td>\n",
              "      <td>December 20, 2018</td>\n",
              "      <td>2011</td>\n",
              "      <td>R</td>\n",
              "      <td>78 min</td>\n",
              "      <td>Horror Movies, International Movies</td>\n",
              "      <td>When an army recruit is found dead, his fellow...</td>\n",
              "    </tr>\n",
              "    <tr>\n",
              "      <th>3</th>\n",
              "      <td>s4</td>\n",
              "      <td>Movie</td>\n",
              "      <td>9</td>\n",
              "      <td>Shane Acker</td>\n",
              "      <td>Elijah Wood, John C. Reilly, Jennifer Connelly...</td>\n",
              "      <td>United States</td>\n",
              "      <td>November 16, 2017</td>\n",
              "      <td>2009</td>\n",
              "      <td>PG-13</td>\n",
              "      <td>80 min</td>\n",
              "      <td>Action &amp; Adventure, Independent Movies, Sci-Fi...</td>\n",
              "      <td>In a postapocalyptic world, rag-doll robots hi...</td>\n",
              "    </tr>\n",
              "    <tr>\n",
              "      <th>4</th>\n",
              "      <td>s5</td>\n",
              "      <td>Movie</td>\n",
              "      <td>21</td>\n",
              "      <td>Robert Luketic</td>\n",
              "      <td>Jim Sturgess, Kevin Spacey, Kate Bosworth, Aar...</td>\n",
              "      <td>United States</td>\n",
              "      <td>January 1, 2020</td>\n",
              "      <td>2008</td>\n",
              "      <td>PG-13</td>\n",
              "      <td>123 min</td>\n",
              "      <td>Dramas</td>\n",
              "      <td>A brilliant group of students become card-coun...</td>\n",
              "    </tr>\n",
              "  </tbody>\n",
              "</table>\n",
              "</div>"
            ],
            "text/plain": [
              "  show_id  ...                                        description\n",
              "0      s1  ...  In a future where the elite inhabit an island ...\n",
              "1      s2  ...  After a devastating earthquake hits Mexico Cit...\n",
              "2      s3  ...  When an army recruit is found dead, his fellow...\n",
              "3      s4  ...  In a postapocalyptic world, rag-doll robots hi...\n",
              "4      s5  ...  A brilliant group of students become card-coun...\n",
              "\n",
              "[5 rows x 12 columns]"
            ]
          },
          "metadata": {
            "tags": []
          },
          "execution_count": 17
        }
      ]
    },
    {
      "cell_type": "code",
      "metadata": {
        "colab": {
          "base_uri": "https://localhost:8080/"
        },
        "id": "a0bAKngBUR4l",
        "outputId": "d971d23f-3ccc-486e-a466-3d3924812efe"
      },
      "source": [
        "data.describe"
      ],
      "execution_count": 18,
      "outputs": [
        {
          "output_type": "execute_result",
          "data": {
            "text/plain": [
              "<bound method NDFrame.describe of      show_id  ...                                        description\n",
              "0         s1  ...  In a future where the elite inhabit an island ...\n",
              "1         s2  ...  After a devastating earthquake hits Mexico Cit...\n",
              "2         s3  ...  When an army recruit is found dead, his fellow...\n",
              "3         s4  ...  In a postapocalyptic world, rag-doll robots hi...\n",
              "4         s5  ...  A brilliant group of students become card-coun...\n",
              "...      ...  ...                                                ...\n",
              "7782   s7783  ...  When Lebanon's Civil War deprives Zozo of his ...\n",
              "7783   s7784  ...  A scrappy but poor boy worms his way into a ty...\n",
              "7784   s7785  ...  In this documentary, South African rapper Nast...\n",
              "7785   s7786  ...  Dessert wizard Adriano Zumbo looks for the nex...\n",
              "7786   s7787  ...  This documentary delves into the mystique behi...\n",
              "\n",
              "[7787 rows x 12 columns]>"
            ]
          },
          "metadata": {
            "tags": []
          },
          "execution_count": 18
        }
      ]
    },
    {
      "cell_type": "code",
      "metadata": {
        "colab": {
          "base_uri": "https://localhost:8080/"
        },
        "id": "cAAaGKuhUWop",
        "outputId": "4ef0fc50-ebba-44c0-eabf-ac2c7846cdaf"
      },
      "source": [
        "data['rating'].value_counts()"
      ],
      "execution_count": 19,
      "outputs": [
        {
          "output_type": "execute_result",
          "data": {
            "text/plain": [
              "TV-MA       2863\n",
              "TV-14       1931\n",
              "TV-PG        806\n",
              "R            665\n",
              "PG-13        386\n",
              "TV-Y         280\n",
              "TV-Y7        271\n",
              "PG           247\n",
              "TV-G         194\n",
              "NR            84\n",
              "G             39\n",
              "TV-Y7-FV       6\n",
              "UR             5\n",
              "NC-17          3\n",
              "Name: rating, dtype: int64"
            ]
          },
          "metadata": {
            "tags": []
          },
          "execution_count": 19
        }
      ]
    },
    {
      "cell_type": "markdown",
      "metadata": {
        "id": "tGpmf725LXMe"
      },
      "source": [
        "# **Cleaning data and Missing values**"
      ]
    },
    {
      "cell_type": "code",
      "metadata": {
        "colab": {
          "base_uri": "https://localhost:8080/"
        },
        "id": "b5vpmPlLLGt4",
        "outputId": "21222033-597e-4974-fffd-512fb47d6d8d"
      },
      "source": [
        "data.info()"
      ],
      "execution_count": 20,
      "outputs": [
        {
          "output_type": "stream",
          "text": [
            "<class 'pandas.core.frame.DataFrame'>\n",
            "RangeIndex: 7787 entries, 0 to 7786\n",
            "Data columns (total 12 columns):\n",
            " #   Column        Non-Null Count  Dtype \n",
            "---  ------        --------------  ----- \n",
            " 0   show_id       7787 non-null   object\n",
            " 1   type          7787 non-null   object\n",
            " 2   title         7787 non-null   object\n",
            " 3   director      5398 non-null   object\n",
            " 4   cast          7069 non-null   object\n",
            " 5   country       7280 non-null   object\n",
            " 6   date_added    7777 non-null   object\n",
            " 7   release_year  7787 non-null   int64 \n",
            " 8   rating        7780 non-null   object\n",
            " 9   duration      7787 non-null   object\n",
            " 10  listed_in     7787 non-null   object\n",
            " 11  description   7787 non-null   object\n",
            "dtypes: int64(1), object(11)\n",
            "memory usage: 730.2+ KB\n"
          ],
          "name": "stdout"
        }
      ]
    },
    {
      "cell_type": "code",
      "metadata": {
        "colab": {
          "base_uri": "https://localhost:8080/"
        },
        "id": "m1kAhDc3MRu1",
        "outputId": "6c887aa3-5617-4a78-bde2-ecdd99829a9f"
      },
      "source": [
        "#replacing null values with UR (unrated)\n",
        "data['rating'] = data['rating'].fillna('UR')\n",
        "data['rating'].unique()"
      ],
      "execution_count": 21,
      "outputs": [
        {
          "output_type": "execute_result",
          "data": {
            "text/plain": [
              "array(['TV-MA', 'R', 'PG-13', 'TV-14', 'TV-PG', 'NR', 'TV-G', 'TV-Y',\n",
              "       'UR', 'TV-Y7', 'PG', 'G', 'NC-17', 'TV-Y7-FV'], dtype=object)"
            ]
          },
          "metadata": {
            "tags": []
          },
          "execution_count": 21
        }
      ]
    },
    {
      "cell_type": "code",
      "metadata": {
        "colab": {
          "base_uri": "https://localhost:8080/"
        },
        "id": "u5qmesj6NLEh",
        "outputId": "df33f5c8-3c68-4994-cdbd-74bd2a53ed81"
      },
      "source": [
        "data['director'] = data['director'].fillna('Unknown')\n",
        "data['director'] = [countries[0] for countries in data['director'].str.split(',')]\n",
        "data['director'].unique()"
      ],
      "execution_count": 22,
      "outputs": [
        {
          "output_type": "execute_result",
          "data": {
            "text/plain": [
              "array(['Unknown', 'Jorge Michel Grau', 'Gilbert Chan', ...,\n",
              "       'Peter Hewitt', 'Josef Fares', 'Mozez Singh'], dtype=object)"
            ]
          },
          "metadata": {
            "tags": []
          },
          "execution_count": 22
        }
      ]
    },
    {
      "cell_type": "code",
      "metadata": {
        "colab": {
          "base_uri": "https://localhost:8080/"
        },
        "id": "5WqaxjUuMG48",
        "outputId": "0cdf351d-3d87-405c-cadf-71ff8ff6bd3c"
      },
      "source": [
        "data['country'] = data['country'].fillna('Unknown')\n",
        "data['country'] = [countries[0] for countries in data['country'].str.split(',')]\n",
        "data['country'].unique()"
      ],
      "execution_count": 23,
      "outputs": [
        {
          "output_type": "execute_result",
          "data": {
            "text/plain": [
              "array(['Brazil', 'Mexico', 'Singapore', 'United States', 'Turkey',\n",
              "       'Egypt', 'India', 'Poland', 'Thailand', 'Nigeria', 'Unknown',\n",
              "       'Norway', 'United Kingdom', 'Japan', 'South Korea', 'Italy',\n",
              "       'Canada', 'Indonesia', 'Romania', 'Spain', 'Iceland',\n",
              "       'South Africa', 'France', 'Portugal', 'Hong Kong', 'Argentina',\n",
              "       'Germany', 'Denmark', 'Kenya', 'New Zealand', 'Pakistan',\n",
              "       'Australia', 'China', 'Taiwan', 'Netherlands', 'Philippines',\n",
              "       'United Arab Emirates', 'Iran', 'Israel', 'Uruguay', 'Bulgaria',\n",
              "       'Mauritius', 'Lebanon', 'Colombia', 'Soviet Union', 'Sweden',\n",
              "       'Malaysia', 'Ireland', 'Serbia', 'Finland', 'Peru', 'Chile',\n",
              "       'Ghana', 'Saudi Arabia', 'Namibia', 'Russia', 'Belgium', 'Vietnam',\n",
              "       'Kuwait', 'Czech Republic', 'Zimbabwe', 'Hungary', 'Venezuela',\n",
              "       'Cambodia', 'Austria', 'West Germany', 'Slovenia', 'Switzerland',\n",
              "       'Jordan', 'Bangladesh', 'Georgia', 'Puerto Rico', 'Senegal',\n",
              "       'Guatemala', 'Ukraine', 'Jamaica', 'Belarus', 'Cyprus', 'Greece',\n",
              "       'Paraguay', 'Croatia', 'Somalia'], dtype=object)"
            ]
          },
          "metadata": {
            "tags": []
          },
          "execution_count": 23
        }
      ]
    },
    {
      "cell_type": "code",
      "metadata": {
        "colab": {
          "base_uri": "https://localhost:8080/"
        },
        "id": "HMcd4xfOM7lf",
        "outputId": "b9f39576-9699-4dce-aacd-251ad2a5cd0b"
      },
      "source": [
        "data['duration'] = [int(duration[0]) for duration in data['duration'].str.split(' ')]\n",
        "data['duration']"
      ],
      "execution_count": 24,
      "outputs": [
        {
          "output_type": "execute_result",
          "data": {
            "text/plain": [
              "0         4\n",
              "1        93\n",
              "2        78\n",
              "3        80\n",
              "4       123\n",
              "       ... \n",
              "7782     99\n",
              "7783    111\n",
              "7784     44\n",
              "7785      1\n",
              "7786     90\n",
              "Name: duration, Length: 7787, dtype: int64"
            ]
          },
          "metadata": {
            "tags": []
          },
          "execution_count": 24
        }
      ]
    },
    {
      "cell_type": "code",
      "metadata": {
        "colab": {
          "base_uri": "https://localhost:8080/",
          "height": 190
        },
        "id": "K1p5p6kaMFLE",
        "outputId": "5ead4edf-8eaa-4808-d6e2-2a826d578197"
      },
      "source": [
        "data.head()"
      ],
      "execution_count": 25,
      "outputs": [
        {
          "output_type": "execute_result",
          "data": {
            "text/html": [
              "<div>\n",
              "<style scoped>\n",
              "    .dataframe tbody tr th:only-of-type {\n",
              "        vertical-align: middle;\n",
              "    }\n",
              "\n",
              "    .dataframe tbody tr th {\n",
              "        vertical-align: top;\n",
              "    }\n",
              "\n",
              "    .dataframe thead th {\n",
              "        text-align: right;\n",
              "    }\n",
              "</style>\n",
              "<table border=\"1\" class=\"dataframe\">\n",
              "  <thead>\n",
              "    <tr style=\"text-align: right;\">\n",
              "      <th></th>\n",
              "      <th>show_id</th>\n",
              "      <th>type</th>\n",
              "      <th>title</th>\n",
              "      <th>director</th>\n",
              "      <th>cast</th>\n",
              "      <th>country</th>\n",
              "      <th>date_added</th>\n",
              "      <th>release_year</th>\n",
              "      <th>rating</th>\n",
              "      <th>duration</th>\n",
              "      <th>listed_in</th>\n",
              "      <th>description</th>\n",
              "    </tr>\n",
              "  </thead>\n",
              "  <tbody>\n",
              "    <tr>\n",
              "      <th>0</th>\n",
              "      <td>s1</td>\n",
              "      <td>TV Show</td>\n",
              "      <td>3%</td>\n",
              "      <td>Unknown</td>\n",
              "      <td>João Miguel, Bianca Comparato, Michel Gomes, R...</td>\n",
              "      <td>Brazil</td>\n",
              "      <td>August 14, 2020</td>\n",
              "      <td>2020</td>\n",
              "      <td>TV-MA</td>\n",
              "      <td>4</td>\n",
              "      <td>International TV Shows, TV Dramas, TV Sci-Fi &amp;...</td>\n",
              "      <td>In a future where the elite inhabit an island ...</td>\n",
              "    </tr>\n",
              "    <tr>\n",
              "      <th>1</th>\n",
              "      <td>s2</td>\n",
              "      <td>Movie</td>\n",
              "      <td>7:19</td>\n",
              "      <td>Jorge Michel Grau</td>\n",
              "      <td>Demián Bichir, Héctor Bonilla, Oscar Serrano, ...</td>\n",
              "      <td>Mexico</td>\n",
              "      <td>December 23, 2016</td>\n",
              "      <td>2016</td>\n",
              "      <td>TV-MA</td>\n",
              "      <td>93</td>\n",
              "      <td>Dramas, International Movies</td>\n",
              "      <td>After a devastating earthquake hits Mexico Cit...</td>\n",
              "    </tr>\n",
              "    <tr>\n",
              "      <th>2</th>\n",
              "      <td>s3</td>\n",
              "      <td>Movie</td>\n",
              "      <td>23:59</td>\n",
              "      <td>Gilbert Chan</td>\n",
              "      <td>Tedd Chan, Stella Chung, Henley Hii, Lawrence ...</td>\n",
              "      <td>Singapore</td>\n",
              "      <td>December 20, 2018</td>\n",
              "      <td>2011</td>\n",
              "      <td>R</td>\n",
              "      <td>78</td>\n",
              "      <td>Horror Movies, International Movies</td>\n",
              "      <td>When an army recruit is found dead, his fellow...</td>\n",
              "    </tr>\n",
              "    <tr>\n",
              "      <th>3</th>\n",
              "      <td>s4</td>\n",
              "      <td>Movie</td>\n",
              "      <td>9</td>\n",
              "      <td>Shane Acker</td>\n",
              "      <td>Elijah Wood, John C. Reilly, Jennifer Connelly...</td>\n",
              "      <td>United States</td>\n",
              "      <td>November 16, 2017</td>\n",
              "      <td>2009</td>\n",
              "      <td>PG-13</td>\n",
              "      <td>80</td>\n",
              "      <td>Action &amp; Adventure, Independent Movies, Sci-Fi...</td>\n",
              "      <td>In a postapocalyptic world, rag-doll robots hi...</td>\n",
              "    </tr>\n",
              "    <tr>\n",
              "      <th>4</th>\n",
              "      <td>s5</td>\n",
              "      <td>Movie</td>\n",
              "      <td>21</td>\n",
              "      <td>Robert Luketic</td>\n",
              "      <td>Jim Sturgess, Kevin Spacey, Kate Bosworth, Aar...</td>\n",
              "      <td>United States</td>\n",
              "      <td>January 1, 2020</td>\n",
              "      <td>2008</td>\n",
              "      <td>PG-13</td>\n",
              "      <td>123</td>\n",
              "      <td>Dramas</td>\n",
              "      <td>A brilliant group of students become card-coun...</td>\n",
              "    </tr>\n",
              "  </tbody>\n",
              "</table>\n",
              "</div>"
            ],
            "text/plain": [
              "  show_id  ...                                        description\n",
              "0      s1  ...  In a future where the elite inhabit an island ...\n",
              "1      s2  ...  After a devastating earthquake hits Mexico Cit...\n",
              "2      s3  ...  When an army recruit is found dead, his fellow...\n",
              "3      s4  ...  In a postapocalyptic world, rag-doll robots hi...\n",
              "4      s5  ...  A brilliant group of students become card-coun...\n",
              "\n",
              "[5 rows x 12 columns]"
            ]
          },
          "metadata": {
            "tags": []
          },
          "execution_count": 25
        }
      ]
    },
    {
      "cell_type": "code",
      "metadata": {
        "id": "L5saL-eG8oDL"
      },
      "source": [
        "data.to_csv('netflix.csv')"
      ],
      "execution_count": 26,
      "outputs": []
    },
    {
      "cell_type": "markdown",
      "metadata": {
        "id": "ptNH7Hp9ixTF"
      },
      "source": [
        "# **Visualizations**"
      ]
    },
    {
      "cell_type": "code",
      "metadata": {
        "colab": {
          "base_uri": "https://localhost:8080/",
          "height": 542
        },
        "id": "WodPW_mHLNEk",
        "outputId": "c64788aa-f869-42ec-9a73-6dbfd02f661f"
      },
      "source": [
        "import plotly.express as px\n",
        "import plotly.graph_objects as go\n",
        "\n",
        "fig = px.pie(values=data['type'].value_counts(), \n",
        "             names=data['type'].value_counts().index, \n",
        "             title='Number total of TV-Shows and Movies in Netflix')\n",
        "fig.show()"
      ],
      "execution_count": 27,
      "outputs": [
        {
          "output_type": "display_data",
          "data": {
            "text/html": [
              "<html>\n",
              "<head><meta charset=\"utf-8\" /></head>\n",
              "<body>\n",
              "    <div>\n",
              "            <script src=\"https://cdnjs.cloudflare.com/ajax/libs/mathjax/2.7.5/MathJax.js?config=TeX-AMS-MML_SVG\"></script><script type=\"text/javascript\">if (window.MathJax) {MathJax.Hub.Config({SVG: {font: \"STIX-Web\"}});}</script>\n",
              "                <script type=\"text/javascript\">window.PlotlyConfig = {MathJaxConfig: 'local'};</script>\n",
              "        <script src=\"https://cdn.plot.ly/plotly-latest.min.js\"></script>    \n",
              "            <div id=\"6b65ef1f-c504-459d-ae95-8ac92f2b6a38\" class=\"plotly-graph-div\" style=\"height:525px; width:100%;\"></div>\n",
              "            <script type=\"text/javascript\">\n",
              "                \n",
              "                    window.PLOTLYENV=window.PLOTLYENV || {};\n",
              "                    \n",
              "                if (document.getElementById(\"6b65ef1f-c504-459d-ae95-8ac92f2b6a38\")) {\n",
              "                    Plotly.newPlot(\n",
              "                        '6b65ef1f-c504-459d-ae95-8ac92f2b6a38',\n",
              "                        [{\"domain\": {\"x\": [0.0, 1.0], \"y\": [0.0, 1.0]}, \"hoverlabel\": {\"namelength\": 0}, \"hovertemplate\": \"label=%{label}<br>value=%{value}\", \"labels\": [\"Movie\", \"TV Show\"], \"legendgroup\": \"\", \"name\": \"\", \"showlegend\": true, \"type\": \"pie\", \"values\": [5377, 2410]}],\n",
              "                        {\"legend\": {\"tracegroupgap\": 0}, \"template\": {\"data\": {\"bar\": [{\"error_x\": {\"color\": \"#2a3f5f\"}, \"error_y\": {\"color\": \"#2a3f5f\"}, \"marker\": {\"line\": {\"color\": \"#E5ECF6\", \"width\": 0.5}}, \"type\": \"bar\"}], \"barpolar\": [{\"marker\": {\"line\": {\"color\": \"#E5ECF6\", \"width\": 0.5}}, \"type\": \"barpolar\"}], \"carpet\": [{\"aaxis\": {\"endlinecolor\": \"#2a3f5f\", \"gridcolor\": \"white\", \"linecolor\": \"white\", \"minorgridcolor\": \"white\", \"startlinecolor\": \"#2a3f5f\"}, \"baxis\": {\"endlinecolor\": \"#2a3f5f\", \"gridcolor\": \"white\", \"linecolor\": \"white\", \"minorgridcolor\": \"white\", \"startlinecolor\": \"#2a3f5f\"}, \"type\": \"carpet\"}], \"choropleth\": [{\"colorbar\": {\"outlinewidth\": 0, \"ticks\": \"\"}, \"type\": \"choropleth\"}], \"contour\": [{\"colorbar\": {\"outlinewidth\": 0, \"ticks\": \"\"}, \"colorscale\": [[0.0, \"#0d0887\"], [0.1111111111111111, \"#46039f\"], [0.2222222222222222, \"#7201a8\"], [0.3333333333333333, \"#9c179e\"], [0.4444444444444444, \"#bd3786\"], [0.5555555555555556, \"#d8576b\"], [0.6666666666666666, \"#ed7953\"], [0.7777777777777778, \"#fb9f3a\"], [0.8888888888888888, \"#fdca26\"], [1.0, \"#f0f921\"]], \"type\": \"contour\"}], \"contourcarpet\": [{\"colorbar\": {\"outlinewidth\": 0, \"ticks\": \"\"}, \"type\": \"contourcarpet\"}], \"heatmap\": [{\"colorbar\": {\"outlinewidth\": 0, \"ticks\": \"\"}, \"colorscale\": [[0.0, \"#0d0887\"], [0.1111111111111111, \"#46039f\"], [0.2222222222222222, \"#7201a8\"], [0.3333333333333333, \"#9c179e\"], [0.4444444444444444, \"#bd3786\"], [0.5555555555555556, \"#d8576b\"], [0.6666666666666666, \"#ed7953\"], [0.7777777777777778, \"#fb9f3a\"], [0.8888888888888888, \"#fdca26\"], [1.0, \"#f0f921\"]], \"type\": \"heatmap\"}], \"heatmapgl\": [{\"colorbar\": {\"outlinewidth\": 0, \"ticks\": \"\"}, \"colorscale\": [[0.0, \"#0d0887\"], [0.1111111111111111, \"#46039f\"], [0.2222222222222222, \"#7201a8\"], [0.3333333333333333, \"#9c179e\"], [0.4444444444444444, \"#bd3786\"], [0.5555555555555556, \"#d8576b\"], [0.6666666666666666, \"#ed7953\"], [0.7777777777777778, \"#fb9f3a\"], [0.8888888888888888, \"#fdca26\"], [1.0, \"#f0f921\"]], \"type\": \"heatmapgl\"}], \"histogram\": [{\"marker\": {\"colorbar\": {\"outlinewidth\": 0, \"ticks\": \"\"}}, \"type\": \"histogram\"}], \"histogram2d\": [{\"colorbar\": {\"outlinewidth\": 0, \"ticks\": \"\"}, \"colorscale\": [[0.0, \"#0d0887\"], [0.1111111111111111, \"#46039f\"], [0.2222222222222222, \"#7201a8\"], [0.3333333333333333, \"#9c179e\"], [0.4444444444444444, \"#bd3786\"], [0.5555555555555556, \"#d8576b\"], [0.6666666666666666, \"#ed7953\"], [0.7777777777777778, \"#fb9f3a\"], [0.8888888888888888, \"#fdca26\"], [1.0, \"#f0f921\"]], \"type\": \"histogram2d\"}], \"histogram2dcontour\": [{\"colorbar\": {\"outlinewidth\": 0, \"ticks\": \"\"}, \"colorscale\": [[0.0, \"#0d0887\"], [0.1111111111111111, \"#46039f\"], [0.2222222222222222, \"#7201a8\"], [0.3333333333333333, \"#9c179e\"], [0.4444444444444444, \"#bd3786\"], [0.5555555555555556, \"#d8576b\"], [0.6666666666666666, \"#ed7953\"], [0.7777777777777778, \"#fb9f3a\"], [0.8888888888888888, \"#fdca26\"], [1.0, \"#f0f921\"]], \"type\": \"histogram2dcontour\"}], \"mesh3d\": [{\"colorbar\": {\"outlinewidth\": 0, \"ticks\": \"\"}, \"type\": \"mesh3d\"}], \"parcoords\": [{\"line\": {\"colorbar\": {\"outlinewidth\": 0, \"ticks\": \"\"}}, \"type\": \"parcoords\"}], \"pie\": [{\"automargin\": true, \"type\": \"pie\"}], \"scatter\": [{\"marker\": {\"colorbar\": {\"outlinewidth\": 0, \"ticks\": \"\"}}, \"type\": \"scatter\"}], \"scatter3d\": [{\"line\": {\"colorbar\": {\"outlinewidth\": 0, \"ticks\": \"\"}}, \"marker\": {\"colorbar\": {\"outlinewidth\": 0, \"ticks\": \"\"}}, \"type\": \"scatter3d\"}], \"scattercarpet\": [{\"marker\": {\"colorbar\": {\"outlinewidth\": 0, \"ticks\": \"\"}}, \"type\": \"scattercarpet\"}], \"scattergeo\": [{\"marker\": {\"colorbar\": {\"outlinewidth\": 0, \"ticks\": \"\"}}, \"type\": \"scattergeo\"}], \"scattergl\": [{\"marker\": {\"colorbar\": {\"outlinewidth\": 0, \"ticks\": \"\"}}, \"type\": \"scattergl\"}], \"scattermapbox\": [{\"marker\": {\"colorbar\": {\"outlinewidth\": 0, \"ticks\": \"\"}}, \"type\": \"scattermapbox\"}], \"scatterpolar\": [{\"marker\": {\"colorbar\": {\"outlinewidth\": 0, \"ticks\": \"\"}}, \"type\": \"scatterpolar\"}], \"scatterpolargl\": [{\"marker\": {\"colorbar\": {\"outlinewidth\": 0, \"ticks\": \"\"}}, \"type\": \"scatterpolargl\"}], \"scatterternary\": [{\"marker\": {\"colorbar\": {\"outlinewidth\": 0, \"ticks\": \"\"}}, \"type\": \"scatterternary\"}], \"surface\": [{\"colorbar\": {\"outlinewidth\": 0, \"ticks\": \"\"}, \"colorscale\": [[0.0, \"#0d0887\"], [0.1111111111111111, \"#46039f\"], [0.2222222222222222, \"#7201a8\"], [0.3333333333333333, \"#9c179e\"], [0.4444444444444444, \"#bd3786\"], [0.5555555555555556, \"#d8576b\"], [0.6666666666666666, \"#ed7953\"], [0.7777777777777778, \"#fb9f3a\"], [0.8888888888888888, \"#fdca26\"], [1.0, \"#f0f921\"]], \"type\": \"surface\"}], \"table\": [{\"cells\": {\"fill\": {\"color\": \"#EBF0F8\"}, \"line\": {\"color\": \"white\"}}, \"header\": {\"fill\": {\"color\": \"#C8D4E3\"}, \"line\": {\"color\": \"white\"}}, \"type\": \"table\"}]}, \"layout\": {\"annotationdefaults\": {\"arrowcolor\": \"#2a3f5f\", \"arrowhead\": 0, \"arrowwidth\": 1}, \"coloraxis\": {\"colorbar\": {\"outlinewidth\": 0, \"ticks\": \"\"}}, \"colorscale\": {\"diverging\": [[0, \"#8e0152\"], [0.1, \"#c51b7d\"], [0.2, \"#de77ae\"], [0.3, \"#f1b6da\"], [0.4, \"#fde0ef\"], [0.5, \"#f7f7f7\"], [0.6, \"#e6f5d0\"], [0.7, \"#b8e186\"], [0.8, \"#7fbc41\"], [0.9, \"#4d9221\"], [1, \"#276419\"]], \"sequential\": [[0.0, \"#0d0887\"], [0.1111111111111111, \"#46039f\"], [0.2222222222222222, \"#7201a8\"], [0.3333333333333333, \"#9c179e\"], [0.4444444444444444, \"#bd3786\"], [0.5555555555555556, \"#d8576b\"], [0.6666666666666666, \"#ed7953\"], [0.7777777777777778, \"#fb9f3a\"], [0.8888888888888888, \"#fdca26\"], [1.0, \"#f0f921\"]], \"sequentialminus\": [[0.0, \"#0d0887\"], [0.1111111111111111, \"#46039f\"], [0.2222222222222222, \"#7201a8\"], [0.3333333333333333, \"#9c179e\"], [0.4444444444444444, \"#bd3786\"], [0.5555555555555556, \"#d8576b\"], [0.6666666666666666, \"#ed7953\"], [0.7777777777777778, \"#fb9f3a\"], [0.8888888888888888, \"#fdca26\"], [1.0, \"#f0f921\"]]}, \"colorway\": [\"#636efa\", \"#EF553B\", \"#00cc96\", \"#ab63fa\", \"#FFA15A\", \"#19d3f3\", \"#FF6692\", \"#B6E880\", \"#FF97FF\", \"#FECB52\"], \"font\": {\"color\": \"#2a3f5f\"}, \"geo\": {\"bgcolor\": \"white\", \"lakecolor\": \"white\", \"landcolor\": \"#E5ECF6\", \"showlakes\": true, \"showland\": true, \"subunitcolor\": \"white\"}, \"hoverlabel\": {\"align\": \"left\"}, \"hovermode\": \"closest\", \"mapbox\": {\"style\": \"light\"}, \"paper_bgcolor\": \"white\", \"plot_bgcolor\": \"#E5ECF6\", \"polar\": {\"angularaxis\": {\"gridcolor\": \"white\", \"linecolor\": \"white\", \"ticks\": \"\"}, \"bgcolor\": \"#E5ECF6\", \"radialaxis\": {\"gridcolor\": \"white\", \"linecolor\": \"white\", \"ticks\": \"\"}}, \"scene\": {\"xaxis\": {\"backgroundcolor\": \"#E5ECF6\", \"gridcolor\": \"white\", \"gridwidth\": 2, \"linecolor\": \"white\", \"showbackground\": true, \"ticks\": \"\", \"zerolinecolor\": \"white\"}, \"yaxis\": {\"backgroundcolor\": \"#E5ECF6\", \"gridcolor\": \"white\", \"gridwidth\": 2, \"linecolor\": \"white\", \"showbackground\": true, \"ticks\": \"\", \"zerolinecolor\": \"white\"}, \"zaxis\": {\"backgroundcolor\": \"#E5ECF6\", \"gridcolor\": \"white\", \"gridwidth\": 2, \"linecolor\": \"white\", \"showbackground\": true, \"ticks\": \"\", \"zerolinecolor\": \"white\"}}, \"shapedefaults\": {\"line\": {\"color\": \"#2a3f5f\"}}, \"ternary\": {\"aaxis\": {\"gridcolor\": \"white\", \"linecolor\": \"white\", \"ticks\": \"\"}, \"baxis\": {\"gridcolor\": \"white\", \"linecolor\": \"white\", \"ticks\": \"\"}, \"bgcolor\": \"#E5ECF6\", \"caxis\": {\"gridcolor\": \"white\", \"linecolor\": \"white\", \"ticks\": \"\"}}, \"title\": {\"x\": 0.05}, \"xaxis\": {\"automargin\": true, \"gridcolor\": \"white\", \"linecolor\": \"white\", \"ticks\": \"\", \"title\": {\"standoff\": 15}, \"zerolinecolor\": \"white\", \"zerolinewidth\": 2}, \"yaxis\": {\"automargin\": true, \"gridcolor\": \"white\", \"linecolor\": \"white\", \"ticks\": \"\", \"title\": {\"standoff\": 15}, \"zerolinecolor\": \"white\", \"zerolinewidth\": 2}}}, \"title\": {\"text\": \"Number total of TV-Shows and Movies in Netflix\"}},\n",
              "                        {\"responsive\": true}\n",
              "                    ).then(function(){\n",
              "                            \n",
              "var gd = document.getElementById('6b65ef1f-c504-459d-ae95-8ac92f2b6a38');\n",
              "var x = new MutationObserver(function (mutations, observer) {{\n",
              "        var display = window.getComputedStyle(gd).display;\n",
              "        if (!display || display === 'none') {{\n",
              "            console.log([gd, 'removed!']);\n",
              "            Plotly.purge(gd);\n",
              "            observer.disconnect();\n",
              "        }}\n",
              "}});\n",
              "\n",
              "// Listen for the removal of the full notebook cells\n",
              "var notebookContainer = gd.closest('#notebook-container');\n",
              "if (notebookContainer) {{\n",
              "    x.observe(notebookContainer, {childList: true});\n",
              "}}\n",
              "\n",
              "// Listen for the clearing of the current output cell\n",
              "var outputEl = gd.closest('.output');\n",
              "if (outputEl) {{\n",
              "    x.observe(outputEl, {childList: true});\n",
              "}}\n",
              "\n",
              "                        })\n",
              "                };\n",
              "                \n",
              "            </script>\n",
              "        </div>\n",
              "</body>\n",
              "</html>"
            ]
          },
          "metadata": {
            "tags": []
          }
        }
      ]
    },
    {
      "cell_type": "code",
      "metadata": {
        "colab": {
          "base_uri": "https://localhost:8080/",
          "height": 542
        },
        "id": "H_nXeb0KToFh",
        "outputId": "30251993-6044-400c-fac6-496349616be8"
      },
      "source": [
        "import plotly.express as px\n",
        "import plotly.graph_objects as go\n",
        "\n",
        "fig = px.pie(values=data['rating'].value_counts(), \n",
        "             names=data['rating'].value_counts().index, \n",
        "             title='Rating of TV-Shows and Movies in Netflix')\n",
        "fig.show()"
      ],
      "execution_count": 28,
      "outputs": [
        {
          "output_type": "display_data",
          "data": {
            "text/html": [
              "<html>\n",
              "<head><meta charset=\"utf-8\" /></head>\n",
              "<body>\n",
              "    <div>\n",
              "            <script src=\"https://cdnjs.cloudflare.com/ajax/libs/mathjax/2.7.5/MathJax.js?config=TeX-AMS-MML_SVG\"></script><script type=\"text/javascript\">if (window.MathJax) {MathJax.Hub.Config({SVG: {font: \"STIX-Web\"}});}</script>\n",
              "                <script type=\"text/javascript\">window.PlotlyConfig = {MathJaxConfig: 'local'};</script>\n",
              "        <script src=\"https://cdn.plot.ly/plotly-latest.min.js\"></script>    \n",
              "            <div id=\"4153407f-5e8c-426d-b0fa-5cdaf464932f\" class=\"plotly-graph-div\" style=\"height:525px; width:100%;\"></div>\n",
              "            <script type=\"text/javascript\">\n",
              "                \n",
              "                    window.PLOTLYENV=window.PLOTLYENV || {};\n",
              "                    \n",
              "                if (document.getElementById(\"4153407f-5e8c-426d-b0fa-5cdaf464932f\")) {\n",
              "                    Plotly.newPlot(\n",
              "                        '4153407f-5e8c-426d-b0fa-5cdaf464932f',\n",
              "                        [{\"domain\": {\"x\": [0.0, 1.0], \"y\": [0.0, 1.0]}, \"hoverlabel\": {\"namelength\": 0}, \"hovertemplate\": \"label=%{label}<br>value=%{value}\", \"labels\": [\"TV-MA\", \"TV-14\", \"TV-PG\", \"R\", \"PG-13\", \"TV-Y\", \"TV-Y7\", \"PG\", \"TV-G\", \"NR\", \"G\", \"UR\", \"TV-Y7-FV\", \"NC-17\"], \"legendgroup\": \"\", \"name\": \"\", \"showlegend\": true, \"type\": \"pie\", \"values\": [2863, 1931, 806, 665, 386, 280, 271, 247, 194, 84, 39, 12, 6, 3]}],\n",
              "                        {\"legend\": {\"tracegroupgap\": 0}, \"template\": {\"data\": {\"bar\": [{\"error_x\": {\"color\": \"#2a3f5f\"}, \"error_y\": {\"color\": \"#2a3f5f\"}, \"marker\": {\"line\": {\"color\": \"#E5ECF6\", \"width\": 0.5}}, \"type\": \"bar\"}], \"barpolar\": [{\"marker\": {\"line\": {\"color\": \"#E5ECF6\", \"width\": 0.5}}, \"type\": \"barpolar\"}], \"carpet\": [{\"aaxis\": {\"endlinecolor\": \"#2a3f5f\", \"gridcolor\": \"white\", \"linecolor\": \"white\", \"minorgridcolor\": \"white\", \"startlinecolor\": \"#2a3f5f\"}, \"baxis\": {\"endlinecolor\": \"#2a3f5f\", \"gridcolor\": \"white\", \"linecolor\": \"white\", \"minorgridcolor\": \"white\", \"startlinecolor\": \"#2a3f5f\"}, \"type\": \"carpet\"}], \"choropleth\": [{\"colorbar\": {\"outlinewidth\": 0, \"ticks\": \"\"}, \"type\": \"choropleth\"}], \"contour\": [{\"colorbar\": {\"outlinewidth\": 0, \"ticks\": \"\"}, \"colorscale\": [[0.0, \"#0d0887\"], [0.1111111111111111, \"#46039f\"], [0.2222222222222222, \"#7201a8\"], [0.3333333333333333, \"#9c179e\"], [0.4444444444444444, \"#bd3786\"], [0.5555555555555556, \"#d8576b\"], [0.6666666666666666, \"#ed7953\"], [0.7777777777777778, \"#fb9f3a\"], [0.8888888888888888, \"#fdca26\"], [1.0, \"#f0f921\"]], \"type\": \"contour\"}], \"contourcarpet\": [{\"colorbar\": {\"outlinewidth\": 0, \"ticks\": \"\"}, \"type\": \"contourcarpet\"}], \"heatmap\": [{\"colorbar\": {\"outlinewidth\": 0, \"ticks\": \"\"}, \"colorscale\": [[0.0, \"#0d0887\"], [0.1111111111111111, \"#46039f\"], [0.2222222222222222, \"#7201a8\"], [0.3333333333333333, \"#9c179e\"], [0.4444444444444444, \"#bd3786\"], [0.5555555555555556, \"#d8576b\"], [0.6666666666666666, \"#ed7953\"], [0.7777777777777778, \"#fb9f3a\"], [0.8888888888888888, \"#fdca26\"], [1.0, \"#f0f921\"]], \"type\": \"heatmap\"}], \"heatmapgl\": [{\"colorbar\": {\"outlinewidth\": 0, \"ticks\": \"\"}, \"colorscale\": [[0.0, \"#0d0887\"], [0.1111111111111111, \"#46039f\"], [0.2222222222222222, \"#7201a8\"], [0.3333333333333333, \"#9c179e\"], [0.4444444444444444, \"#bd3786\"], [0.5555555555555556, \"#d8576b\"], [0.6666666666666666, \"#ed7953\"], [0.7777777777777778, \"#fb9f3a\"], [0.8888888888888888, \"#fdca26\"], [1.0, \"#f0f921\"]], \"type\": \"heatmapgl\"}], \"histogram\": [{\"marker\": {\"colorbar\": {\"outlinewidth\": 0, \"ticks\": \"\"}}, \"type\": \"histogram\"}], \"histogram2d\": [{\"colorbar\": {\"outlinewidth\": 0, \"ticks\": \"\"}, \"colorscale\": [[0.0, \"#0d0887\"], [0.1111111111111111, \"#46039f\"], [0.2222222222222222, \"#7201a8\"], [0.3333333333333333, \"#9c179e\"], [0.4444444444444444, \"#bd3786\"], [0.5555555555555556, \"#d8576b\"], [0.6666666666666666, \"#ed7953\"], [0.7777777777777778, \"#fb9f3a\"], [0.8888888888888888, \"#fdca26\"], [1.0, \"#f0f921\"]], \"type\": \"histogram2d\"}], \"histogram2dcontour\": [{\"colorbar\": {\"outlinewidth\": 0, \"ticks\": \"\"}, \"colorscale\": [[0.0, \"#0d0887\"], [0.1111111111111111, \"#46039f\"], [0.2222222222222222, \"#7201a8\"], [0.3333333333333333, \"#9c179e\"], [0.4444444444444444, \"#bd3786\"], [0.5555555555555556, \"#d8576b\"], [0.6666666666666666, \"#ed7953\"], [0.7777777777777778, \"#fb9f3a\"], [0.8888888888888888, \"#fdca26\"], [1.0, \"#f0f921\"]], \"type\": \"histogram2dcontour\"}], \"mesh3d\": [{\"colorbar\": {\"outlinewidth\": 0, \"ticks\": \"\"}, \"type\": \"mesh3d\"}], \"parcoords\": [{\"line\": {\"colorbar\": {\"outlinewidth\": 0, \"ticks\": \"\"}}, \"type\": \"parcoords\"}], \"pie\": [{\"automargin\": true, \"type\": \"pie\"}], \"scatter\": [{\"marker\": {\"colorbar\": {\"outlinewidth\": 0, \"ticks\": \"\"}}, \"type\": \"scatter\"}], \"scatter3d\": [{\"line\": {\"colorbar\": {\"outlinewidth\": 0, \"ticks\": \"\"}}, \"marker\": {\"colorbar\": {\"outlinewidth\": 0, \"ticks\": \"\"}}, \"type\": \"scatter3d\"}], \"scattercarpet\": [{\"marker\": {\"colorbar\": {\"outlinewidth\": 0, \"ticks\": \"\"}}, \"type\": \"scattercarpet\"}], \"scattergeo\": [{\"marker\": {\"colorbar\": {\"outlinewidth\": 0, \"ticks\": \"\"}}, \"type\": \"scattergeo\"}], \"scattergl\": [{\"marker\": {\"colorbar\": {\"outlinewidth\": 0, \"ticks\": \"\"}}, \"type\": \"scattergl\"}], \"scattermapbox\": [{\"marker\": {\"colorbar\": {\"outlinewidth\": 0, \"ticks\": \"\"}}, \"type\": \"scattermapbox\"}], \"scatterpolar\": [{\"marker\": {\"colorbar\": {\"outlinewidth\": 0, \"ticks\": \"\"}}, \"type\": \"scatterpolar\"}], \"scatterpolargl\": [{\"marker\": {\"colorbar\": {\"outlinewidth\": 0, \"ticks\": \"\"}}, \"type\": \"scatterpolargl\"}], \"scatterternary\": [{\"marker\": {\"colorbar\": {\"outlinewidth\": 0, \"ticks\": \"\"}}, \"type\": \"scatterternary\"}], \"surface\": [{\"colorbar\": {\"outlinewidth\": 0, \"ticks\": \"\"}, \"colorscale\": [[0.0, \"#0d0887\"], [0.1111111111111111, \"#46039f\"], [0.2222222222222222, \"#7201a8\"], [0.3333333333333333, \"#9c179e\"], [0.4444444444444444, \"#bd3786\"], [0.5555555555555556, \"#d8576b\"], [0.6666666666666666, \"#ed7953\"], [0.7777777777777778, \"#fb9f3a\"], [0.8888888888888888, \"#fdca26\"], [1.0, \"#f0f921\"]], \"type\": \"surface\"}], \"table\": [{\"cells\": {\"fill\": {\"color\": \"#EBF0F8\"}, \"line\": {\"color\": \"white\"}}, \"header\": {\"fill\": {\"color\": \"#C8D4E3\"}, \"line\": {\"color\": \"white\"}}, \"type\": \"table\"}]}, \"layout\": {\"annotationdefaults\": {\"arrowcolor\": \"#2a3f5f\", \"arrowhead\": 0, \"arrowwidth\": 1}, \"coloraxis\": {\"colorbar\": {\"outlinewidth\": 0, \"ticks\": \"\"}}, \"colorscale\": {\"diverging\": [[0, \"#8e0152\"], [0.1, \"#c51b7d\"], [0.2, \"#de77ae\"], [0.3, \"#f1b6da\"], [0.4, \"#fde0ef\"], [0.5, \"#f7f7f7\"], [0.6, \"#e6f5d0\"], [0.7, \"#b8e186\"], [0.8, \"#7fbc41\"], [0.9, \"#4d9221\"], [1, \"#276419\"]], \"sequential\": [[0.0, \"#0d0887\"], [0.1111111111111111, \"#46039f\"], [0.2222222222222222, \"#7201a8\"], [0.3333333333333333, \"#9c179e\"], [0.4444444444444444, \"#bd3786\"], [0.5555555555555556, \"#d8576b\"], [0.6666666666666666, \"#ed7953\"], [0.7777777777777778, \"#fb9f3a\"], [0.8888888888888888, \"#fdca26\"], [1.0, \"#f0f921\"]], \"sequentialminus\": [[0.0, \"#0d0887\"], [0.1111111111111111, \"#46039f\"], [0.2222222222222222, \"#7201a8\"], [0.3333333333333333, \"#9c179e\"], [0.4444444444444444, \"#bd3786\"], [0.5555555555555556, \"#d8576b\"], [0.6666666666666666, \"#ed7953\"], [0.7777777777777778, \"#fb9f3a\"], [0.8888888888888888, \"#fdca26\"], [1.0, \"#f0f921\"]]}, \"colorway\": [\"#636efa\", \"#EF553B\", \"#00cc96\", \"#ab63fa\", \"#FFA15A\", \"#19d3f3\", \"#FF6692\", \"#B6E880\", \"#FF97FF\", \"#FECB52\"], \"font\": {\"color\": \"#2a3f5f\"}, \"geo\": {\"bgcolor\": \"white\", \"lakecolor\": \"white\", \"landcolor\": \"#E5ECF6\", \"showlakes\": true, \"showland\": true, \"subunitcolor\": \"white\"}, \"hoverlabel\": {\"align\": \"left\"}, \"hovermode\": \"closest\", \"mapbox\": {\"style\": \"light\"}, \"paper_bgcolor\": \"white\", \"plot_bgcolor\": \"#E5ECF6\", \"polar\": {\"angularaxis\": {\"gridcolor\": \"white\", \"linecolor\": \"white\", \"ticks\": \"\"}, \"bgcolor\": \"#E5ECF6\", \"radialaxis\": {\"gridcolor\": \"white\", \"linecolor\": \"white\", \"ticks\": \"\"}}, \"scene\": {\"xaxis\": {\"backgroundcolor\": \"#E5ECF6\", \"gridcolor\": \"white\", \"gridwidth\": 2, \"linecolor\": \"white\", \"showbackground\": true, \"ticks\": \"\", \"zerolinecolor\": \"white\"}, \"yaxis\": {\"backgroundcolor\": \"#E5ECF6\", \"gridcolor\": \"white\", \"gridwidth\": 2, \"linecolor\": \"white\", \"showbackground\": true, \"ticks\": \"\", \"zerolinecolor\": \"white\"}, \"zaxis\": {\"backgroundcolor\": \"#E5ECF6\", \"gridcolor\": \"white\", \"gridwidth\": 2, \"linecolor\": \"white\", \"showbackground\": true, \"ticks\": \"\", \"zerolinecolor\": \"white\"}}, \"shapedefaults\": {\"line\": {\"color\": \"#2a3f5f\"}}, \"ternary\": {\"aaxis\": {\"gridcolor\": \"white\", \"linecolor\": \"white\", \"ticks\": \"\"}, \"baxis\": {\"gridcolor\": \"white\", \"linecolor\": \"white\", \"ticks\": \"\"}, \"bgcolor\": \"#E5ECF6\", \"caxis\": {\"gridcolor\": \"white\", \"linecolor\": \"white\", \"ticks\": \"\"}}, \"title\": {\"x\": 0.05}, \"xaxis\": {\"automargin\": true, \"gridcolor\": \"white\", \"linecolor\": \"white\", \"ticks\": \"\", \"title\": {\"standoff\": 15}, \"zerolinecolor\": \"white\", \"zerolinewidth\": 2}, \"yaxis\": {\"automargin\": true, \"gridcolor\": \"white\", \"linecolor\": \"white\", \"ticks\": \"\", \"title\": {\"standoff\": 15}, \"zerolinecolor\": \"white\", \"zerolinewidth\": 2}}}, \"title\": {\"text\": \"Rating of TV-Shows and Movies in Netflix\"}},\n",
              "                        {\"responsive\": true}\n",
              "                    ).then(function(){\n",
              "                            \n",
              "var gd = document.getElementById('4153407f-5e8c-426d-b0fa-5cdaf464932f');\n",
              "var x = new MutationObserver(function (mutations, observer) {{\n",
              "        var display = window.getComputedStyle(gd).display;\n",
              "        if (!display || display === 'none') {{\n",
              "            console.log([gd, 'removed!']);\n",
              "            Plotly.purge(gd);\n",
              "            observer.disconnect();\n",
              "        }}\n",
              "}});\n",
              "\n",
              "// Listen for the removal of the full notebook cells\n",
              "var notebookContainer = gd.closest('#notebook-container');\n",
              "if (notebookContainer) {{\n",
              "    x.observe(notebookContainer, {childList: true});\n",
              "}}\n",
              "\n",
              "// Listen for the clearing of the current output cell\n",
              "var outputEl = gd.closest('.output');\n",
              "if (outputEl) {{\n",
              "    x.observe(outputEl, {childList: true});\n",
              "}}\n",
              "\n",
              "                        })\n",
              "                };\n",
              "                \n",
              "            </script>\n",
              "        </div>\n",
              "</body>\n",
              "</html>"
            ]
          },
          "metadata": {
            "tags": []
          }
        }
      ]
    },
    {
      "cell_type": "code",
      "metadata": {
        "id": "COpdkXdRUq_B",
        "colab": {
          "base_uri": "https://localhost:8080/",
          "height": 542
        },
        "outputId": "e82b9d1d-e53e-43ee-fd66-50561c5066aa"
      },
      "source": [
        "from pandas.plotting import scatter_matrix\n",
        "import matplotlib.pyplot as plt\n",
        "\n",
        "order_rating = ['TV-Y', 'TV-Y7', 'TV-Y7-FV', 'G', 'TV-G', 'PG', 'TV-PG', 'PG-13', 'TV-14', 'R', 'NC-17', \n",
        "               'TV-MA', 'NR']\n",
        "\n",
        "\n",
        "fig = px.bar(y = data['rating'].value_counts(), \n",
        "             x = data['rating'].value_counts().index,\n",
        "             labels = dict(x=\"Rating\", y=\"Total Number\"),\n",
        "             title = 'Rating of TV-Shows and Movies in Netflix'\n",
        "            )\n",
        "\n",
        "fig.update_xaxes(categoryorder = 'array', categoryarray= order_rating)\n",
        "\n",
        "fig.show()"
      ],
      "execution_count": 29,
      "outputs": [
        {
          "output_type": "display_data",
          "data": {
            "text/html": [
              "<html>\n",
              "<head><meta charset=\"utf-8\" /></head>\n",
              "<body>\n",
              "    <div>\n",
              "            <script src=\"https://cdnjs.cloudflare.com/ajax/libs/mathjax/2.7.5/MathJax.js?config=TeX-AMS-MML_SVG\"></script><script type=\"text/javascript\">if (window.MathJax) {MathJax.Hub.Config({SVG: {font: \"STIX-Web\"}});}</script>\n",
              "                <script type=\"text/javascript\">window.PlotlyConfig = {MathJaxConfig: 'local'};</script>\n",
              "        <script src=\"https://cdn.plot.ly/plotly-latest.min.js\"></script>    \n",
              "            <div id=\"8696b213-7652-4b54-b0da-3f9a1d00a6ff\" class=\"plotly-graph-div\" style=\"height:525px; width:100%;\"></div>\n",
              "            <script type=\"text/javascript\">\n",
              "                \n",
              "                    window.PLOTLYENV=window.PLOTLYENV || {};\n",
              "                    \n",
              "                if (document.getElementById(\"8696b213-7652-4b54-b0da-3f9a1d00a6ff\")) {\n",
              "                    Plotly.newPlot(\n",
              "                        '8696b213-7652-4b54-b0da-3f9a1d00a6ff',\n",
              "                        [{\"alignmentgroup\": \"True\", \"hoverlabel\": {\"namelength\": 0}, \"hovertemplate\": \"Rating=%{x}<br>Total Number=%{y}\", \"legendgroup\": \"\", \"marker\": {\"color\": \"#636efa\"}, \"name\": \"\", \"offsetgroup\": \"\", \"orientation\": \"v\", \"showlegend\": false, \"textposition\": \"auto\", \"type\": \"bar\", \"x\": [\"TV-MA\", \"TV-14\", \"TV-PG\", \"R\", \"PG-13\", \"TV-Y\", \"TV-Y7\", \"PG\", \"TV-G\", \"NR\", \"G\", \"UR\", \"TV-Y7-FV\", \"NC-17\"], \"xaxis\": \"x\", \"y\": [2863, 1931, 806, 665, 386, 280, 271, 247, 194, 84, 39, 12, 6, 3], \"yaxis\": \"y\"}],\n",
              "                        {\"barmode\": \"relative\", \"legend\": {\"tracegroupgap\": 0}, \"template\": {\"data\": {\"bar\": [{\"error_x\": {\"color\": \"#2a3f5f\"}, \"error_y\": {\"color\": \"#2a3f5f\"}, \"marker\": {\"line\": {\"color\": \"#E5ECF6\", \"width\": 0.5}}, \"type\": \"bar\"}], \"barpolar\": [{\"marker\": {\"line\": {\"color\": \"#E5ECF6\", \"width\": 0.5}}, \"type\": \"barpolar\"}], \"carpet\": [{\"aaxis\": {\"endlinecolor\": \"#2a3f5f\", \"gridcolor\": \"white\", \"linecolor\": \"white\", \"minorgridcolor\": \"white\", \"startlinecolor\": \"#2a3f5f\"}, \"baxis\": {\"endlinecolor\": \"#2a3f5f\", \"gridcolor\": \"white\", \"linecolor\": \"white\", \"minorgridcolor\": \"white\", \"startlinecolor\": \"#2a3f5f\"}, \"type\": \"carpet\"}], \"choropleth\": [{\"colorbar\": {\"outlinewidth\": 0, \"ticks\": \"\"}, \"type\": \"choropleth\"}], \"contour\": [{\"colorbar\": {\"outlinewidth\": 0, \"ticks\": \"\"}, \"colorscale\": [[0.0, \"#0d0887\"], [0.1111111111111111, \"#46039f\"], [0.2222222222222222, \"#7201a8\"], [0.3333333333333333, \"#9c179e\"], [0.4444444444444444, \"#bd3786\"], [0.5555555555555556, \"#d8576b\"], [0.6666666666666666, \"#ed7953\"], [0.7777777777777778, \"#fb9f3a\"], [0.8888888888888888, \"#fdca26\"], [1.0, \"#f0f921\"]], \"type\": \"contour\"}], \"contourcarpet\": [{\"colorbar\": {\"outlinewidth\": 0, \"ticks\": \"\"}, \"type\": \"contourcarpet\"}], \"heatmap\": [{\"colorbar\": {\"outlinewidth\": 0, \"ticks\": \"\"}, \"colorscale\": [[0.0, \"#0d0887\"], [0.1111111111111111, \"#46039f\"], [0.2222222222222222, \"#7201a8\"], [0.3333333333333333, \"#9c179e\"], [0.4444444444444444, \"#bd3786\"], [0.5555555555555556, \"#d8576b\"], [0.6666666666666666, \"#ed7953\"], [0.7777777777777778, \"#fb9f3a\"], [0.8888888888888888, \"#fdca26\"], [1.0, \"#f0f921\"]], \"type\": \"heatmap\"}], \"heatmapgl\": [{\"colorbar\": {\"outlinewidth\": 0, \"ticks\": \"\"}, \"colorscale\": [[0.0, \"#0d0887\"], [0.1111111111111111, \"#46039f\"], [0.2222222222222222, \"#7201a8\"], [0.3333333333333333, \"#9c179e\"], [0.4444444444444444, \"#bd3786\"], [0.5555555555555556, \"#d8576b\"], [0.6666666666666666, \"#ed7953\"], [0.7777777777777778, \"#fb9f3a\"], [0.8888888888888888, \"#fdca26\"], [1.0, \"#f0f921\"]], \"type\": \"heatmapgl\"}], \"histogram\": [{\"marker\": {\"colorbar\": {\"outlinewidth\": 0, \"ticks\": \"\"}}, \"type\": \"histogram\"}], \"histogram2d\": [{\"colorbar\": {\"outlinewidth\": 0, \"ticks\": \"\"}, \"colorscale\": [[0.0, \"#0d0887\"], [0.1111111111111111, \"#46039f\"], [0.2222222222222222, \"#7201a8\"], [0.3333333333333333, \"#9c179e\"], [0.4444444444444444, \"#bd3786\"], [0.5555555555555556, \"#d8576b\"], [0.6666666666666666, \"#ed7953\"], [0.7777777777777778, \"#fb9f3a\"], [0.8888888888888888, \"#fdca26\"], [1.0, \"#f0f921\"]], \"type\": \"histogram2d\"}], \"histogram2dcontour\": [{\"colorbar\": {\"outlinewidth\": 0, \"ticks\": \"\"}, \"colorscale\": [[0.0, \"#0d0887\"], [0.1111111111111111, \"#46039f\"], [0.2222222222222222, \"#7201a8\"], [0.3333333333333333, \"#9c179e\"], [0.4444444444444444, \"#bd3786\"], [0.5555555555555556, \"#d8576b\"], [0.6666666666666666, \"#ed7953\"], [0.7777777777777778, \"#fb9f3a\"], [0.8888888888888888, \"#fdca26\"], [1.0, \"#f0f921\"]], \"type\": \"histogram2dcontour\"}], \"mesh3d\": [{\"colorbar\": {\"outlinewidth\": 0, \"ticks\": \"\"}, \"type\": \"mesh3d\"}], \"parcoords\": [{\"line\": {\"colorbar\": {\"outlinewidth\": 0, \"ticks\": \"\"}}, \"type\": \"parcoords\"}], \"pie\": [{\"automargin\": true, \"type\": \"pie\"}], \"scatter\": [{\"marker\": {\"colorbar\": {\"outlinewidth\": 0, \"ticks\": \"\"}}, \"type\": \"scatter\"}], \"scatter3d\": [{\"line\": {\"colorbar\": {\"outlinewidth\": 0, \"ticks\": \"\"}}, \"marker\": {\"colorbar\": {\"outlinewidth\": 0, \"ticks\": \"\"}}, \"type\": \"scatter3d\"}], \"scattercarpet\": [{\"marker\": {\"colorbar\": {\"outlinewidth\": 0, \"ticks\": \"\"}}, \"type\": \"scattercarpet\"}], \"scattergeo\": [{\"marker\": {\"colorbar\": {\"outlinewidth\": 0, \"ticks\": \"\"}}, \"type\": \"scattergeo\"}], \"scattergl\": [{\"marker\": {\"colorbar\": {\"outlinewidth\": 0, \"ticks\": \"\"}}, \"type\": \"scattergl\"}], \"scattermapbox\": [{\"marker\": {\"colorbar\": {\"outlinewidth\": 0, \"ticks\": \"\"}}, \"type\": \"scattermapbox\"}], \"scatterpolar\": [{\"marker\": {\"colorbar\": {\"outlinewidth\": 0, \"ticks\": \"\"}}, \"type\": \"scatterpolar\"}], \"scatterpolargl\": [{\"marker\": {\"colorbar\": {\"outlinewidth\": 0, \"ticks\": \"\"}}, \"type\": \"scatterpolargl\"}], \"scatterternary\": [{\"marker\": {\"colorbar\": {\"outlinewidth\": 0, \"ticks\": \"\"}}, \"type\": \"scatterternary\"}], \"surface\": [{\"colorbar\": {\"outlinewidth\": 0, \"ticks\": \"\"}, \"colorscale\": [[0.0, \"#0d0887\"], [0.1111111111111111, \"#46039f\"], [0.2222222222222222, \"#7201a8\"], [0.3333333333333333, \"#9c179e\"], [0.4444444444444444, \"#bd3786\"], [0.5555555555555556, \"#d8576b\"], [0.6666666666666666, \"#ed7953\"], [0.7777777777777778, \"#fb9f3a\"], [0.8888888888888888, \"#fdca26\"], [1.0, \"#f0f921\"]], \"type\": \"surface\"}], \"table\": [{\"cells\": {\"fill\": {\"color\": \"#EBF0F8\"}, \"line\": {\"color\": \"white\"}}, \"header\": {\"fill\": {\"color\": \"#C8D4E3\"}, \"line\": {\"color\": \"white\"}}, \"type\": \"table\"}]}, \"layout\": {\"annotationdefaults\": {\"arrowcolor\": \"#2a3f5f\", \"arrowhead\": 0, \"arrowwidth\": 1}, \"coloraxis\": {\"colorbar\": {\"outlinewidth\": 0, \"ticks\": \"\"}}, \"colorscale\": {\"diverging\": [[0, \"#8e0152\"], [0.1, \"#c51b7d\"], [0.2, \"#de77ae\"], [0.3, \"#f1b6da\"], [0.4, \"#fde0ef\"], [0.5, \"#f7f7f7\"], [0.6, \"#e6f5d0\"], [0.7, \"#b8e186\"], [0.8, \"#7fbc41\"], [0.9, \"#4d9221\"], [1, \"#276419\"]], \"sequential\": [[0.0, \"#0d0887\"], [0.1111111111111111, \"#46039f\"], [0.2222222222222222, \"#7201a8\"], [0.3333333333333333, \"#9c179e\"], [0.4444444444444444, \"#bd3786\"], [0.5555555555555556, \"#d8576b\"], [0.6666666666666666, \"#ed7953\"], [0.7777777777777778, \"#fb9f3a\"], [0.8888888888888888, \"#fdca26\"], [1.0, \"#f0f921\"]], \"sequentialminus\": [[0.0, \"#0d0887\"], [0.1111111111111111, \"#46039f\"], [0.2222222222222222, \"#7201a8\"], [0.3333333333333333, \"#9c179e\"], [0.4444444444444444, \"#bd3786\"], [0.5555555555555556, \"#d8576b\"], [0.6666666666666666, \"#ed7953\"], [0.7777777777777778, \"#fb9f3a\"], [0.8888888888888888, \"#fdca26\"], [1.0, \"#f0f921\"]]}, \"colorway\": [\"#636efa\", \"#EF553B\", \"#00cc96\", \"#ab63fa\", \"#FFA15A\", \"#19d3f3\", \"#FF6692\", \"#B6E880\", \"#FF97FF\", \"#FECB52\"], \"font\": {\"color\": \"#2a3f5f\"}, \"geo\": {\"bgcolor\": \"white\", \"lakecolor\": \"white\", \"landcolor\": \"#E5ECF6\", \"showlakes\": true, \"showland\": true, \"subunitcolor\": \"white\"}, \"hoverlabel\": {\"align\": \"left\"}, \"hovermode\": \"closest\", \"mapbox\": {\"style\": \"light\"}, \"paper_bgcolor\": \"white\", \"plot_bgcolor\": \"#E5ECF6\", \"polar\": {\"angularaxis\": {\"gridcolor\": \"white\", \"linecolor\": \"white\", \"ticks\": \"\"}, \"bgcolor\": \"#E5ECF6\", \"radialaxis\": {\"gridcolor\": \"white\", \"linecolor\": \"white\", \"ticks\": \"\"}}, \"scene\": {\"xaxis\": {\"backgroundcolor\": \"#E5ECF6\", \"gridcolor\": \"white\", \"gridwidth\": 2, \"linecolor\": \"white\", \"showbackground\": true, \"ticks\": \"\", \"zerolinecolor\": \"white\"}, \"yaxis\": {\"backgroundcolor\": \"#E5ECF6\", \"gridcolor\": \"white\", \"gridwidth\": 2, \"linecolor\": \"white\", \"showbackground\": true, \"ticks\": \"\", \"zerolinecolor\": \"white\"}, \"zaxis\": {\"backgroundcolor\": \"#E5ECF6\", \"gridcolor\": \"white\", \"gridwidth\": 2, \"linecolor\": \"white\", \"showbackground\": true, \"ticks\": \"\", \"zerolinecolor\": \"white\"}}, \"shapedefaults\": {\"line\": {\"color\": \"#2a3f5f\"}}, \"ternary\": {\"aaxis\": {\"gridcolor\": \"white\", \"linecolor\": \"white\", \"ticks\": \"\"}, \"baxis\": {\"gridcolor\": \"white\", \"linecolor\": \"white\", \"ticks\": \"\"}, \"bgcolor\": \"#E5ECF6\", \"caxis\": {\"gridcolor\": \"white\", \"linecolor\": \"white\", \"ticks\": \"\"}}, \"title\": {\"x\": 0.05}, \"xaxis\": {\"automargin\": true, \"gridcolor\": \"white\", \"linecolor\": \"white\", \"ticks\": \"\", \"title\": {\"standoff\": 15}, \"zerolinecolor\": \"white\", \"zerolinewidth\": 2}, \"yaxis\": {\"automargin\": true, \"gridcolor\": \"white\", \"linecolor\": \"white\", \"ticks\": \"\", \"title\": {\"standoff\": 15}, \"zerolinecolor\": \"white\", \"zerolinewidth\": 2}}}, \"title\": {\"text\": \"Rating of TV-Shows and Movies in Netflix\"}, \"xaxis\": {\"anchor\": \"y\", \"categoryarray\": [\"TV-Y\", \"TV-Y7\", \"TV-Y7-FV\", \"G\", \"TV-G\", \"PG\", \"TV-PG\", \"PG-13\", \"TV-14\", \"R\", \"NC-17\", \"TV-MA\", \"NR\"], \"categoryorder\": \"array\", \"domain\": [0.0, 1.0], \"title\": {\"text\": \"Rating\"}}, \"yaxis\": {\"anchor\": \"x\", \"domain\": [0.0, 1.0], \"title\": {\"text\": \"Total Number\"}}},\n",
              "                        {\"responsive\": true}\n",
              "                    ).then(function(){\n",
              "                            \n",
              "var gd = document.getElementById('8696b213-7652-4b54-b0da-3f9a1d00a6ff');\n",
              "var x = new MutationObserver(function (mutations, observer) {{\n",
              "        var display = window.getComputedStyle(gd).display;\n",
              "        if (!display || display === 'none') {{\n",
              "            console.log([gd, 'removed!']);\n",
              "            Plotly.purge(gd);\n",
              "            observer.disconnect();\n",
              "        }}\n",
              "}});\n",
              "\n",
              "// Listen for the removal of the full notebook cells\n",
              "var notebookContainer = gd.closest('#notebook-container');\n",
              "if (notebookContainer) {{\n",
              "    x.observe(notebookContainer, {childList: true});\n",
              "}}\n",
              "\n",
              "// Listen for the clearing of the current output cell\n",
              "var outputEl = gd.closest('.output');\n",
              "if (outputEl) {{\n",
              "    x.observe(outputEl, {childList: true});\n",
              "}}\n",
              "\n",
              "                        })\n",
              "                };\n",
              "                \n",
              "            </script>\n",
              "        </div>\n",
              "</body>\n",
              "</html>"
            ]
          },
          "metadata": {
            "tags": []
          }
        }
      ]
    },
    {
      "cell_type": "code",
      "metadata": {
        "colab": {
          "base_uri": "https://localhost:8080/",
          "height": 542
        },
        "id": "3lXcQf6NQbXz",
        "outputId": "992ba74c-b310-4aeb-f836-252c627f912a"
      },
      "source": [
        "fig = px.bar(x = data[data['type']=='TV Show']['duration'].value_counts().index, \n",
        "             y = data[data['type']=='TV Show']['duration'].value_counts())\n",
        "\n",
        "fig.update_layout(\n",
        "    title='Duration of TV Shows',\n",
        "    xaxis_title=\"Duration (seasons)\",\n",
        "    yaxis_title=\"Total number\",\n",
        "    xaxis = dict(\n",
        "        tickmode = 'linear',\n",
        "        tick0 = 1,\n",
        "        dtick = 1)\n",
        ")\n",
        "\n",
        "fig.show()"
      ],
      "execution_count": 30,
      "outputs": [
        {
          "output_type": "display_data",
          "data": {
            "text/html": [
              "<html>\n",
              "<head><meta charset=\"utf-8\" /></head>\n",
              "<body>\n",
              "    <div>\n",
              "            <script src=\"https://cdnjs.cloudflare.com/ajax/libs/mathjax/2.7.5/MathJax.js?config=TeX-AMS-MML_SVG\"></script><script type=\"text/javascript\">if (window.MathJax) {MathJax.Hub.Config({SVG: {font: \"STIX-Web\"}});}</script>\n",
              "                <script type=\"text/javascript\">window.PlotlyConfig = {MathJaxConfig: 'local'};</script>\n",
              "        <script src=\"https://cdn.plot.ly/plotly-latest.min.js\"></script>    \n",
              "            <div id=\"35da5525-0d21-4a8b-bbcd-dfaf7d2d640d\" class=\"plotly-graph-div\" style=\"height:525px; width:100%;\"></div>\n",
              "            <script type=\"text/javascript\">\n",
              "                \n",
              "                    window.PLOTLYENV=window.PLOTLYENV || {};\n",
              "                    \n",
              "                if (document.getElementById(\"35da5525-0d21-4a8b-bbcd-dfaf7d2d640d\")) {\n",
              "                    Plotly.newPlot(\n",
              "                        '35da5525-0d21-4a8b-bbcd-dfaf7d2d640d',\n",
              "                        [{\"alignmentgroup\": \"True\", \"hoverlabel\": {\"namelength\": 0}, \"hovertemplate\": \"x=%{x}<br>y=%{y}\", \"legendgroup\": \"\", \"marker\": {\"color\": \"#636efa\"}, \"name\": \"\", \"offsetgroup\": \"\", \"orientation\": \"v\", \"showlegend\": false, \"textposition\": \"auto\", \"type\": \"bar\", \"x\": [1, 2, 3, 4, 5, 6, 7, 8, 9, 10, 11, 15, 13, 12, 16], \"xaxis\": \"x\", \"y\": [1608, 382, 184, 87, 58, 30, 19, 18, 8, 6, 3, 2, 2, 2, 1], \"yaxis\": \"y\"}],\n",
              "                        {\"barmode\": \"relative\", \"legend\": {\"tracegroupgap\": 0}, \"margin\": {\"t\": 60}, \"template\": {\"data\": {\"bar\": [{\"error_x\": {\"color\": \"#2a3f5f\"}, \"error_y\": {\"color\": \"#2a3f5f\"}, \"marker\": {\"line\": {\"color\": \"#E5ECF6\", \"width\": 0.5}}, \"type\": \"bar\"}], \"barpolar\": [{\"marker\": {\"line\": {\"color\": \"#E5ECF6\", \"width\": 0.5}}, \"type\": \"barpolar\"}], \"carpet\": [{\"aaxis\": {\"endlinecolor\": \"#2a3f5f\", \"gridcolor\": \"white\", \"linecolor\": \"white\", \"minorgridcolor\": \"white\", \"startlinecolor\": \"#2a3f5f\"}, \"baxis\": {\"endlinecolor\": \"#2a3f5f\", \"gridcolor\": \"white\", \"linecolor\": \"white\", \"minorgridcolor\": \"white\", \"startlinecolor\": \"#2a3f5f\"}, \"type\": \"carpet\"}], \"choropleth\": [{\"colorbar\": {\"outlinewidth\": 0, \"ticks\": \"\"}, \"type\": \"choropleth\"}], \"contour\": [{\"colorbar\": {\"outlinewidth\": 0, \"ticks\": \"\"}, \"colorscale\": [[0.0, \"#0d0887\"], [0.1111111111111111, \"#46039f\"], [0.2222222222222222, \"#7201a8\"], [0.3333333333333333, \"#9c179e\"], [0.4444444444444444, \"#bd3786\"], [0.5555555555555556, \"#d8576b\"], [0.6666666666666666, \"#ed7953\"], [0.7777777777777778, \"#fb9f3a\"], [0.8888888888888888, \"#fdca26\"], [1.0, \"#f0f921\"]], \"type\": \"contour\"}], \"contourcarpet\": [{\"colorbar\": {\"outlinewidth\": 0, \"ticks\": \"\"}, \"type\": \"contourcarpet\"}], \"heatmap\": [{\"colorbar\": {\"outlinewidth\": 0, \"ticks\": \"\"}, \"colorscale\": [[0.0, \"#0d0887\"], [0.1111111111111111, \"#46039f\"], [0.2222222222222222, \"#7201a8\"], [0.3333333333333333, \"#9c179e\"], [0.4444444444444444, \"#bd3786\"], [0.5555555555555556, \"#d8576b\"], [0.6666666666666666, \"#ed7953\"], [0.7777777777777778, \"#fb9f3a\"], [0.8888888888888888, \"#fdca26\"], [1.0, \"#f0f921\"]], \"type\": \"heatmap\"}], \"heatmapgl\": [{\"colorbar\": {\"outlinewidth\": 0, \"ticks\": \"\"}, \"colorscale\": [[0.0, \"#0d0887\"], [0.1111111111111111, \"#46039f\"], [0.2222222222222222, \"#7201a8\"], [0.3333333333333333, \"#9c179e\"], [0.4444444444444444, \"#bd3786\"], [0.5555555555555556, \"#d8576b\"], [0.6666666666666666, \"#ed7953\"], [0.7777777777777778, \"#fb9f3a\"], [0.8888888888888888, \"#fdca26\"], [1.0, \"#f0f921\"]], \"type\": \"heatmapgl\"}], \"histogram\": [{\"marker\": {\"colorbar\": {\"outlinewidth\": 0, \"ticks\": \"\"}}, \"type\": \"histogram\"}], \"histogram2d\": [{\"colorbar\": {\"outlinewidth\": 0, \"ticks\": \"\"}, \"colorscale\": [[0.0, \"#0d0887\"], [0.1111111111111111, \"#46039f\"], [0.2222222222222222, \"#7201a8\"], [0.3333333333333333, \"#9c179e\"], [0.4444444444444444, \"#bd3786\"], [0.5555555555555556, \"#d8576b\"], [0.6666666666666666, \"#ed7953\"], [0.7777777777777778, \"#fb9f3a\"], [0.8888888888888888, \"#fdca26\"], [1.0, \"#f0f921\"]], \"type\": \"histogram2d\"}], \"histogram2dcontour\": [{\"colorbar\": {\"outlinewidth\": 0, \"ticks\": \"\"}, \"colorscale\": [[0.0, \"#0d0887\"], [0.1111111111111111, \"#46039f\"], [0.2222222222222222, \"#7201a8\"], [0.3333333333333333, \"#9c179e\"], [0.4444444444444444, \"#bd3786\"], [0.5555555555555556, \"#d8576b\"], [0.6666666666666666, \"#ed7953\"], [0.7777777777777778, \"#fb9f3a\"], [0.8888888888888888, \"#fdca26\"], [1.0, \"#f0f921\"]], \"type\": \"histogram2dcontour\"}], \"mesh3d\": [{\"colorbar\": {\"outlinewidth\": 0, \"ticks\": \"\"}, \"type\": \"mesh3d\"}], \"parcoords\": [{\"line\": {\"colorbar\": {\"outlinewidth\": 0, \"ticks\": \"\"}}, \"type\": \"parcoords\"}], \"pie\": [{\"automargin\": true, \"type\": \"pie\"}], \"scatter\": [{\"marker\": {\"colorbar\": {\"outlinewidth\": 0, \"ticks\": \"\"}}, \"type\": \"scatter\"}], \"scatter3d\": [{\"line\": {\"colorbar\": {\"outlinewidth\": 0, \"ticks\": \"\"}}, \"marker\": {\"colorbar\": {\"outlinewidth\": 0, \"ticks\": \"\"}}, \"type\": \"scatter3d\"}], \"scattercarpet\": [{\"marker\": {\"colorbar\": {\"outlinewidth\": 0, \"ticks\": \"\"}}, \"type\": \"scattercarpet\"}], \"scattergeo\": [{\"marker\": {\"colorbar\": {\"outlinewidth\": 0, \"ticks\": \"\"}}, \"type\": \"scattergeo\"}], \"scattergl\": [{\"marker\": {\"colorbar\": {\"outlinewidth\": 0, \"ticks\": \"\"}}, \"type\": \"scattergl\"}], \"scattermapbox\": [{\"marker\": {\"colorbar\": {\"outlinewidth\": 0, \"ticks\": \"\"}}, \"type\": \"scattermapbox\"}], \"scatterpolar\": [{\"marker\": {\"colorbar\": {\"outlinewidth\": 0, \"ticks\": \"\"}}, \"type\": \"scatterpolar\"}], \"scatterpolargl\": [{\"marker\": {\"colorbar\": {\"outlinewidth\": 0, \"ticks\": \"\"}}, \"type\": \"scatterpolargl\"}], \"scatterternary\": [{\"marker\": {\"colorbar\": {\"outlinewidth\": 0, \"ticks\": \"\"}}, \"type\": \"scatterternary\"}], \"surface\": [{\"colorbar\": {\"outlinewidth\": 0, \"ticks\": \"\"}, \"colorscale\": [[0.0, \"#0d0887\"], [0.1111111111111111, \"#46039f\"], [0.2222222222222222, \"#7201a8\"], [0.3333333333333333, \"#9c179e\"], [0.4444444444444444, \"#bd3786\"], [0.5555555555555556, \"#d8576b\"], [0.6666666666666666, \"#ed7953\"], [0.7777777777777778, \"#fb9f3a\"], [0.8888888888888888, \"#fdca26\"], [1.0, \"#f0f921\"]], \"type\": \"surface\"}], \"table\": [{\"cells\": {\"fill\": {\"color\": \"#EBF0F8\"}, \"line\": {\"color\": \"white\"}}, \"header\": {\"fill\": {\"color\": \"#C8D4E3\"}, \"line\": {\"color\": \"white\"}}, \"type\": \"table\"}]}, \"layout\": {\"annotationdefaults\": {\"arrowcolor\": \"#2a3f5f\", \"arrowhead\": 0, \"arrowwidth\": 1}, \"coloraxis\": {\"colorbar\": {\"outlinewidth\": 0, \"ticks\": \"\"}}, \"colorscale\": {\"diverging\": [[0, \"#8e0152\"], [0.1, \"#c51b7d\"], [0.2, \"#de77ae\"], [0.3, \"#f1b6da\"], [0.4, \"#fde0ef\"], [0.5, \"#f7f7f7\"], [0.6, \"#e6f5d0\"], [0.7, \"#b8e186\"], [0.8, \"#7fbc41\"], [0.9, \"#4d9221\"], [1, \"#276419\"]], \"sequential\": [[0.0, \"#0d0887\"], [0.1111111111111111, \"#46039f\"], [0.2222222222222222, \"#7201a8\"], [0.3333333333333333, \"#9c179e\"], [0.4444444444444444, \"#bd3786\"], [0.5555555555555556, \"#d8576b\"], [0.6666666666666666, \"#ed7953\"], [0.7777777777777778, \"#fb9f3a\"], [0.8888888888888888, \"#fdca26\"], [1.0, \"#f0f921\"]], \"sequentialminus\": [[0.0, \"#0d0887\"], [0.1111111111111111, \"#46039f\"], [0.2222222222222222, \"#7201a8\"], [0.3333333333333333, \"#9c179e\"], [0.4444444444444444, \"#bd3786\"], [0.5555555555555556, \"#d8576b\"], [0.6666666666666666, \"#ed7953\"], [0.7777777777777778, \"#fb9f3a\"], [0.8888888888888888, \"#fdca26\"], [1.0, \"#f0f921\"]]}, \"colorway\": [\"#636efa\", \"#EF553B\", \"#00cc96\", \"#ab63fa\", \"#FFA15A\", \"#19d3f3\", \"#FF6692\", \"#B6E880\", \"#FF97FF\", \"#FECB52\"], \"font\": {\"color\": \"#2a3f5f\"}, \"geo\": {\"bgcolor\": \"white\", \"lakecolor\": \"white\", \"landcolor\": \"#E5ECF6\", \"showlakes\": true, \"showland\": true, \"subunitcolor\": \"white\"}, \"hoverlabel\": {\"align\": \"left\"}, \"hovermode\": \"closest\", \"mapbox\": {\"style\": \"light\"}, \"paper_bgcolor\": \"white\", \"plot_bgcolor\": \"#E5ECF6\", \"polar\": {\"angularaxis\": {\"gridcolor\": \"white\", \"linecolor\": \"white\", \"ticks\": \"\"}, \"bgcolor\": \"#E5ECF6\", \"radialaxis\": {\"gridcolor\": \"white\", \"linecolor\": \"white\", \"ticks\": \"\"}}, \"scene\": {\"xaxis\": {\"backgroundcolor\": \"#E5ECF6\", \"gridcolor\": \"white\", \"gridwidth\": 2, \"linecolor\": \"white\", \"showbackground\": true, \"ticks\": \"\", \"zerolinecolor\": \"white\"}, \"yaxis\": {\"backgroundcolor\": \"#E5ECF6\", \"gridcolor\": \"white\", \"gridwidth\": 2, \"linecolor\": \"white\", \"showbackground\": true, \"ticks\": \"\", \"zerolinecolor\": \"white\"}, \"zaxis\": {\"backgroundcolor\": \"#E5ECF6\", \"gridcolor\": \"white\", \"gridwidth\": 2, \"linecolor\": \"white\", \"showbackground\": true, \"ticks\": \"\", \"zerolinecolor\": \"white\"}}, \"shapedefaults\": {\"line\": {\"color\": \"#2a3f5f\"}}, \"ternary\": {\"aaxis\": {\"gridcolor\": \"white\", \"linecolor\": \"white\", \"ticks\": \"\"}, \"baxis\": {\"gridcolor\": \"white\", \"linecolor\": \"white\", \"ticks\": \"\"}, \"bgcolor\": \"#E5ECF6\", \"caxis\": {\"gridcolor\": \"white\", \"linecolor\": \"white\", \"ticks\": \"\"}}, \"title\": {\"x\": 0.05}, \"xaxis\": {\"automargin\": true, \"gridcolor\": \"white\", \"linecolor\": \"white\", \"ticks\": \"\", \"title\": {\"standoff\": 15}, \"zerolinecolor\": \"white\", \"zerolinewidth\": 2}, \"yaxis\": {\"automargin\": true, \"gridcolor\": \"white\", \"linecolor\": \"white\", \"ticks\": \"\", \"title\": {\"standoff\": 15}, \"zerolinecolor\": \"white\", \"zerolinewidth\": 2}}}, \"title\": {\"text\": \"Duration of TV Shows\"}, \"xaxis\": {\"anchor\": \"y\", \"domain\": [0.0, 1.0], \"dtick\": 1, \"tick0\": 1, \"tickmode\": \"linear\", \"title\": {\"text\": \"Duration (seasons)\"}}, \"yaxis\": {\"anchor\": \"x\", \"domain\": [0.0, 1.0], \"title\": {\"text\": \"Total number\"}}},\n",
              "                        {\"responsive\": true}\n",
              "                    ).then(function(){\n",
              "                            \n",
              "var gd = document.getElementById('35da5525-0d21-4a8b-bbcd-dfaf7d2d640d');\n",
              "var x = new MutationObserver(function (mutations, observer) {{\n",
              "        var display = window.getComputedStyle(gd).display;\n",
              "        if (!display || display === 'none') {{\n",
              "            console.log([gd, 'removed!']);\n",
              "            Plotly.purge(gd);\n",
              "            observer.disconnect();\n",
              "        }}\n",
              "}});\n",
              "\n",
              "// Listen for the removal of the full notebook cells\n",
              "var notebookContainer = gd.closest('#notebook-container');\n",
              "if (notebookContainer) {{\n",
              "    x.observe(notebookContainer, {childList: true});\n",
              "}}\n",
              "\n",
              "// Listen for the clearing of the current output cell\n",
              "var outputEl = gd.closest('.output');\n",
              "if (outputEl) {{\n",
              "    x.observe(outputEl, {childList: true});\n",
              "}}\n",
              "\n",
              "                        })\n",
              "                };\n",
              "                \n",
              "            </script>\n",
              "        </div>\n",
              "</body>\n",
              "</html>"
            ]
          },
          "metadata": {
            "tags": []
          }
        }
      ]
    },
    {
      "cell_type": "code",
      "metadata": {
        "colab": {
          "base_uri": "https://localhost:8080/",
          "height": 542
        },
        "id": "gZbkm76gQkn8",
        "outputId": "eb07160a-aecd-46ef-9df0-ed6d470421d5"
      },
      "source": [
        "fig = px.histogram(data[data['type']=='Movie'], x=\"duration\")\n",
        "\n",
        "fig.update_layout(\n",
        "    title='Duration of movies',\n",
        "    xaxis_title=\"Duration (min)\",\n",
        "    yaxis_title=\"Count\",\n",
        "    xaxis = dict(\n",
        "        tickmode = 'linear',\n",
        "        tick0 = 0,\n",
        "        dtick = 15),\n",
        ")\n",
        "\n",
        "fig.update_traces(\n",
        "    xbins = dict( # bins used for histogram\n",
        "        start = 0,\n",
        "        end = 315,\n",
        "        size = 15)\n",
        "    )\n",
        "fig.show()"
      ],
      "execution_count": 31,
      "outputs": [
        {
          "output_type": "display_data",
          "data": {
            "text/html": [
              "<html>\n",
              "<head><meta charset=\"utf-8\" /></head>\n",
              "<body>\n",
              "    <div>\n",
              "            <script src=\"https://cdnjs.cloudflare.com/ajax/libs/mathjax/2.7.5/MathJax.js?config=TeX-AMS-MML_SVG\"></script><script type=\"text/javascript\">if (window.MathJax) {MathJax.Hub.Config({SVG: {font: \"STIX-Web\"}});}</script>\n",
              "                <script type=\"text/javascript\">window.PlotlyConfig = {MathJaxConfig: 'local'};</script>\n",
              "        <script src=\"https://cdn.plot.ly/plotly-latest.min.js\"></script>    \n",
              "            <div id=\"85e6d7d1-9774-40bc-bf5e-4ffca40a7f1f\" class=\"plotly-graph-div\" style=\"height:525px; width:100%;\"></div>\n",
              "            <script type=\"text/javascript\">\n",
              "                \n",
              "                    window.PLOTLYENV=window.PLOTLYENV || {};\n",
              "                    \n",
              "                if (document.getElementById(\"85e6d7d1-9774-40bc-bf5e-4ffca40a7f1f\")) {\n",
              "                    Plotly.newPlot(\n",
              "                        '85e6d7d1-9774-40bc-bf5e-4ffca40a7f1f',\n",
              "                        [{\"alignmentgroup\": \"True\", \"bingroup\": \"x\", \"hoverlabel\": {\"namelength\": 0}, \"hovertemplate\": \"duration=%{x}<br>count=%{y}\", \"legendgroup\": \"\", \"marker\": {\"color\": \"#636efa\"}, \"name\": \"\", \"offsetgroup\": \"\", \"orientation\": \"v\", \"showlegend\": false, \"type\": \"histogram\", \"x\": [93, 78, 80, 123, 95, 119, 118, 143, 103, 89, 91, 149, 144, 124, 87, 110, 128, 117, 100, 84, 99, 95, 90, 102, 104, 99, 105, 56, 125, 119, 81, 97, 106, 99, 107, 93, 89, 105, 87, 97, 109, 93, 109, 44, 75, 101, 89, 90, 90, 93, 101, 37, 113, 89, 84, 102, 102, 114, 130, 90, 94, 97, 143, 91, 107, 95, 119, 93, 101, 93, 140, 135, 82, 70, 104, 117, 121, 92, 124, 164, 53, 93, 91, 83, 93, 114, 116, 93, 81, 84, 105, 86, 120, 106, 92, 96, 97, 99, 100, 126, 96, 75, 94, 129, 80, 103, 96, 77, 137, 148, 123, 121, 95, 28, 99, 104, 122, 104, 94, 176, 107, 90, 94, 101, 87, 92, 85, 93, 22, 95, 86, 137, 101, 68, 121, 111, 110, 29, 142, 168, 102, 92, 86, 22, 22, 21, 59, 93, 86, 80, 109, 92, 92, 89, 96, 95, 87, 93, 113, 20, 117, 97, 98, 108, 125, 91, 76, 90, 82, 111, 92, 110, 94, 100, 91, 94, 44, 108, 130, 83, 123, 106, 87, 130, 100, 96, 89, 95, 26, 156, 98, 30, 108, 92, 28, 99, 85, 122, 84, 57, 107, 102, 103, 91, 104, 91, 110, 111, 77, 99, 122, 150, 117, 126, 148, 122, 95, 133, 164, 115, 154, 133, 110, 127, 146, 136, 100, 90, 88, 131, 44, 101, 123, 90, 89, 87, 24, 88, 133, 110, 112, 129, 87, 87, 120, 59, 74, 96, 91, 59, 105, 63, 111, 96, 99, 92, 86, 90, 63, 106, 38, 93, 87, 25, 105, 94, 107, 89, 92, 22, 174, 60, 97, 122, 91, 84, 97, 127, 153, 158, 151, 150, 105, 109, 81, 162, 104, 54, 94, 83, 85, 106, 60, 102, 88, 51, 100, 131, 109, 69, 106, 115, 60, 64, 110, 54, 147, 112, 87, 63, 88, 42, 90, 89, 79, 101, 102, 122, 85, 83, 92, 40, 84, 104, 91, 109, 100, 90, 90, 94, 99, 90, 95, 92, 103, 103, 103, 45, 45, 90, 106, 75, 98, 112, 92, 103, 104, 92, 172, 125, 96, 44, 81, 112, 122, 101, 53, 53, 110, 10, 99, 95, 119, 163, 55, 84, 96, 102, 90, 106, 72, 127, 116, 128, 61, 57, 80, 80, 75, 75, 79, 93, 129, 108, 87, 71, 97, 91, 83, 85, 116, 130, 111, 113, 97, 102, 106, 160, 137, 171, 171, 104, 95, 90, 128, 103, 121, 30, 48, 139, 105, 104, 162, 157, 15, 106, 130, 88, 146, 64, 104, 127, 92, 100, 72, 118, 110, 65, 64, 59, 122, 90, 60, 134, 89, 161, 86, 87, 130, 107, 80, 79, 62, 93, 81, 87, 54, 98, 113, 91, 89, 63, 110, 98, 125, 106, 93, 139, 90, 123, 168, 83, 101, 94, 100, 117, 133, 81, 91, 104, 106, 112, 122, 102, 88, 99, 186, 49, 94, 90, 95, 97, 110, 97, 73, 88, 150, 97, 91, 92, 111, 101, 112, 73, 89, 129, 58, 80, 65, 99, 126, 135, 127, 165, 166, 166, 138, 159, 160, 159, 136, 112, 101, 143, 127, 98, 61, 95, 86, 84, 111, 92, 102, 97, 90, 119, 147, 99, 130, 87, 83, 83, 105, 91, 117, 117, 78, 75, 78, 149, 103, 108, 84, 94, 95, 141, 122, 134, 107, 126, 122, 95, 88, 101, 74, 64, 74, 74, 83, 72, 79, 72, 80, 75, 75, 72, 109, 132, 110, 99, 144, 91, 105, 166, 103, 128, 118, 87, 77, 98, 94, 125, 29, 102, 121, 116, 110, 88, 52, 89, 52, 137, 51, 110, 92, 119, 81, 73, 75, 99, 89, 121, 100, 92, 100, 98, 97, 97, 86, 105, 100, 96, 115, 99, 76, 113, 88, 106, 127, 90, 74, 91, 85, 90, 102, 90, 87, 100, 25, 94, 105, 99, 116, 82, 120, 77, 92, 107, 62, 57, 70, 98, 77, 44, 97, 100, 104, 56, 108, 83, 91, 149, 112, 102, 98, 107, 59, 120, 151, 116, 112, 117, 130, 74, 150, 63, 138, 148, 114, 123, 97, 105, 107, 106, 87, 93, 88, 126, 107, 103, 90, 68, 100, 95, 108, 86, 81, 65, 67, 78, 69, 28, 34, 61, 56, 81, 97, 132, 110, 66, 127, 131, 107, 124, 38, 115, 88, 97, 116, 132, 117, 137, 100, 79, 162, 144, 79, 312, 135, 83, 114, 88, 116, 91, 83, 80, 90, 106, 129, 94, 94, 120, 83, 91, 130, 91, 102, 85, 88, 110, 113, 123, 180, 98, 81, 90, 90, 94, 112, 129, 85, 108, 60, 60, 97, 47, 99, 83, 168, 116, 99, 106, 130, 161, 111, 26, 92, 102, 99, 89, 108, 123, 86, 89, 88, 126, 117, 111, 79, 96, 70, 87, 89, 86, 74, 139, 112, 84, 100, 80, 86, 105, 90, 63, 96, 89, 90, 102, 51, 92, 94, 96, 108, 105, 81, 105, 116, 77, 61, 110, 110, 94, 51, 118, 100, 95, 133, 97, 110, 90, 120, 155, 91, 90, 90, 129, 103, 103, 14, 95, 103, 73, 94, 95, 94, 97, 98, 98, 119, 76, 104, 148, 78, 102, 94, 98, 108, 128, 110, 122, 177, 104, 135, 127, 114, 98, 87, 151, 78, 73, 125, 126, 101, 11, 11, 22, 93, 95, 105, 104, 104, 117, 101, 120, 114, 93, 104, 99, 9, 103, 126, 81, 46, 104, 92, 142, 131, 113, 83, 67, 63, 82, 119, 98, 98, 85, 84, 82, 111, 145, 125, 108, 81, 108, 141, 117, 74, 96, 82, 75, 77, 60, 107, 156, 110, 116, 148, 126, 135, 110, 129, 132, 118, 166, 112, 164, 102, 121, 87, 95, 86, 106, 121, 115, 98, 106, 94, 85, 121, 121, 113, 89, 129, 99, 105, 116, 115, 71, 75, 135, 88, 87, 63, 62, 62, 112, 113, 82, 25, 98, 87, 63, 112, 127, 111, 63, 92, 105, 146, 96, 90, 114, 101, 80, 84, 66, 55, 98, 65, 92, 99, 59, 119, 87, 106, 87, 112, 88, 105, 101, 86, 86, 91, 99, 104, 86, 104, 47, 56, 61, 34, 158, 118, 127, 130, 115, 86, 87, 109, 151, 106, 130, 69, 77, 110, 102, 88, 106, 91, 98, 103, 89, 108, 104, 124, 95, 112, 96, 172, 124, 90, 95, 85, 51, 137, 57, 98, 91, 88, 69, 120, 98, 98, 73, 66, 62, 56, 118, 110, 114, 112, 105, 92, 117, 137, 84, 52, 96, 112, 90, 106, 106, 116, 97, 100, 127, 96, 88, 45, 8, 101, 12, 69, 88, 91, 103, 88, 75, 90, 90, 97, 67, 112, 102, 114, 107, 110, 14, 78, 80, 108, 67, 40, 81, 120, 101, 114, 95, 90, 45, 99, 93, 82, 96, 96, 59, 58, 102, 107, 156, 82, 118, 133, 153, 135, 117, 103, 93, 82, 115, 151, 103, 117, 64, 100, 81, 70, 52, 161, 97, 55, 78, 103, 108, 75, 113, 98, 100, 91, 93, 81, 90, 113, 97, 104, 116, 121, 112, 66, 85, 84, 77, 97, 73, 107, 91, 76, 81, 110, 90, 94, 78, 97, 86, 86, 94, 83, 43, 100, 92, 149, 93, 91, 88, 100, 94, 111, 71, 53, 101, 146, 93, 107, 156, 82, 137, 79, 92, 128, 101, 102, 102, 96, 62, 56, 99, 83, 140, 62, 70, 66, 74, 50, 69, 94, 88, 76, 107, 90, 79, 136, 99, 97, 88, 137, 87, 108, 94, 123, 128, 157, 114, 127, 127, 102, 124, 132, 113, 93, 113, 96, 90, 133, 90, 69, 23, 23, 165, 185, 174, 176, 166, 145, 109, 118, 154, 115, 90, 108, 134, 107, 111, 87, 112, 107, 95, 165, 91, 106, 121, 200, 93, 118, 120, 90, 99, 90, 107, 89, 169, 148, 83, 96, 99, 95, 88, 94, 115, 113, 93, 93, 92, 98, 65, 127, 105, 97, 114, 134, 142, 105, 105, 110, 94, 104, 126, 94, 69, 82, 86, 86, 103, 94, 103, 97, 84, 98, 97, 68, 27, 46, 46, 46, 42, 92, 109, 46, 89, 92, 162, 119, 99, 97, 100, 102, 94, 92, 97, 93, 162, 85, 110, 170, 165, 141, 88, 52, 90, 81, 91, 107, 106, 92, 140, 127, 82, 98, 69, 90, 92, 103, 80, 65, 133, 153, 100, 109, 102, 124, 105, 120, 134, 151, 141, 120, 106, 109, 105, 89, 123, 119, 85, 82, 52, 106, 48, 73, 122, 74, 95, 73, 79, 94, 143, 81, 196, 84, 28, 27, 98, 119, 90, 109, 93, 92, 49, 90, 102, 82, 128, 90, 74, 94, 87, 108, 151, 40, 109, 91, 163, 66, 93, 124, 85, 59, 103, 105, 102, 107, 52, 81, 99, 69, 88, 120, 95, 100, 91, 110, 124, 96, 69, 91, 96, 103, 102, 96, 98, 133, 124, 127, 102, 134, 108, 133, 103, 58, 79, 101, 78, 96, 103, 81, 95, 117, 110, 25, 108, 99, 106, 103, 92, 90, 60, 89, 54, 106, 61, 150, 80, 124, 98, 82, 99, 92, 29, 109, 91, 33, 102, 114, 146, 94, 75, 158, 61, 90, 72, 95, 100, 97, 118, 92, 70, 110, 58, 91, 60, 86, 91, 63, 133, 103, 117, 181, 118, 101, 204, 29, 92, 94, 118, 98, 90, 93, 125, 106, 114, 40, 83, 117, 99, 60, 60, 91, 96, 102, 90, 123, 103, 137, 90, 112, 49, 61, 78, 124, 60, 104, 83, 163, 119, 74, 102, 83, 88, 86, 66, 90, 134, 92, 145, 105, 95, 93, 93, 84, 112, 93, 81, 98, 123, 132, 74, 87, 105, 109, 96, 61, 88, 125, 118, 113, 100, 79, 86, 61, 54, 66, 87, 70, 32, 85, 91, 105, 93, 65, 115, 91, 58, 51, 139, 112, 135, 99, 103, 116, 72, 86, 104, 97, 92, 161, 104, 93, 35, 93, 99, 106, 47, 52, 97, 85, 135, 75, 110, 88, 91, 134, 82, 87, 106, 109, 97, 88, 98, 110, 88, 123, 104, 128, 91, 132, 88, 58, 57, 126, 101, 108, 111, 135, 96, 98, 98, 98, 102, 86, 148, 167, 96, 109, 70, 78, 79, 78, 62, 96, 95, 126, 97, 107, 118, 130, 154, 90, 107, 95, 96, 52, 87, 103, 109, 98, 101, 103, 110, 104, 85, 101, 129, 163, 100, 78, 58, 47, 110, 145, 58, 56, 22, 95, 161, 141, 115, 101, 96, 68, 58, 90, 126, 106, 92, 103, 82, 71, 121, 77, 91, 77, 86, 103, 42, 60, 111, 103, 129, 113, 106, 105, 101, 91, 88, 137, 22, 130, 89, 110, 112, 135, 148, 100, 101, 96, 115, 96, 90, 103, 75, 99, 99, 93, 90, 90, 101, 145, 95, 92, 102, 90, 144, 137, 98, 109, 150, 117, 93, 96, 133, 71, 80, 57, 98, 110, 131, 95, 102, 66, 65, 114, 96, 97, 106, 82, 78, 67, 84, 95, 120, 149, 126, 90, 143, 113, 106, 155, 57, 121, 91, 100, 101, 137, 138, 125, 95, 154, 106, 116, 116, 97, 93, 129, 111, 117, 65, 158, 110, 108, 79, 95, 81, 99, 86, 73, 70, 68, 86, 138, 110, 78, 127, 129, 91, 179, 113, 79, 105, 93, 98, 94, 79, 96, 67, 99, 62, 55, 101, 88, 95, 87, 83, 90, 100, 73, 135, 151, 109, 109, 89, 99, 86, 86, 85, 129, 98, 93, 111, 58, 95, 89, 97, 89, 90, 104, 119, 92, 107, 124, 87, 91, 94, 118, 86, 102, 122, 126, 117, 65, 118, 126, 87, 156, 97, 96, 89, 97, 40, 143, 81, 88, 87, 96, 104, 129, 124, 118, 111, 125, 120, 91, 137, 104, 80, 127, 141, 117, 140, 95, 93, 97, 118, 100, 118, 150, 44, 54, 170, 118, 126, 128, 104, 105, 86, 94, 106, 92, 108, 89, 95, 103, 92, 102, 126, 87, 138, 73, 84, 111, 100, 119, 94, 86, 142, 95, 95, 80, 79, 81, 120, 61, 85, 104, 96, 91, 134, 93, 120, 83, 82, 88, 102, 101, 96, 97, 105, 101, 86, 88, 84, 89, 113, 110, 105, 116, 94, 110, 104, 116, 47, 102, 51, 143, 103, 104, 127, 83, 193, 176, 95, 149, 131, 79, 101, 97, 89, 91, 140, 85, 85, 150, 82, 117, 84, 106, 107, 90, 98, 82, 87, 54, 102, 114, 99, 139, 94, 88, 89, 93, 82, 117, 91, 91, 97, 89, 106, 116, 128, 81, 88, 80, 100, 96, 80, 67, 119, 75, 112, 135, 110, 94, 91, 121, 108, 104, 124, 13, 87, 128, 78, 72, 72, 78, 75, 140, 108, 97, 103, 95, 86, 104, 101, 94, 98, 114, 99, 94, 103, 89, 99, 116, 102, 129, 87, 148, 103, 89, 119, 106, 90, 118, 95, 101, 123, 127, 116, 119, 99, 90, 90, 153, 122, 109, 125, 106, 141, 106, 103, 122, 87, 116, 45, 102, 107, 148, 116, 88, 99, 100, 99, 72, 134, 87, 91, 88, 96, 107, 108, 105, 105, 127, 137, 77, 108, 71, 93, 96, 99, 102, 129, 130, 115, 113, 88, 98, 140, 92, 127, 127, 101, 101, 112, 91, 84, 105, 88, 141, 68, 162, 163, 147, 142, 143, 93, 86, 68, 65, 58, 154, 44, 92, 90, 124, 91, 76, 155, 101, 132, 92, 22, 132, 94, 132, 94, 77, 107, 103, 142, 128, 105, 97, 90, 84, 69, 58, 97, 80, 71, 71, 85, 75, 59, 119, 78, 69, 67, 103, 109, 62, 61, 81, 69, 134, 80, 53, 84, 86, 44, 131, 94, 72, 74, 71, 77, 70, 77, 87, 67, 71, 62, 102, 62, 58, 83, 135, 124, 69, 79, 181, 60, 55, 63, 128, 98, 69, 78, 214, 90, 67, 64, 64, 79, 90, 133, 125, 92, 90, 80, 70, 65, 60, 62, 17, 98, 96, 97, 101, 135, 75, 79, 99, 101, 90, 84, 70, 137, 133, 145, 91, 52, 123, 113, 107, 128, 101, 104, 94, 96, 107, 92, 95, 106, 90, 106, 138, 110, 100, 139, 130, 132, 133, 126, 91, 173, 105, 148, 192, 151, 209, 171, 120, 122, 85, 120, 113, 187, 154, 99, 80, 105, 41, 107, 128, 104, 93, 110, 160, 138, 112, 101, 110, 107, 65, 135, 118, 137, 117, 65, 118, 86, 140, 66, 64, 71, 89, 60, 61, 85, 45, 132, 53, 116, 133, 116, 82, 62, 68, 62, 60, 89, 75, 67, 96, 70, 63, 62, 42, 90, 170, 151, 121, 132, 124, 120, 157, 124, 110, 90, 97, 108, 95, 90, 102, 111, 137, 100, 53, 100, 87, 106, 112, 107, 87, 86, 100, 80, 97, 103, 109, 81, 182, 88, 98, 110, 114, 87, 132, 101, 145, 93, 116, 85, 84, 92, 98, 88, 99, 63, 121, 104, 104, 105, 135, 56, 107, 95, 96, 115, 117, 58, 62, 65, 61, 65, 65, 58, 60, 81, 126, 124, 85, 114, 93, 136, 185, 126, 99, 79, 26, 23, 107, 106, 133, 147, 95, 100, 149, 165, 124, 52, 150, 165, 84, 104, 114, 109, 88, 50, 87, 92, 143, 116, 112, 40, 94, 101, 104, 110, 111, 83, 101, 224, 118, 111, 185, 153, 145, 82, 140, 87, 68, 86, 86, 76, 115, 93, 98, 83, 81, 116, 105, 99, 121, 54, 78, 100, 89, 37, 33, 35, 32, 147, 132, 110, 132, 97, 108, 101, 68, 100, 22, 48, 25, 22, 22, 22, 44, 22, 111, 109, 78, 103, 158, 66, 24, 144, 93, 58, 116, 113, 90, 68, 104, 86, 118, 99, 89, 126, 83, 109, 80, 40, 109, 84, 104, 105, 99, 104, 105, 116, 94, 85, 59, 150, 109, 94, 111, 95, 59, 103, 116, 58, 89, 92, 95, 23, 25, 85, 20, 102, 90, 68, 67, 66, 70, 66, 68, 69, 91, 102, 149, 87, 98, 94, 90, 233, 108, 85, 105, 95, 103, 89, 118, 114, 153, 106, 96, 68, 40, 96, 117, 88, 116, 155, 28, 71, 88, 64, 92, 93, 95, 86, 92, 74, 84, 66, 140, 110, 106, 98, 101, 96, 103, 105, 93, 111, 94, 109, 87, 163, 103, 120, 93, 133, 77, 97, 101, 111, 115, 91, 103, 95, 92, 84, 82, 124, 77, 91, 79, 112, 113, 50, 81, 81, 87, 71, 98, 66, 102, 156, 113, 144, 131, 150, 125, 100, 110, 100, 121, 129, 51, 117, 94, 32, 107, 76, 118, 108, 101, 93, 99, 84, 102, 134, 91, 78, 128, 141, 128, 95, 73, 110, 143, 189, 75, 119, 56, 134, 92, 109, 171, 129, 137, 192, 33, 21, 106, 132, 133, 131, 51, 89, 70, 71, 91, 131, 101, 105, 88, 155, 103, 97, 92, 98, 109, 110, 136, 133, 152, 173, 89, 129, 162, 112, 85, 114, 75, 89, 177, 93, 112, 99, 107, 71, 95, 70, 73, 29, 90, 64, 50, 38, 69, 29, 67, 94, 135, 137, 90, 104, 55, 62, 83, 77, 74, 75, 72, 103, 120, 131, 100, 95, 112, 138, 143, 108, 91, 80, 94, 132, 57, 136, 63, 84, 111, 99, 93, 114, 122, 120, 100, 67, 132, 83, 54, 105, 98, 112, 94, 90, 75, 48, 150, 126, 110, 84, 118, 97, 86, 98, 88, 101, 82, 81, 112, 88, 99, 79, 88, 88, 103, 115, 115, 106, 162, 103, 93, 116, 100, 95, 102, 105, 148, 105, 86, 54, 61, 19, 63, 59, 60, 113, 92, 87, 112, 26, 97, 76, 71, 86, 56, 60, 63, 124, 94, 100, 115, 102, 128, 99, 88, 106, 83, 78, 128, 136, 132, 129, 98, 62, 106, 129, 120, 81, 82, 85, 90, 136, 89, 130, 85, 90, 94, 86, 102, 94, 100, 119, 107, 93, 109, 93, 57, 64, 54, 109, 96, 92, 168, 93, 100, 141, 139, 92, 119, 84, 57, 96, 122, 83, 117, 93, 73, 72, 72, 46, 74, 46, 46, 74, 71, 72, 76, 23, 60, 46, 91, 81, 101, 119, 92, 55, 137, 56, 58, 80, 94, 94, 97, 111, 96, 135, 91, 84, 121, 61, 83, 103, 127, 132, 117, 109, 74, 94, 105, 131, 105, 97, 102, 93, 97, 96, 97, 91, 86, 88, 107, 90, 153, 96, 104, 96, 136, 131, 135, 150, 98, 158, 163, 98, 77, 107, 116, 135, 104, 139, 85, 110, 172, 128, 134, 98, 79, 97, 102, 106, 86, 127, 94, 185, 136, 105, 80, 84, 97, 92, 116, 95, 99, 77, 121, 91, 100, 91, 102, 119, 115, 100, 68, 44, 72, 73, 73, 44, 44, 115, 61, 86, 104, 82, 92, 90, 99, 109, 93, 100, 107, 95, 111, 86, 111, 108, 101, 99, 100, 99, 104, 138, 88, 122, 141, 147, 92, 73, 85, 97, 91, 171, 130, 80, 101, 91, 99, 93, 96, 102, 95, 85, 97, 95, 83, 115, 72, 69, 76, 60, 51, 61, 114, 92, 82, 42, 131, 165, 91, 101, 53, 121, 59, 110, 66, 137, 103, 132, 108, 108, 89, 107, 91, 117, 84, 96, 117, 106, 124, 104, 87, 113, 93, 59, 118, 97, 64, 94, 115, 99, 107, 102, 125, 208, 161, 116, 106, 237, 131, 102, 103, 104, 109, 92, 103, 96, 117, 61, 89, 92, 90, 91, 50, 84, 87, 94, 133, 97, 53, 113, 53, 54, 53, 54, 113, 53, 53, 53, 54, 54, 52, 54, 54, 53, 53, 53, 113, 53, 86, 102, 114, 99, 55, 91, 117, 124, 102, 122, 84, 84, 120, 127, 122, 125, 72, 47, 23, 23, 121, 107, 140, 91, 89, 154, 103, 103, 106, 129, 102, 109, 157, 146, 146, 110, 121, 96, 102, 96, 82, 119, 169, 101, 97, 116, 100, 89, 92, 107, 95, 101, 78, 79, 86, 70, 66, 73, 83, 72, 111, 133, 142, 166, 160, 135, 135, 128, 120, 92, 87, 70, 31, 92, 89, 102, 93, 95, 86, 90, 97, 90, 88, 76, 86, 84, 99, 96, 111, 124, 93, 139, 91, 86, 61, 95, 107, 87, 104, 122, 97, 101, 96, 103, 88, 93, 90, 90, 92, 63, 103, 103, 94, 35, 85, 122, 102, 110, 116, 100, 105, 100, 118, 105, 117, 126, 129, 89, 82, 44, 71, 74, 130, 89, 106, 107, 134, 82, 82, 98, 96, 108, 106, 91, 163, 119, 125, 137, 112, 171, 69, 87, 137, 89, 94, 111, 74, 86, 93, 93, 106, 187, 109, 116, 77, 84, 63, 124, 72, 33, 115, 84, 140, 68, 90, 94, 117, 105, 66, 66, 91, 104, 110, 114, 73, 85, 112, 90, 48, 109, 98, 134, 95, 125, 89, 89, 92, 108, 102, 76, 104, 72, 109, 26, 105, 50, 92, 95, 93, 170, 170, 82, 108, 129, 85, 126, 159, 150, 118, 125, 112, 138, 96, 81, 108, 128, 81, 81, 90, 92, 112, 130, 65, 124, 127, 102, 81, 146, 133, 91, 81, 108, 120, 162, 106, 149, 92, 65, 28, 19, 25, 22, 40, 22, 24, 87, 97, 98, 98, 119, 88, 122, 88, 96, 114, 77, 98, 102, 138, 90, 128, 104, 86, 124, 24, 46, 24, 55, 24, 23, 24, 24, 106, 117, 52, 164, 127, 86, 84, 95, 131, 152, 93, 29, 97, 100, 124, 163, 84, 103, 92, 113, 88, 83, 100, 143, 102, 82, 165, 119, 154, 158, 92, 93, 87, 91, 120, 89, 24, 92, 149, 136, 120, 153, 96, 120, 161, 137, 57, 106, 98, 138, 128, 125, 93, 120, 124, 132, 98, 162, 150, 85, 155, 139, 99, 113, 71, 90, 83, 103, 143, 64, 63, 129, 93, 113, 117, 93, 124, 134, 119, 92, 97, 88, 177, 131, 119, 104, 116, 113, 69, 83, 32, 142, 178, 133, 90, 154, 100, 122, 115, 159, 110, 153, 126, 76, 88, 86, 104, 59, 230, 99, 144, 98, 46, 46, 127, 123, 111, 101, 73, 90, 81, 114, 112, 80, 100, 24, 100, 62, 116, 96, 49, 65, 84, 71, 74, 59, 59, 57, 88, 95, 112, 112, 152, 97, 97, 90, 94, 105, 28, 102, 124, 97, 118, 95, 92, 102, 100, 87, 120, 84, 66, 92, 31, 59, 59, 105, 79, 79, 99, 81, 91, 101, 99, 103, 88, 87, 132, 83, 101, 95, 107, 107, 105, 118, 87, 94, 73, 136, 96, 97, 44, 45, 92, 103, 110, 139, 46, 120, 119, 119, 100, 92, 104, 66, 53, 93, 116, 103, 104, 98, 80, 90, 79, 142, 135, 124, 110, 105, 141, 122, 75, 63, 93, 63, 118, 89, 26, 42, 62, 90, 66, 119, 137, 121, 137, 100, 143, 79, 103, 92, 89, 97, 134, 116, 110, 88, 115, 107, 63, 69, 93, 73, 72, 108, 141, 57, 82, 95, 117, 107, 131, 172, 118, 118, 128, 114, 91, 83, 105, 94, 137, 61, 86, 86, 118, 139, 173, 90, 152, 134, 194, 76, 99, 64, 50, 49, 71, 29, 110, 116, 119, 107, 83, 109, 65, 32, 122, 113, 88, 131, 228, 159, 111, 86, 91, 44, 72, 107, 87, 117, 50, 71, 102, 98, 140, 145, 126, 162, 131, 131, 133, 127, 141, 78, 150, 92, 153, 83, 146, 52, 95, 93, 53, 73, 126, 95, 119, 99, 173, 93, 93, 121, 88, 88, 195, 120, 112, 94, 77, 102, 112, 121, 117, 105, 96, 90, 93, 110, 86, 95, 49, 65, 76, 63, 101, 111, 98, 150, 108, 54, 54, 54, 55, 54, 55, 55, 114, 55, 55, 55, 92, 87, 96, 126, 117, 87, 102, 106, 109, 110, 69, 119, 115, 108, 106, 96, 85, 61, 70, 103, 123, 111, 116, 107, 94, 123, 128, 100, 102, 146, 145, 103, 109, 111, 100, 125, 111, 146, 116, 115, 126, 168, 109, 107, 148, 92, 91, 86, 28, 135, 83, 87, 71, 105, 113, 105, 111, 119, 112, 106, 128, 163, 121, 87, 103, 97, 168, 131, 116, 45, 75, 71, 106, 122, 97, 101, 89, 121, 98, 130, 127, 115, 96, 86, 95, 93, 89, 119, 105, 106, 141, 88, 3, 94, 77, 133, 122, 52, 105, 72, 101, 136, 158, 143, 142, 127, 92, 97, 87, 83, 88, 95, 105, 16, 76, 96, 78, 107, 80, 100, 93, 49, 94, 99, 101, 89, 135, 107, 115, 84, 95, 110, 92, 95, 66, 123, 83, 86, 89, 134, 126, 108, 137, 87, 142, 80, 62, 160, 5, 155, 91, 94, 135, 135, 104, 97, 92, 87, 128, 101, 77, 93, 109, 110, 97, 73, 131, 116, 88, 106, 94, 85, 130, 107, 98, 94, 137, 101, 108, 96, 75, 83, 111, 75, 139, 117, 79, 46, 95, 92, 29, 45, 47, 129, 94, 153, 112, 88, 100, 83, 88, 93, 140, 103, 88, 86, 88, 152, 33, 128, 106, 69, 101, 128, 94, 52, 23, 140, 98, 89, 108, 86, 91, 122, 74, 106, 100, 61, 91, 113, 100, 132, 96, 96, 96, 91, 113, 76, 127, 96, 104, 95, 85, 106, 117, 108, 123, 105, 85, 78, 97, 99, 95, 42, 95, 135, 130, 115, 107, 44, 114, 107, 93, 94, 94, 113, 74, 85, 63, 104, 176, 28, 24, 59, 24, 25, 25, 24, 25, 24, 127, 113, 91, 108, 154, 82, 140, 137, 98, 86, 121, 119, 85, 103, 86, 92, 126, 123, 185, 123, 75, 112, 116, 93, 83, 94, 97, 108, 101, 99, 104, 120, 177, 162, 95, 84, 97, 80, 109, 88, 107, 140, 120, 110, 103, 112, 111, 133, 102, 124, 114, 148, 110, 91, 81, 116, 89, 72, 112, 101, 98, 81, 114, 125, 61, 48, 128, 81, 91, 121, 103, 155, 119, 137, 89, 87, 88, 94, 125, 86, 67, 78, 108, 102, 127, 93, 109, 115, 98, 84, 133, 121, 156, 135, 135, 148, 131, 91, 108, 130, 100, 93, 108, 117, 117, 95, 104, 78, 87, 88, 93, 107, 99, 94, 90, 140, 105, 91, 98, 113, 89, 114, 97, 97, 108, 80, 79, 64, 101, 115, 90, 117, 101, 95, 86, 94, 76, 85, 102, 100, 119, 87, 101, 133, 112, 102, 83, 89, 80, 18, 112, 100, 110, 96, 92, 63, 72, 93, 91, 73, 98, 118, 121, 95, 95, 116, 98, 101, 86, 99, 91, 130, 90, 101, 106, 59, 118, 120, 115, 98, 111, 116, 97, 95, 86, 114, 122, 28, 103, 122, 95, 93, 107, 82, 118, 119, 88, 102, 119, 97, 96, 103, 81, 118, 96, 106, 93, 109, 112, 112, 96, 89, 60, 113, 126, 109, 93, 101, 111, 107, 100, 104, 115, 92, 103, 90, 17, 105, 102, 103, 118, 105, 103, 95, 101, 123, 112, 114, 101, 53, 81, 100, 99, 102, 66, 112, 83, 101, 149, 99, 105, 120, 93, 121, 75, 92, 95, 100, 93, 124, 106, 154, 107, 96, 97, 83, 67, 151, 78, 85, 139, 69, 84, 88, 110, 86, 108, 104, 102, 113, 109, 106, 117, 121, 99, 139, 110, 104, 95, 122, 105, 96, 130, 97, 87, 106, 112, 148, 85, 107, 76, 103, 112, 95, 88, 116, 121, 82, 107, 87, 46, 103, 97, 91, 91, 111, 101, 104, 92, 113, 93, 151, 89, 124, 115, 84, 106, 97, 92, 86, 46, 124, 83, 100, 107, 115, 104, 101, 158, 95, 97, 97, 89, 161, 205, 123, 190, 108, 136, 161, 114, 128, 133, 119, 101, 86, 124, 105, 91, 94, 168, 136, 94, 85, 108, 101, 116, 71, 147, 88, 99, 96, 132, 85, 95, 97, 92, 135, 36, 79, 120, 53, 94, 111, 123, 103, 111, 123, 114, 100, 84, 75, 118, 96, 102, 108, 99, 103, 93, 101, 112, 99, 129, 106, 100, 209, 24, 105, 93, 112, 52, 106, 123, 90, 140, 95, 100, 121, 97, 141, 118, 105, 133, 76, 93, 98, 86, 130, 113, 98, 84, 91, 104, 133, 105, 149, 93, 88, 131, 44, 119, 99, 96, 70, 107, 83, 110, 116, 88, 95, 96, 101, 83, 121, 87, 156, 87, 118, 30, 95, 107, 96, 110, 118, 89, 85, 107, 86, 83, 108, 138, 119, 93, 30, 91, 87, 121, 95, 103, 201, 179, 113, 110, 94, 127, 87, 87, 98, 98, 82, 85, 90, 46, 46, 46, 103, 137, 68, 107, 100, 195, 98, 138, 40, 137, 97, 136, 138, 129, 90, 116, 130, 60, 88, 40, 94, 113, 98, 119, 91, 95, 54, 86, 132, 44, 104, 91, 70, 102, 93, 92, 114, 104, 115, 85, 85, 138, 40, 59, 82, 107, 104, 90, 121, 90, 85, 99, 104, 126, 97, 91, 106, 95, 111, 106, 108, 84, 122, 111, 94, 123, 86, 95, 108, 94, 94, 87, 124, 141, 91, 93, 143, 148, 91, 103, 141, 110, 155, 93, 78, 118, 88, 89, 140, 94, 124, 110, 89, 100, 94, 96, 116, 92, 91, 111, 98, 102, 97, 125, 125, 132, 133, 76, 117, 90, 66, 105, 119, 136, 52, 81, 77, 108, 130, 120, 102, 116, 67, 90, 100, 123, 90, 120, 92, 93, 116, 107, 95, 87, 111, 14, 101, 91, 105, 103, 103, 90, 81, 120, 107, 90, 47, 111, 94, 92, 92, 99, 253, 124, 111, 32, 98, 86, 105, 100, 104, 123, 100, 105, 85, 108, 97, 97, 91, 96, 93, 122, 90, 163, 110, 143, 104, 103, 105, 94, 121, 93, 120, 95, 41, 97, 84, 46, 94, 94, 105, 81, 103, 122, 98, 90, 111, 97, 91, 89, 115, 98, 92, 106, 139, 81, 83, 123, 96, 118, 110, 94, 58, 96, 107, 97, 103, 24, 91, 136, 130, 91, 104, 94, 108, 91, 58, 99, 106, 126, 96, 93, 106, 103, 130, 91, 115, 91, 92, 103, 72, 138, 98, 125, 93, 111, 112, 90, 101, 101, 98, 111, 117, 41, 92, 117, 92, 88, 126, 157, 116, 47, 100, 114, 128, 101, 108, 53, 99, 89, 90, 111, 83, 85, 135, 94, 104, 132, 89, 97, 67, 86, 158, 72, 110, 98, 99, 82, 180, 107, 77, 123, 23, 23, 23, 122, 131, 77, 125, 125, 139, 88, 107, 96, 87, 104, 133, 93, 42, 56, 66, 92, 58, 130, 91, 108, 151, 30, 30, 146, 127, 98, 125, 96, 135, 88, 99, 78, 97, 100, 102, 81, 84, 88, 95, 108, 108, 96, 61, 63, 46, 78, 86, 176, 145, 89, 98, 60, 57, 60, 70, 74, 71, 74, 63, 119, 99, 117, 106, 94, 108, 87, 133, 106, 104, 94, 114, 107, 94, 59, 130, 89, 81, 102, 74, 47, 95, 46, 88, 118, 94, 114, 83, 119, 79, 114, 94, 111, 85, 88, 82, 82, 96, 100, 104, 101, 99, 98, 102, 100, 67, 64, 96, 134, 173, 113, 115, 126, 96, 93, 91, 27, 110, 90, 128, 128, 98, 108, 24, 24, 24, 24, 24, 46, 24, 124, 88, 125, 89, 162, 128, 72, 90, 123, 76, 96, 107, 102, 53, 110, 102, 86, 89, 117, 80, 95, 78, 90, 121, 99, 137, 146, 125, 115, 143, 109, 137, 96, 114, 94, 90, 104, 190, 100, 109, 116, 92, 95, 104, 98, 135, 113, 40, 94, 87, 102, 84, 108, 85, 94, 61, 85, 121, 94, 83, 114, 92, 105, 113, 97, 97, 83, 95, 93, 86, 110, 99, 106, 112, 116, 121, 62, 119, 95, 130, 119, 132, 86, 145, 90, 144, 106, 117, 130, 78, 113, 82, 81, 105, 126, 127, 109, 156, 106, 93, 110, 91, 113, 97, 115, 101, 91, 66, 76, 68, 50, 127, 100, 29, 125, 116, 166, 106, 106, 113, 93, 96, 99, 66, 119, 115, 130, 120, 93, 94, 111, 94, 132, 109, 81, 94, 100, 96, 90, 66, 95, 103, 61, 109, 147, 123, 98, 73, 92, 128, 93, 78, 68, 98, 74, 119, 109, 86, 123, 96, 83, 101, 95, 91, 90, 93, 38, 106, 94, 89, 91, 94, 72, 94, 95, 149, 124, 99, 73, 108, 131, 80, 84, 135, 106, 81, 93, 96, 105, 102, 92, 98, 17, 124, 102, 103, 99, 130, 52, 91, 87, 96, 92, 140, 96, 93, 32, 118, 110, 95, 203, 82, 107, 96, 75, 109, 103, 97, 89, 86, 97, 69, 98, 98, 93, 89, 120, 88, 90, 91, 59, 48, 78, 94, 90, 102, 50, 84, 126, 82, 98, 86, 106, 105, 93, 105, 72, 100, 89, 100, 104, 85, 86, 99, 100, 108, 106, 108, 93, 102, 74, 80, 92, 93, 109, 132, 69, 101, 97, 91, 94, 147, 129, 49, 93, 133, 140, 45, 68, 191, 135, 105, 92, 91, 81, 124, 101, 106, 137, 15, 171, 148, 132, 147, 151, 97, 117, 95, 90, 104, 111, 112, 107, 78, 96, 88, 78, 54, 63, 93, 87, 85, 157, 116, 113, 89, 107, 117, 112, 94, 81, 120, 115, 103, 72, 88, 98, 115, 130, 160, 61, 101, 109, 92, 131, 120, 159, 89, 126, 154, 96, 12, 105, 89, 158, 104, 88, 94, 88, 99, 111, 44, 90], \"xaxis\": \"x\", \"xbins\": {\"end\": 315, \"size\": 15, \"start\": 0}, \"yaxis\": \"y\"}],\n",
              "                        {\"barmode\": \"relative\", \"legend\": {\"tracegroupgap\": 0}, \"margin\": {\"t\": 60}, \"template\": {\"data\": {\"bar\": [{\"error_x\": {\"color\": \"#2a3f5f\"}, \"error_y\": {\"color\": \"#2a3f5f\"}, \"marker\": {\"line\": {\"color\": \"#E5ECF6\", \"width\": 0.5}}, \"type\": \"bar\"}], \"barpolar\": [{\"marker\": {\"line\": {\"color\": \"#E5ECF6\", \"width\": 0.5}}, \"type\": \"barpolar\"}], \"carpet\": [{\"aaxis\": {\"endlinecolor\": \"#2a3f5f\", \"gridcolor\": \"white\", \"linecolor\": \"white\", \"minorgridcolor\": \"white\", \"startlinecolor\": \"#2a3f5f\"}, \"baxis\": {\"endlinecolor\": \"#2a3f5f\", \"gridcolor\": \"white\", \"linecolor\": \"white\", \"minorgridcolor\": \"white\", \"startlinecolor\": \"#2a3f5f\"}, \"type\": \"carpet\"}], \"choropleth\": [{\"colorbar\": {\"outlinewidth\": 0, \"ticks\": \"\"}, \"type\": \"choropleth\"}], \"contour\": [{\"colorbar\": {\"outlinewidth\": 0, \"ticks\": \"\"}, \"colorscale\": [[0.0, \"#0d0887\"], [0.1111111111111111, \"#46039f\"], [0.2222222222222222, \"#7201a8\"], [0.3333333333333333, \"#9c179e\"], [0.4444444444444444, \"#bd3786\"], [0.5555555555555556, \"#d8576b\"], [0.6666666666666666, \"#ed7953\"], [0.7777777777777778, \"#fb9f3a\"], [0.8888888888888888, \"#fdca26\"], [1.0, \"#f0f921\"]], \"type\": \"contour\"}], \"contourcarpet\": [{\"colorbar\": {\"outlinewidth\": 0, \"ticks\": \"\"}, \"type\": \"contourcarpet\"}], \"heatmap\": [{\"colorbar\": {\"outlinewidth\": 0, \"ticks\": \"\"}, \"colorscale\": [[0.0, \"#0d0887\"], [0.1111111111111111, \"#46039f\"], [0.2222222222222222, \"#7201a8\"], [0.3333333333333333, \"#9c179e\"], [0.4444444444444444, \"#bd3786\"], [0.5555555555555556, \"#d8576b\"], [0.6666666666666666, \"#ed7953\"], [0.7777777777777778, \"#fb9f3a\"], [0.8888888888888888, \"#fdca26\"], [1.0, \"#f0f921\"]], \"type\": \"heatmap\"}], \"heatmapgl\": [{\"colorbar\": {\"outlinewidth\": 0, \"ticks\": \"\"}, \"colorscale\": [[0.0, \"#0d0887\"], [0.1111111111111111, \"#46039f\"], [0.2222222222222222, \"#7201a8\"], [0.3333333333333333, \"#9c179e\"], [0.4444444444444444, \"#bd3786\"], [0.5555555555555556, \"#d8576b\"], [0.6666666666666666, \"#ed7953\"], [0.7777777777777778, \"#fb9f3a\"], [0.8888888888888888, \"#fdca26\"], [1.0, \"#f0f921\"]], \"type\": \"heatmapgl\"}], \"histogram\": [{\"marker\": {\"colorbar\": {\"outlinewidth\": 0, \"ticks\": \"\"}}, \"type\": \"histogram\"}], \"histogram2d\": [{\"colorbar\": {\"outlinewidth\": 0, \"ticks\": \"\"}, \"colorscale\": [[0.0, \"#0d0887\"], [0.1111111111111111, \"#46039f\"], [0.2222222222222222, \"#7201a8\"], [0.3333333333333333, \"#9c179e\"], [0.4444444444444444, \"#bd3786\"], [0.5555555555555556, \"#d8576b\"], [0.6666666666666666, \"#ed7953\"], [0.7777777777777778, \"#fb9f3a\"], [0.8888888888888888, \"#fdca26\"], [1.0, \"#f0f921\"]], \"type\": \"histogram2d\"}], \"histogram2dcontour\": [{\"colorbar\": {\"outlinewidth\": 0, \"ticks\": \"\"}, \"colorscale\": [[0.0, \"#0d0887\"], [0.1111111111111111, \"#46039f\"], [0.2222222222222222, \"#7201a8\"], [0.3333333333333333, \"#9c179e\"], [0.4444444444444444, \"#bd3786\"], [0.5555555555555556, \"#d8576b\"], [0.6666666666666666, \"#ed7953\"], [0.7777777777777778, \"#fb9f3a\"], [0.8888888888888888, \"#fdca26\"], [1.0, \"#f0f921\"]], \"type\": \"histogram2dcontour\"}], \"mesh3d\": [{\"colorbar\": {\"outlinewidth\": 0, \"ticks\": \"\"}, \"type\": \"mesh3d\"}], \"parcoords\": [{\"line\": {\"colorbar\": {\"outlinewidth\": 0, \"ticks\": \"\"}}, \"type\": \"parcoords\"}], \"pie\": [{\"automargin\": true, \"type\": \"pie\"}], \"scatter\": [{\"marker\": {\"colorbar\": {\"outlinewidth\": 0, \"ticks\": \"\"}}, \"type\": \"scatter\"}], \"scatter3d\": [{\"line\": {\"colorbar\": {\"outlinewidth\": 0, \"ticks\": \"\"}}, \"marker\": {\"colorbar\": {\"outlinewidth\": 0, \"ticks\": \"\"}}, \"type\": \"scatter3d\"}], \"scattercarpet\": [{\"marker\": {\"colorbar\": {\"outlinewidth\": 0, \"ticks\": \"\"}}, \"type\": \"scattercarpet\"}], \"scattergeo\": [{\"marker\": {\"colorbar\": {\"outlinewidth\": 0, \"ticks\": \"\"}}, \"type\": \"scattergeo\"}], \"scattergl\": [{\"marker\": {\"colorbar\": {\"outlinewidth\": 0, \"ticks\": \"\"}}, \"type\": \"scattergl\"}], \"scattermapbox\": [{\"marker\": {\"colorbar\": {\"outlinewidth\": 0, \"ticks\": \"\"}}, \"type\": \"scattermapbox\"}], \"scatterpolar\": [{\"marker\": {\"colorbar\": {\"outlinewidth\": 0, \"ticks\": \"\"}}, \"type\": \"scatterpolar\"}], \"scatterpolargl\": [{\"marker\": {\"colorbar\": {\"outlinewidth\": 0, \"ticks\": \"\"}}, \"type\": \"scatterpolargl\"}], \"scatterternary\": [{\"marker\": {\"colorbar\": {\"outlinewidth\": 0, \"ticks\": \"\"}}, \"type\": \"scatterternary\"}], \"surface\": [{\"colorbar\": {\"outlinewidth\": 0, \"ticks\": \"\"}, \"colorscale\": [[0.0, \"#0d0887\"], [0.1111111111111111, \"#46039f\"], [0.2222222222222222, \"#7201a8\"], [0.3333333333333333, \"#9c179e\"], [0.4444444444444444, \"#bd3786\"], [0.5555555555555556, \"#d8576b\"], [0.6666666666666666, \"#ed7953\"], [0.7777777777777778, \"#fb9f3a\"], [0.8888888888888888, \"#fdca26\"], [1.0, \"#f0f921\"]], \"type\": \"surface\"}], \"table\": [{\"cells\": {\"fill\": {\"color\": \"#EBF0F8\"}, \"line\": {\"color\": \"white\"}}, \"header\": {\"fill\": {\"color\": \"#C8D4E3\"}, \"line\": {\"color\": \"white\"}}, \"type\": \"table\"}]}, \"layout\": {\"annotationdefaults\": {\"arrowcolor\": \"#2a3f5f\", \"arrowhead\": 0, \"arrowwidth\": 1}, \"coloraxis\": {\"colorbar\": {\"outlinewidth\": 0, \"ticks\": \"\"}}, \"colorscale\": {\"diverging\": [[0, \"#8e0152\"], [0.1, \"#c51b7d\"], [0.2, \"#de77ae\"], [0.3, \"#f1b6da\"], [0.4, \"#fde0ef\"], [0.5, \"#f7f7f7\"], [0.6, \"#e6f5d0\"], [0.7, \"#b8e186\"], [0.8, \"#7fbc41\"], [0.9, \"#4d9221\"], [1, \"#276419\"]], \"sequential\": [[0.0, \"#0d0887\"], [0.1111111111111111, \"#46039f\"], [0.2222222222222222, \"#7201a8\"], [0.3333333333333333, \"#9c179e\"], [0.4444444444444444, \"#bd3786\"], [0.5555555555555556, \"#d8576b\"], [0.6666666666666666, \"#ed7953\"], [0.7777777777777778, \"#fb9f3a\"], [0.8888888888888888, \"#fdca26\"], [1.0, \"#f0f921\"]], \"sequentialminus\": [[0.0, \"#0d0887\"], [0.1111111111111111, \"#46039f\"], [0.2222222222222222, \"#7201a8\"], [0.3333333333333333, \"#9c179e\"], [0.4444444444444444, \"#bd3786\"], [0.5555555555555556, \"#d8576b\"], [0.6666666666666666, \"#ed7953\"], [0.7777777777777778, \"#fb9f3a\"], [0.8888888888888888, \"#fdca26\"], [1.0, \"#f0f921\"]]}, \"colorway\": [\"#636efa\", \"#EF553B\", \"#00cc96\", \"#ab63fa\", \"#FFA15A\", \"#19d3f3\", \"#FF6692\", \"#B6E880\", \"#FF97FF\", \"#FECB52\"], \"font\": {\"color\": \"#2a3f5f\"}, \"geo\": {\"bgcolor\": \"white\", \"lakecolor\": \"white\", \"landcolor\": \"#E5ECF6\", \"showlakes\": true, \"showland\": true, \"subunitcolor\": \"white\"}, \"hoverlabel\": {\"align\": \"left\"}, \"hovermode\": \"closest\", \"mapbox\": {\"style\": \"light\"}, \"paper_bgcolor\": \"white\", \"plot_bgcolor\": \"#E5ECF6\", \"polar\": {\"angularaxis\": {\"gridcolor\": \"white\", \"linecolor\": \"white\", \"ticks\": \"\"}, \"bgcolor\": \"#E5ECF6\", \"radialaxis\": {\"gridcolor\": \"white\", \"linecolor\": \"white\", \"ticks\": \"\"}}, \"scene\": {\"xaxis\": {\"backgroundcolor\": \"#E5ECF6\", \"gridcolor\": \"white\", \"gridwidth\": 2, \"linecolor\": \"white\", \"showbackground\": true, \"ticks\": \"\", \"zerolinecolor\": \"white\"}, \"yaxis\": {\"backgroundcolor\": \"#E5ECF6\", \"gridcolor\": \"white\", \"gridwidth\": 2, \"linecolor\": \"white\", \"showbackground\": true, \"ticks\": \"\", \"zerolinecolor\": \"white\"}, \"zaxis\": {\"backgroundcolor\": \"#E5ECF6\", \"gridcolor\": \"white\", \"gridwidth\": 2, \"linecolor\": \"white\", \"showbackground\": true, \"ticks\": \"\", \"zerolinecolor\": \"white\"}}, \"shapedefaults\": {\"line\": {\"color\": \"#2a3f5f\"}}, \"ternary\": {\"aaxis\": {\"gridcolor\": \"white\", \"linecolor\": \"white\", \"ticks\": \"\"}, \"baxis\": {\"gridcolor\": \"white\", \"linecolor\": \"white\", \"ticks\": \"\"}, \"bgcolor\": \"#E5ECF6\", \"caxis\": {\"gridcolor\": \"white\", \"linecolor\": \"white\", \"ticks\": \"\"}}, \"title\": {\"x\": 0.05}, \"xaxis\": {\"automargin\": true, \"gridcolor\": \"white\", \"linecolor\": \"white\", \"ticks\": \"\", \"title\": {\"standoff\": 15}, \"zerolinecolor\": \"white\", \"zerolinewidth\": 2}, \"yaxis\": {\"automargin\": true, \"gridcolor\": \"white\", \"linecolor\": \"white\", \"ticks\": \"\", \"title\": {\"standoff\": 15}, \"zerolinecolor\": \"white\", \"zerolinewidth\": 2}}}, \"title\": {\"text\": \"Duration of movies\"}, \"xaxis\": {\"anchor\": \"y\", \"domain\": [0.0, 1.0], \"dtick\": 15, \"tick0\": 0, \"tickmode\": \"linear\", \"title\": {\"text\": \"Duration (min)\"}}, \"yaxis\": {\"anchor\": \"x\", \"domain\": [0.0, 1.0], \"title\": {\"text\": \"Count\"}}},\n",
              "                        {\"responsive\": true}\n",
              "                    ).then(function(){\n",
              "                            \n",
              "var gd = document.getElementById('85e6d7d1-9774-40bc-bf5e-4ffca40a7f1f');\n",
              "var x = new MutationObserver(function (mutations, observer) {{\n",
              "        var display = window.getComputedStyle(gd).display;\n",
              "        if (!display || display === 'none') {{\n",
              "            console.log([gd, 'removed!']);\n",
              "            Plotly.purge(gd);\n",
              "            observer.disconnect();\n",
              "        }}\n",
              "}});\n",
              "\n",
              "// Listen for the removal of the full notebook cells\n",
              "var notebookContainer = gd.closest('#notebook-container');\n",
              "if (notebookContainer) {{\n",
              "    x.observe(notebookContainer, {childList: true});\n",
              "}}\n",
              "\n",
              "// Listen for the clearing of the current output cell\n",
              "var outputEl = gd.closest('.output');\n",
              "if (outputEl) {{\n",
              "    x.observe(outputEl, {childList: true});\n",
              "}}\n",
              "\n",
              "                        })\n",
              "                };\n",
              "                \n",
              "            </script>\n",
              "        </div>\n",
              "</body>\n",
              "</html>"
            ]
          },
          "metadata": {
            "tags": []
          }
        }
      ]
    },
    {
      "cell_type": "code",
      "metadata": {
        "colab": {
          "base_uri": "https://localhost:8080/",
          "height": 332
        },
        "id": "nJLoPRfXVGVI",
        "outputId": "005efa38-265b-44e4-86c0-db0b67052e0d"
      },
      "source": [
        "rng = np.random.RandomState(1)\n",
        "X = np.dot(rng.rand(2,2), rng.randn(2, 200)).T\n",
        "plt.scatter(X[:, 0], X[:, 1])\n",
        "plt.axis('equal')"
      ],
      "execution_count": 32,
      "outputs": [
        {
          "output_type": "execute_result",
          "data": {
            "text/plain": [
              "(-2.7292712056271964,\n",
              " 2.5702744393352615,\n",
              " -0.9326181575178751,\n",
              " 1.004413830229183)"
            ]
          },
          "metadata": {
            "tags": []
          },
          "execution_count": 32
        },
        {
          "output_type": "display_data",
          "data": {
            "image/png": "[encoded data removed]",
            "text/plain": [
              "<Figure size 432x288 with 1 Axes>"
            ]
          },
          "metadata": {
            "tags": [],
            "needs_background": "light"
          }
        }
      ]
    },
    {
      "cell_type": "code",
      "metadata": {
        "colab": {
          "base_uri": "https://localhost:8080/"
        },
        "id": "eJoiLKUcVsOW",
        "outputId": "46578429-9e5c-41c5-c33a-f8f41e163bc9"
      },
      "source": [
        "from sklearn.decomposition import PCA\n",
        "\n",
        "pca = PCA(n_components=2)\n",
        "pca.fit(X)\n",
        "print(pca.components_)\n",
        "print(pca.explained_variance_)"
      ],
      "execution_count": 33,
      "outputs": [
        {
          "output_type": "stream",
          "text": [
            "[[-0.94446029 -0.32862557]\n",
            " [-0.32862557  0.94446029]]\n",
            "[0.7625315 0.0184779]\n"
          ],
          "name": "stdout"
        }
      ]
    },
    {
      "cell_type": "code",
      "metadata": {
        "colab": {
          "base_uri": "https://localhost:8080/",
          "height": 366
        },
        "id": "DXQqU0c-V_K6",
        "outputId": "04b7a118-2c78-4307-ddb4-f5d611fce1ca"
      },
      "source": [
        "pca = PCA(n_components=1)\n",
        "pca.fit(X)\n",
        "\n",
        "print(pca.components_)\n",
        "print(pca.explained_variance_)\n",
        "\n",
        "X_pca = pca.transform(X)\n",
        "\n",
        "X_new = pca.inverse_transform(X_pca)\n",
        "plt.scatter(X_new[:, 0], X_new[:, 1], alpha=0.5)\n",
        "plt.axis('equal')"
      ],
      "execution_count": 34,
      "outputs": [
        {
          "output_type": "stream",
          "text": [
            "[[-0.94446029 -0.32862557]]\n",
            "[0.7625315]\n"
          ],
          "name": "stdout"
        },
        {
          "output_type": "execute_result",
          "data": {
            "text/plain": [
              "(-2.7190988093884965,\n",
              " 2.6093276252889543,\n",
              " -0.9618533270308598,\n",
              " 0.8921761150844829)"
            ]
          },
          "metadata": {
            "tags": []
          },
          "execution_count": 34
        },
        {
          "output_type": "display_data",
          "data": {
            "image/png": "[encoded data removed]",
            "text/plain": [
              "<Figure size 432x288 with 1 Axes>"
            ]
          },
          "metadata": {
            "tags": [],
            "needs_background": "light"
          }
        }
      ]
    }
  ]
}