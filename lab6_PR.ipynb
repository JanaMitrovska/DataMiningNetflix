{
  "nbformat": 4,
  "nbformat_minor": 0,
  "metadata": {
    "colab": {
      "name": "lab6_PR.ipynb",
      "provenance": [],
      "collapsed_sections": [
        "WFtJM5WhXjwG",
        "bIWUV187X-b7",
        "cXqerWYqb8sp",
        "R4CEmuBKdyHw"
      ],
      "toc_visible": true
    },
    "kernelspec": {
      "name": "python3",
      "display_name": "Python 3"
    },
    "language_info": {
      "name": "python"
    }
  },
  "cells": [
    {
      "cell_type": "markdown",
      "metadata": {
        "id": "TU2KcoPVXaWg"
      },
      "source": [
        "6та лабораториска вежба по предметот Податочно рударство\n",
        "\n",
        "Изработиле: Јана Митровска (181080) и Бојан Петрушевски (162012)\n",
        "\n",
        "Тема: Logistic regression, LDA, Ensamble\n"
      ]
    },
    {
      "cell_type": "markdown",
      "metadata": {
        "id": "WFtJM5WhXjwG"
      },
      "source": [
        "# **Reading the dataset**"
      ]
    },
    {
      "cell_type": "code",
      "metadata": {
        "id": "70WDlSOBXWk7"
      },
      "source": [
        "import pandas as pd\n",
        "import numpy as np\n",
        "import sklearn \n",
        "import matplotlib.pyplot as plt\n",
        "import seaborn as sns\n",
        "import warnings\n",
        "warnings.filterwarnings(\"ignore\")\n",
        "\n",
        "from scipy import stats\n",
        "from operator import sub\n",
        "from sklearn import metrics\n",
        "from sklearn.decomposition import PCA\n",
        "from sklearn.discriminant_analysis import LinearDiscriminantAnalysis as LDA, QuadraticDiscriminantAnalysis as QDA\n",
        "from sklearn.model_selection import train_test_split, LeaveOneOut, cross_val_score, cross_validate, GridSearchCV, KFold, RepeatedStratifiedKFold\n",
        "from sklearn.preprocessing import LabelEncoder, StandardScaler, PolynomialFeatures\n",
        "from sklearn.pipeline import make_pipeline\n",
        "from sklearn.neighbors import KNeighborsClassifier\n",
        "from sklearn.tree import DecisionTreeClassifier\n",
        "from sklearn.ensemble import VotingClassifier, BaggingClassifier, AdaBoostClassifier, RandomForestClassifier, ExtraTreesClassifier\n",
        "from sklearn.metrics import accuracy_score, precision_score, recall_score, f1_score, plot_roc_curve, classification_report, confusion_matrix, mean_squared_error, r2_score\n",
        "from sklearn.linear_model import Ridge, RidgeCV, Lasso, LassoCV, LinearRegression, LogisticRegression"
      ],
      "execution_count": 1,
      "outputs": []
    },
    {
      "cell_type": "code",
      "metadata": {
        "id": "8Hp9tNhHXqHC"
      },
      "source": [
        "data = pd.read_csv('/content/drive/MyDrive/netflix.csv')"
      ],
      "execution_count": 3,
      "outputs": []
    },
    {
      "cell_type": "code",
      "metadata": {
        "colab": {
          "base_uri": "https://localhost:8080/",
          "height": 190
        },
        "id": "ir-83YujXsxl",
        "outputId": "b7828ee0-c1e5-4c4e-95fa-c078b66280c6"
      },
      "source": [
        "data.head()"
      ],
      "execution_count": 4,
      "outputs": [
        {
          "output_type": "execute_result",
          "data": {
            "text/html": [
              "<div>\n",
              "<style scoped>\n",
              "    .dataframe tbody tr th:only-of-type {\n",
              "        vertical-align: middle;\n",
              "    }\n",
              "\n",
              "    .dataframe tbody tr th {\n",
              "        vertical-align: top;\n",
              "    }\n",
              "\n",
              "    .dataframe thead th {\n",
              "        text-align: right;\n",
              "    }\n",
              "</style>\n",
              "<table border=\"1\" class=\"dataframe\">\n",
              "  <thead>\n",
              "    <tr style=\"text-align: right;\">\n",
              "      <th></th>\n",
              "      <th>show_id</th>\n",
              "      <th>type</th>\n",
              "      <th>title</th>\n",
              "      <th>director</th>\n",
              "      <th>cast</th>\n",
              "      <th>country</th>\n",
              "      <th>date_added</th>\n",
              "      <th>release_year</th>\n",
              "      <th>rating</th>\n",
              "      <th>duration</th>\n",
              "      <th>listed_in</th>\n",
              "      <th>description</th>\n",
              "    </tr>\n",
              "  </thead>\n",
              "  <tbody>\n",
              "    <tr>\n",
              "      <th>0</th>\n",
              "      <td>s1</td>\n",
              "      <td>TV Show</td>\n",
              "      <td>3%</td>\n",
              "      <td>Unknown</td>\n",
              "      <td>João Miguel, Bianca Comparato, Michel Gomes, R...</td>\n",
              "      <td>Brazil</td>\n",
              "      <td>14-Aug-20</td>\n",
              "      <td>2020</td>\n",
              "      <td>TV-MA</td>\n",
              "      <td>4</td>\n",
              "      <td>International TV Shows, TV Dramas, TV Sci-Fi &amp;...</td>\n",
              "      <td>In a future where the elite inhabit an island ...</td>\n",
              "    </tr>\n",
              "    <tr>\n",
              "      <th>1</th>\n",
              "      <td>s2</td>\n",
              "      <td>Movie</td>\n",
              "      <td>7:19</td>\n",
              "      <td>Jorge Michel Grau</td>\n",
              "      <td>Demián Bichir, Héctor Bonilla, Oscar Serrano, ...</td>\n",
              "      <td>Mexico</td>\n",
              "      <td>23-Dec-16</td>\n",
              "      <td>2016</td>\n",
              "      <td>TV-MA</td>\n",
              "      <td>93</td>\n",
              "      <td>Dramas, International Movies</td>\n",
              "      <td>After a devastating earthquake hits Mexico Cit...</td>\n",
              "    </tr>\n",
              "    <tr>\n",
              "      <th>2</th>\n",
              "      <td>s3</td>\n",
              "      <td>Movie</td>\n",
              "      <td>23:59</td>\n",
              "      <td>Gilbert Chan</td>\n",
              "      <td>Tedd Chan, Stella Chung, Henley Hii, Lawrence ...</td>\n",
              "      <td>Singapore</td>\n",
              "      <td>20-Dec-18</td>\n",
              "      <td>2011</td>\n",
              "      <td>R</td>\n",
              "      <td>78</td>\n",
              "      <td>Horror Movies, International Movies</td>\n",
              "      <td>When an army recruit is found dead, his fellow...</td>\n",
              "    </tr>\n",
              "    <tr>\n",
              "      <th>3</th>\n",
              "      <td>s4</td>\n",
              "      <td>Movie</td>\n",
              "      <td>9</td>\n",
              "      <td>Shane Acker</td>\n",
              "      <td>Elijah Wood, John C. Reilly, Jennifer Connelly...</td>\n",
              "      <td>United States</td>\n",
              "      <td>16-Nov-17</td>\n",
              "      <td>2009</td>\n",
              "      <td>PG-13</td>\n",
              "      <td>80</td>\n",
              "      <td>Action &amp; Adventure, Independent Movies, Sci-Fi...</td>\n",
              "      <td>In a postapocalyptic world, rag-doll robots hi...</td>\n",
              "    </tr>\n",
              "    <tr>\n",
              "      <th>4</th>\n",
              "      <td>s5</td>\n",
              "      <td>Movie</td>\n",
              "      <td>21</td>\n",
              "      <td>Robert Luketic</td>\n",
              "      <td>Jim Sturgess, Kevin Spacey, Kate Bosworth, Aar...</td>\n",
              "      <td>United States</td>\n",
              "      <td>1-Jan-20</td>\n",
              "      <td>2008</td>\n",
              "      <td>PG-13</td>\n",
              "      <td>123</td>\n",
              "      <td>Dramas</td>\n",
              "      <td>A brilliant group of students become card-coun...</td>\n",
              "    </tr>\n",
              "  </tbody>\n",
              "</table>\n",
              "</div>"
            ],
            "text/plain": [
              "  show_id  ...                                        description\n",
              "0      s1  ...  In a future where the elite inhabit an island ...\n",
              "1      s2  ...  After a devastating earthquake hits Mexico Cit...\n",
              "2      s3  ...  When an army recruit is found dead, his fellow...\n",
              "3      s4  ...  In a postapocalyptic world, rag-doll robots hi...\n",
              "4      s5  ...  A brilliant group of students become card-coun...\n",
              "\n",
              "[5 rows x 12 columns]"
            ]
          },
          "metadata": {
            "tags": []
          },
          "execution_count": 4
        }
      ]
    },
    {
      "cell_type": "code",
      "metadata": {
        "id": "pJb8dEYoYN9r"
      },
      "source": [
        "data_encoded = data.apply(LabelEncoder().fit_transform)"
      ],
      "execution_count": 5,
      "outputs": []
    },
    {
      "cell_type": "code",
      "metadata": {
        "id": "DHKJGtKDZHB3"
      },
      "source": [
        "X = data_encoded.drop(['type'], axis = 1)\n",
        "Y = data_encoded.type.values"
      ],
      "execution_count": 6,
      "outputs": []
    },
    {
      "cell_type": "code",
      "metadata": {
        "id": "XyH_5x09YU7z"
      },
      "source": [
        "X_train, X_test, Y_train, Y_test = train_test_split(X,Y, test_size=0.2)"
      ],
      "execution_count": 7,
      "outputs": []
    },
    {
      "cell_type": "markdown",
      "metadata": {
        "id": "bIWUV187X-b7"
      },
      "source": [
        "# **Logistic Regression**"
      ]
    },
    {
      "cell_type": "code",
      "metadata": {
        "colab": {
          "base_uri": "https://localhost:8080/"
        },
        "id": "Zt3u-YFxZMed",
        "outputId": "dc03fe45-bfd3-4201-8057-a294d3ee8ec7"
      },
      "source": [
        "model = LogisticRegression(max_iter=10000)\n",
        "model.fit(X_train, Y_train)"
      ],
      "execution_count": 8,
      "outputs": [
        {
          "output_type": "execute_result",
          "data": {
            "text/plain": [
              "LogisticRegression(C=1.0, class_weight=None, dual=False, fit_intercept=True,\n",
              "                   intercept_scaling=1, l1_ratio=None, max_iter=10000,\n",
              "                   multi_class='auto', n_jobs=None, penalty='l2',\n",
              "                   random_state=None, solver='lbfgs', tol=0.0001, verbose=0,\n",
              "                   warm_start=False)"
            ]
          },
          "metadata": {
            "tags": []
          },
          "execution_count": 8
        }
      ]
    },
    {
      "cell_type": "code",
      "metadata": {
        "id": "6dSXXv7-ZeTN"
      },
      "source": [
        "y_pred = model.predict(X_test)"
      ],
      "execution_count": null,
      "outputs": []
    },
    {
      "cell_type": "code",
      "metadata": {
        "colab": {
          "base_uri": "https://localhost:8080/"
        },
        "id": "vagrZpzGZjCG",
        "outputId": "8e38babf-56c2-4b7a-fc4f-7a613fe55911"
      },
      "source": [
        "print(classification_report(Y_test, y_pred))"
      ],
      "execution_count": null,
      "outputs": [
        {
          "output_type": "stream",
          "text": [
            "              precision    recall  f1-score   support\n",
            "\n",
            "           0       1.00      0.99      1.00      1044\n",
            "           1       0.98      1.00      0.99       514\n",
            "\n",
            "    accuracy                           0.99      1558\n",
            "   macro avg       0.99      1.00      0.99      1558\n",
            "weighted avg       0.99      0.99      0.99      1558\n",
            "\n"
          ],
          "name": "stdout"
        }
      ]
    },
    {
      "cell_type": "code",
      "metadata": {
        "colab": {
          "base_uri": "https://localhost:8080/",
          "height": 342
        },
        "id": "v1lLEMZ7Zxfq",
        "outputId": "0976be14-6e2d-44c5-8564-58440d449d37"
      },
      "source": [
        "fig, ax = plt.subplots()\n",
        "sns.heatmap(confusion_matrix(Y_test, y_pred), annot=True )\n",
        "ax.xaxis.set_label_position(\"top\")\n",
        "plt.tight_layout()\n",
        "plt.title('Confusion matrix', y=1.1)\n",
        "plt.ylabel(\"Actual label\")\n",
        "plt.xlabel('Predicted label')"
      ],
      "execution_count": null,
      "outputs": [
        {
          "output_type": "execute_result",
          "data": {
            "text/plain": [
              "Text(0.5, 257.44, 'Predicted label')"
            ]
          },
          "metadata": {
            "tags": []
          },
          "execution_count": 104
        },
        {
          "output_type": "display_data",
          "data": {
            "image/png": "[encoded data removed]",
            "text/plain": [
              "<Figure size 432x288 with 2 Axes>"
            ]
          },
          "metadata": {
            "tags": [],
            "needs_background": "light"
          }
        }
      ]
    },
    {
      "cell_type": "code",
      "metadata": {
        "colab": {
          "base_uri": "https://localhost:8080/",
          "height": 366
        },
        "id": "P4e0FMNEaza_",
        "outputId": "3b0201cb-6eb2-438c-8bf2-92cf4a0795df"
      },
      "source": [
        "y_pred_proba = model.predict_proba(X_test)\n",
        "plt.hist([max(x) for x in y_pred_proba])"
      ],
      "execution_count": null,
      "outputs": [
        {
          "output_type": "execute_result",
          "data": {
            "text/plain": [
              "(array([4.000e+00, 1.000e+00, 4.000e+00, 3.000e+00, 7.000e+00, 5.000e+00,\n",
              "        6.000e+00, 8.000e+00, 1.500e+01, 1.505e+03]),\n",
              " array([0.54417721, 0.58975949, 0.63534177, 0.68092404, 0.72650632,\n",
              "        0.7720886 , 0.81767088, 0.86325316, 0.90883544, 0.95441772,\n",
              "        1.        ]),\n",
              " <a list of 10 Patch objects>)"
            ]
          },
          "metadata": {
            "tags": []
          },
          "execution_count": 105
        },
        {
          "output_type": "display_data",
          "data": {
            "image/png": "[encoded data removed]",
            "text/plain": [
              "<Figure size 432x288 with 1 Axes>"
            ]
          },
          "metadata": {
            "tags": [],
            "needs_background": "light"
          }
        }
      ]
    },
    {
      "cell_type": "code",
      "metadata": {
        "colab": {
          "base_uri": "https://localhost:8080/"
        },
        "id": "OKnz_PSJbAfV",
        "outputId": "49ec7288-b69e-4cb4-96e9-6f0bbf92b986"
      },
      "source": [
        "y_pred_proba"
      ],
      "execution_count": null,
      "outputs": [
        {
          "output_type": "execute_result",
          "data": {
            "text/plain": [
              "array([[9.99976811e-01, 2.31885670e-05],\n",
              "       [1.06798808e-02, 9.89320119e-01],\n",
              "       [9.99999854e-01, 1.46086734e-07],\n",
              "       ...,\n",
              "       [2.80711529e-03, 9.97192885e-01],\n",
              "       [9.99999839e-01, 1.61261931e-07],\n",
              "       [9.99999935e-01, 6.54300926e-08]])"
            ]
          },
          "metadata": {
            "tags": []
          },
          "execution_count": 106
        }
      ]
    },
    {
      "cell_type": "markdown",
      "metadata": {
        "id": "cXqerWYqb8sp"
      },
      "source": [
        "# **LDA**"
      ]
    },
    {
      "cell_type": "code",
      "metadata": {
        "id": "7quWvDH3h2nC"
      },
      "source": [
        "X = data_encoded.drop(['type'], axis = 1)\n",
        "Y = data.type.values\n",
        "target_names = data.type"
      ],
      "execution_count": 9,
      "outputs": []
    },
    {
      "cell_type": "code",
      "metadata": {
        "colab": {
          "base_uri": "https://localhost:8080/",
          "height": 578
        },
        "id": "-ZAGlcMJbFX9",
        "outputId": "43d2ec16-79ee-4eff-bbea-e1c2920949da"
      },
      "source": [
        "pca = PCA(n_components = 2)\n",
        "X_r = pca.fit(X).transform(X)\n",
        "\n",
        "lda = LDA(n_components=2)\n",
        "X_r2 = lda.fit(X, Y).transform(X)\n",
        "\n",
        "print('explained variance ratio : %s' %str(pca.explained_variance_ratio_))\n",
        "\n",
        "plt.figure()\n",
        "colors = ['navy', 'turquoise']\n",
        "lw = 2\n",
        "\n",
        "for color, i, target_name in zip(colors, [0,1], target_names):\n",
        "  plt.scatter(X_r[i, 0], \n",
        "              X_r[i, 1], \n",
        "              color = color, \n",
        "              alpha=0.8, lw=lw,\n",
        "              label=target_name)\n",
        "\n",
        "plt.legend(loc='best', shadow=False, scatterpoints=1)\n",
        "plt.title('PCA of Netflix dataset')\n",
        "\n",
        "plt.figure()\n",
        "for color, i, target_name in zip(colors, [0,1], target_names):\n",
        "  plt.scatter(X_r2[i], \n",
        "              X_r2[i], \n",
        "              color = color, \n",
        "              alpha=0.8, lw=lw,\n",
        "              label=target_name)\n",
        "\n",
        "plt.legend(loc='best', shadow=False, scatterpoints=1)\n",
        "plt.title('LDA of Netflix dataset')\n"
      ],
      "execution_count": 10,
      "outputs": [
        {
          "output_type": "stream",
          "text": [
            "explained variance ratio : [0.39744421 0.23764821]\n"
          ],
          "name": "stdout"
        },
        {
          "output_type": "execute_result",
          "data": {
            "text/plain": [
              "Text(0.5, 1.0, 'LDA of Netflix dataset')"
            ]
          },
          "metadata": {
            "tags": []
          },
          "execution_count": 10
        },
        {
          "output_type": "display_data",
          "data": {
            "image/png": "[encoded data removed]",
            "text/plain": [
              "<Figure size 432x288 with 1 Axes>"
            ]
          },
          "metadata": {
            "tags": [],
            "needs_background": "light"
          }
        },
        {
          "output_type": "display_data",
          "data": {
            "image/png": "[encoded data removed]",
            "text/plain": [
              "<Figure size 432x288 with 1 Axes>"
            ]
          },
          "metadata": {
            "tags": [],
            "needs_background": "light"
          }
        }
      ]
    },
    {
      "cell_type": "markdown",
      "metadata": {
        "id": "R4CEmuBKdyHw"
      },
      "source": [
        "# **Ensemble methods**"
      ]
    },
    {
      "cell_type": "code",
      "metadata": {
        "colab": {
          "base_uri": "https://localhost:8080/"
        },
        "id": "9bN0fu_LkAq_",
        "outputId": "80922793-7c01-4544-89cc-3ee2753aa091"
      },
      "source": [
        "log_reg = LogisticRegression()\n",
        "des_tree = DecisionTreeClassifier()\n",
        "knn = KNeighborsClassifier()\n",
        "\n",
        "log_reg.fit(X_train, Y_train)\n",
        "des_tree.fit(X_train, Y_train)\n",
        "knn.fit(X_train, Y_train)\n",
        "\n",
        "log_reg_pred = log_reg.predict(X_test)\n",
        "des_tree_pred = des_tree.predict(X_test)\n",
        "knn_pred = knn.predict(X_test)\n",
        "\n",
        "averaged_preds = (log_reg_pred + des_tree_pred + knn_pred)\n",
        "acc = accuracy_score(Y_test, averaged_preds)\n",
        "print(acc)"
      ],
      "execution_count": null,
      "outputs": [
        {
          "output_type": "stream",
          "text": [
            "0.5924261874197689\n"
          ],
          "name": "stdout"
        }
      ]
    },
    {
      "cell_type": "code",
      "metadata": {
        "colab": {
          "base_uri": "https://localhost:8080/"
        },
        "id": "Q99X2skgmNOA",
        "outputId": "3d6d566d-144c-43c8-8e67-d506ed2541ac"
      },
      "source": [
        "voting_clf = VotingClassifier(estimators=[('KNN', knn), ('Decision Tree', des_tree), ('Logistic Regression', log_reg)], voting = 'hard')\n",
        "voting_clf.fit(X_train, Y_train)\n",
        "preds = voting_clf.predict(X_test)\n",
        "acc = accuracy_score(Y_test, preds)\n",
        "f1 = f1_score(Y_test, preds, average=\"macro\")\n",
        "\n",
        "print(\"Accuarcy is: \" + str(acc))\n",
        "print(\"F1 score is: \" + str(f1))"
      ],
      "execution_count": null,
      "outputs": [
        {
          "output_type": "stream",
          "text": [
            "Accuarcy is: 0.9987163029525032\n",
            "F1 score is: 0.9984892472805481\n"
          ],
          "name": "stdout"
        }
      ]
    },
    {
      "cell_type": "code",
      "metadata": {
        "colab": {
          "base_uri": "https://localhost:8080/"
        },
        "id": "yUmdM7jJoe6j",
        "outputId": "c649c2c6-bc40-4d05-d656-1466d99115c3"
      },
      "source": [
        "log_reg_bagging_model = BaggingClassifier(base_estimator=log_reg, n_estimators=5)\n",
        "des_tree_bagging_model = BaggingClassifier(base_estimator=des_tree, n_estimators=5)\n",
        "random_forest = RandomForestClassifier(n_estimators=10)\n",
        "extra_trees = ExtraTreesClassifier(n_estimators=10)\n",
        "\n",
        "def bagging_ensemble(model):\n",
        "  k_folds = KFold(n_splits=20)\n",
        "  results = cross_val_score(model, X_train, Y_train, cv=k_folds)\n",
        "  print(results.mean())\n",
        "\n",
        "bagging_ensemble(log_reg_bagging_model)\n",
        "bagging_ensemble(des_tree_bagging_model)\n",
        "bagging_ensemble(random_forest)\n",
        "bagging_ensemble(extra_trees)"
      ],
      "execution_count": null,
      "outputs": [
        {
          "output_type": "stream",
          "text": [
            "0.99791151372743\n",
            "0.9975910009069174\n",
            "0.9987143416604832\n",
            "0.997430744496661\n"
          ],
          "name": "stdout"
        }
      ]
    },
    {
      "cell_type": "code",
      "metadata": {
        "colab": {
          "base_uri": "https://localhost:8080/"
        },
        "id": "W8Yy7SiepdkA",
        "outputId": "11ba97d3-c065-493d-b6ec-f26a564842fc"
      },
      "source": [
        "k_fold = KFold(n_splits=10)\n",
        "model = AdaBoostClassifier(n_estimators=10)\n",
        "results = cross_val_score(model, X_test, Y_test, cv=k_fold)\n",
        "print(results.mean())"
      ],
      "execution_count": null,
      "outputs": [
        {
          "output_type": "stream",
          "text": [
            "0.9993589743589745\n"
          ],
          "name": "stdout"
        }
      ]
    }
  ]
}