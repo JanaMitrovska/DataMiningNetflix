{
  "nbformat": 4,
  "nbformat_minor": 0,
  "metadata": {
    "colab": {
      "name": "lab2_PR.ipynb",
      "provenance": [],
      "collapsed_sections": [
        "kpJoP0zBlMJ2"
      ]
    },
    "kernelspec": {
      "name": "python3",
      "display_name": "Python 3"
    },
    "language_info": {
      "name": "python"
    }
  },
  "cells": [
    {
      "cell_type": "markdown",
      "metadata": {
        "id": "u62LYDjwiMyW"
      },
      "source": [
        "Втора лабораториска вежба по предметот Податочно рударство\n",
        "\n",
        "Изработиле: Јана Митровска (181080) и Бојан Петрушевски (162012)\n",
        "\n",
        "Податочно множество:\n",
        "\n",
        "Тема: Дрва на одлучување\n"
      ]
    },
    {
      "cell_type": "markdown",
      "metadata": {
        "id": "kpJoP0zBlMJ2"
      },
      "source": [
        "# **Reading the dataset**"
      ]
    },
    {
      "cell_type": "code",
      "metadata": {
        "id": "53fT5b-alK-3"
      },
      "source": [
        "import pandas as pd\n",
        "import numpy as np\n",
        "import sklearn \n",
        "import matplotlib.pyplot as plt\n",
        "from sklearn.tree import DecisionTreeClassifier\n",
        "from sklearn.model_selection import train_test_split, LeaveOneOut, cross_val_score, cross_validate\n",
        "from sklearn.preprocessing import LabelEncoder\n",
        "from sklearn.metrics import accuracy_score, precision_score, recall_score, f1_score, plot_roc_curve\n",
        "from sklearn.ensemble import RandomForestClassifier\n",
        "import seaborn as sns\n",
        "\n",
        "data = pd.read_csv('/content/drive/MyDrive/netflix.csv')"
      ],
      "execution_count": 9,
      "outputs": []
    },
    {
      "cell_type": "code",
      "metadata": {
        "colab": {
          "base_uri": "https://localhost:8080/",
          "height": 190
        },
        "id": "FleKzfXGi_rS",
        "outputId": "179f8c08-34f9-45cc-a0e1-f4c43b9ba6d2"
      },
      "source": [
        "data.head()"
      ],
      "execution_count": 10,
      "outputs": [
        {
          "output_type": "execute_result",
          "data": {
            "text/html": [
              "<div>\n",
              "<style scoped>\n",
              "    .dataframe tbody tr th:only-of-type {\n",
              "        vertical-align: middle;\n",
              "    }\n",
              "\n",
              "    .dataframe tbody tr th {\n",
              "        vertical-align: top;\n",
              "    }\n",
              "\n",
              "    .dataframe thead th {\n",
              "        text-align: right;\n",
              "    }\n",
              "</style>\n",
              "<table border=\"1\" class=\"dataframe\">\n",
              "  <thead>\n",
              "    <tr style=\"text-align: right;\">\n",
              "      <th></th>\n",
              "      <th>show_id</th>\n",
              "      <th>type</th>\n",
              "      <th>title</th>\n",
              "      <th>director</th>\n",
              "      <th>cast</th>\n",
              "      <th>country</th>\n",
              "      <th>date_added</th>\n",
              "      <th>release_year</th>\n",
              "      <th>rating</th>\n",
              "      <th>duration</th>\n",
              "      <th>listed_in</th>\n",
              "      <th>description</th>\n",
              "    </tr>\n",
              "  </thead>\n",
              "  <tbody>\n",
              "    <tr>\n",
              "      <th>0</th>\n",
              "      <td>s1</td>\n",
              "      <td>TV Show</td>\n",
              "      <td>3%</td>\n",
              "      <td>Unknown</td>\n",
              "      <td>João Miguel, Bianca Comparato, Michel Gomes, R...</td>\n",
              "      <td>Brazil</td>\n",
              "      <td>14-Aug-20</td>\n",
              "      <td>2020</td>\n",
              "      <td>TV-MA</td>\n",
              "      <td>4</td>\n",
              "      <td>International TV Shows, TV Dramas, TV Sci-Fi &amp;...</td>\n",
              "      <td>In a future where the elite inhabit an island ...</td>\n",
              "    </tr>\n",
              "    <tr>\n",
              "      <th>1</th>\n",
              "      <td>s2</td>\n",
              "      <td>Movie</td>\n",
              "      <td>7:19</td>\n",
              "      <td>Jorge Michel Grau</td>\n",
              "      <td>Demián Bichir, Héctor Bonilla, Oscar Serrano, ...</td>\n",
              "      <td>Mexico</td>\n",
              "      <td>23-Dec-16</td>\n",
              "      <td>2016</td>\n",
              "      <td>TV-MA</td>\n",
              "      <td>93</td>\n",
              "      <td>Dramas, International Movies</td>\n",
              "      <td>After a devastating earthquake hits Mexico Cit...</td>\n",
              "    </tr>\n",
              "    <tr>\n",
              "      <th>2</th>\n",
              "      <td>s3</td>\n",
              "      <td>Movie</td>\n",
              "      <td>23:59</td>\n",
              "      <td>Gilbert Chan</td>\n",
              "      <td>Tedd Chan, Stella Chung, Henley Hii, Lawrence ...</td>\n",
              "      <td>Singapore</td>\n",
              "      <td>20-Dec-18</td>\n",
              "      <td>2011</td>\n",
              "      <td>R</td>\n",
              "      <td>78</td>\n",
              "      <td>Horror Movies, International Movies</td>\n",
              "      <td>When an army recruit is found dead, his fellow...</td>\n",
              "    </tr>\n",
              "    <tr>\n",
              "      <th>3</th>\n",
              "      <td>s4</td>\n",
              "      <td>Movie</td>\n",
              "      <td>9</td>\n",
              "      <td>Shane Acker</td>\n",
              "      <td>Elijah Wood, John C. Reilly, Jennifer Connelly...</td>\n",
              "      <td>United States</td>\n",
              "      <td>16-Nov-17</td>\n",
              "      <td>2009</td>\n",
              "      <td>PG-13</td>\n",
              "      <td>80</td>\n",
              "      <td>Action &amp; Adventure, Independent Movies, Sci-Fi...</td>\n",
              "      <td>In a postapocalyptic world, rag-doll robots hi...</td>\n",
              "    </tr>\n",
              "    <tr>\n",
              "      <th>4</th>\n",
              "      <td>s5</td>\n",
              "      <td>Movie</td>\n",
              "      <td>21</td>\n",
              "      <td>Robert Luketic</td>\n",
              "      <td>Jim Sturgess, Kevin Spacey, Kate Bosworth, Aar...</td>\n",
              "      <td>United States</td>\n",
              "      <td>1-Jan-20</td>\n",
              "      <td>2008</td>\n",
              "      <td>PG-13</td>\n",
              "      <td>123</td>\n",
              "      <td>Dramas</td>\n",
              "      <td>A brilliant group of students become card-coun...</td>\n",
              "    </tr>\n",
              "  </tbody>\n",
              "</table>\n",
              "</div>"
            ],
            "text/plain": [
              "  show_id  ...                                        description\n",
              "0      s1  ...  In a future where the elite inhabit an island ...\n",
              "1      s2  ...  After a devastating earthquake hits Mexico Cit...\n",
              "2      s3  ...  When an army recruit is found dead, his fellow...\n",
              "3      s4  ...  In a postapocalyptic world, rag-doll robots hi...\n",
              "4      s5  ...  A brilliant group of students become card-coun...\n",
              "\n",
              "[5 rows x 12 columns]"
            ]
          },
          "metadata": {
            "tags": []
          },
          "execution_count": 10
        }
      ]
    },
    {
      "cell_type": "markdown",
      "metadata": {
        "id": "DaoxW3E-5lqq"
      },
      "source": [
        "# **Decision trees**"
      ]
    },
    {
      "cell_type": "code",
      "metadata": {
        "id": "jNt7J-5O6w2i"
      },
      "source": [
        "dt = DecisionTreeClassifier(criterion='entropy')"
      ],
      "execution_count": 13,
      "outputs": []
    },
    {
      "cell_type": "code",
      "metadata": {
        "colab": {
          "base_uri": "https://localhost:8080/",
          "height": 392
        },
        "id": "FVNHZ_7v62WG",
        "outputId": "5c1eae98-8f74-471a-bda5-30c8a94403e1"
      },
      "source": [
        "data_encoded = data.apply(LabelEncoder().fit_transform)\n",
        "data_encoded"
      ],
      "execution_count": 14,
      "outputs": [
        {
          "output_type": "execute_result",
          "data": {
            "text/html": [
              "<div>\n",
              "<style scoped>\n",
              "    .dataframe tbody tr th:only-of-type {\n",
              "        vertical-align: middle;\n",
              "    }\n",
              "\n",
              "    .dataframe tbody tr th {\n",
              "        vertical-align: top;\n",
              "    }\n",
              "\n",
              "    .dataframe thead th {\n",
              "        text-align: right;\n",
              "    }\n",
              "</style>\n",
              "<table border=\"1\" class=\"dataframe\">\n",
              "  <thead>\n",
              "    <tr style=\"text-align: right;\">\n",
              "      <th></th>\n",
              "      <th>show_id</th>\n",
              "      <th>type</th>\n",
              "      <th>title</th>\n",
              "      <th>director</th>\n",
              "      <th>cast</th>\n",
              "      <th>country</th>\n",
              "      <th>date_added</th>\n",
              "      <th>release_year</th>\n",
              "      <th>rating</th>\n",
              "      <th>duration</th>\n",
              "      <th>listed_in</th>\n",
              "      <th>description</th>\n",
              "    </tr>\n",
              "  </thead>\n",
              "  <tbody>\n",
              "    <tr>\n",
              "      <th>0</th>\n",
              "      <td>0</td>\n",
              "      <td>1</td>\n",
              "      <td>83</td>\n",
              "      <td>3748</td>\n",
              "      <td>3160</td>\n",
              "      <td>6</td>\n",
              "      <td>328</td>\n",
              "      <td>71</td>\n",
              "      <td>8</td>\n",
              "      <td>3</td>\n",
              "      <td>398</td>\n",
              "      <td>3912</td>\n",
              "    </tr>\n",
              "    <tr>\n",
              "      <th>1</th>\n",
              "      <td>1111</td>\n",
              "      <td>0</td>\n",
              "      <td>125</td>\n",
              "      <td>1789</td>\n",
              "      <td>1589</td>\n",
              "      <td>42</td>\n",
              "      <td>844</td>\n",
              "      <td>67</td>\n",
              "      <td>8</td>\n",
              "      <td>91</td>\n",
              "      <td>310</td>\n",
              "      <td>1390</td>\n",
              "    </tr>\n",
              "    <tr>\n",
              "      <th>2</th>\n",
              "      <td>2222</td>\n",
              "      <td>0</td>\n",
              "      <td>68</td>\n",
              "      <td>1253</td>\n",
              "      <td>6200</td>\n",
              "      <td>60</td>\n",
              "      <td>707</td>\n",
              "      <td>62</td>\n",
              "      <td>5</td>\n",
              "      <td>76</td>\n",
              "      <td>336</td>\n",
              "      <td>7172</td>\n",
              "    </tr>\n",
              "    <tr>\n",
              "      <th>3</th>\n",
              "      <td>3333</td>\n",
              "      <td>0</td>\n",
              "      <td>127</td>\n",
              "      <td>3355</td>\n",
              "      <td>1788</td>\n",
              "      <td>75</td>\n",
              "      <td>476</td>\n",
              "      <td>60</td>\n",
              "      <td>4</td>\n",
              "      <td>78</td>\n",
              "      <td>47</td>\n",
              "      <td>3936</td>\n",
              "    </tr>\n",
              "    <tr>\n",
              "      <th>4</th>\n",
              "      <td>4444</td>\n",
              "      <td>0</td>\n",
              "      <td>61</td>\n",
              "      <td>3095</td>\n",
              "      <td>2924</td>\n",
              "      <td>75</td>\n",
              "      <td>97</td>\n",
              "      <td>59</td>\n",
              "      <td>4</td>\n",
              "      <td>121</td>\n",
              "      <td>294</td>\n",
              "      <td>138</td>\n",
              "    </tr>\n",
              "    <tr>\n",
              "      <th>...</th>\n",
              "      <td>...</td>\n",
              "      <td>...</td>\n",
              "      <td>...</td>\n",
              "      <td>...</td>\n",
              "      <td>...</td>\n",
              "      <td>...</td>\n",
              "      <td>...</td>\n",
              "      <td>...</td>\n",
              "      <td>...</td>\n",
              "      <td>...</td>\n",
              "      <td>...</td>\n",
              "      <td>...</td>\n",
              "    </tr>\n",
              "    <tr>\n",
              "      <th>7782</th>\n",
              "      <td>7537</td>\n",
              "      <td>0</td>\n",
              "      <td>7759</td>\n",
              "      <td>1793</td>\n",
              "      <td>2487</td>\n",
              "      <td>67</td>\n",
              "      <td>635</td>\n",
              "      <td>56</td>\n",
              "      <td>8</td>\n",
              "      <td>97</td>\n",
              "      <td>310</td>\n",
              "      <td>6876</td>\n",
              "    </tr>\n",
              "    <tr>\n",
              "      <th>7783</th>\n",
              "      <td>7538</td>\n",
              "      <td>0</td>\n",
              "      <td>7761</td>\n",
              "      <td>2536</td>\n",
              "      <td>6474</td>\n",
              "      <td>28</td>\n",
              "      <td>675</td>\n",
              "      <td>66</td>\n",
              "      <td>6</td>\n",
              "      <td>109</td>\n",
              "      <td>312</td>\n",
              "      <td>889</td>\n",
              "    </tr>\n",
              "    <tr>\n",
              "      <th>7784</th>\n",
              "      <td>7539</td>\n",
              "      <td>0</td>\n",
              "      <td>7762</td>\n",
              "      <td>3748</td>\n",
              "      <td>4601</td>\n",
              "      <td>76</td>\n",
              "      <td>985</td>\n",
              "      <td>70</td>\n",
              "      <td>8</td>\n",
              "      <td>42</td>\n",
              "      <td>269</td>\n",
              "      <td>4197</td>\n",
              "    </tr>\n",
              "    <tr>\n",
              "      <th>7785</th>\n",
              "      <td>7540</td>\n",
              "      <td>1</td>\n",
              "      <td>7763</td>\n",
              "      <td>3748</td>\n",
              "      <td>140</td>\n",
              "      <td>1</td>\n",
              "      <td>1286</td>\n",
              "      <td>70</td>\n",
              "      <td>9</td>\n",
              "      <td>0</td>\n",
              "      <td>368</td>\n",
              "      <td>2823</td>\n",
              "    </tr>\n",
              "    <tr>\n",
              "      <th>7786</th>\n",
              "      <td>7541</td>\n",
              "      <td>0</td>\n",
              "      <td>7734</td>\n",
              "      <td>3215</td>\n",
              "      <td>6429</td>\n",
              "      <td>74</td>\n",
              "      <td>114</td>\n",
              "      <td>70</td>\n",
              "      <td>8</td>\n",
              "      <td>88</td>\n",
              "      <td>273</td>\n",
              "      <td>6065</td>\n",
              "    </tr>\n",
              "  </tbody>\n",
              "</table>\n",
              "<p>7787 rows × 12 columns</p>\n",
              "</div>"
            ],
            "text/plain": [
              "      show_id  type  title  director  ...  rating  duration  listed_in  description\n",
              "0           0     1     83      3748  ...       8         3        398         3912\n",
              "1        1111     0    125      1789  ...       8        91        310         1390\n",
              "2        2222     0     68      1253  ...       5        76        336         7172\n",
              "3        3333     0    127      3355  ...       4        78         47         3936\n",
              "4        4444     0     61      3095  ...       4       121        294          138\n",
              "...       ...   ...    ...       ...  ...     ...       ...        ...          ...\n",
              "7782     7537     0   7759      1793  ...       8        97        310         6876\n",
              "7783     7538     0   7761      2536  ...       6       109        312          889\n",
              "7784     7539     0   7762      3748  ...       8        42        269         4197\n",
              "7785     7540     1   7763      3748  ...       9         0        368         2823\n",
              "7786     7541     0   7734      3215  ...       8        88        273         6065\n",
              "\n",
              "[7787 rows x 12 columns]"
            ]
          },
          "metadata": {
            "tags": []
          },
          "execution_count": 14
        }
      ]
    },
    {
      "cell_type": "code",
      "metadata": {
        "id": "mFgzpJamlQlG"
      },
      "source": [
        "X = data_encoded.drop(['type'], axis = 1)\n",
        "Y = data_encoded.type.values\n",
        "X_train, X_test, Y_train, Y_test = train_test_split(X,Y,test_size = 0.2, random_state = 0)"
      ],
      "execution_count": 15,
      "outputs": []
    },
    {
      "cell_type": "code",
      "metadata": {
        "colab": {
          "base_uri": "https://localhost:8080/"
        },
        "id": "TM3RBB5lwy5D",
        "outputId": "c5962a5b-8bfd-4f7b-d3e0-2274e7b15b0e"
      },
      "source": [
        "dt.fit(X_train,Y_train)"
      ],
      "execution_count": 16,
      "outputs": [
        {
          "output_type": "execute_result",
          "data": {
            "text/plain": [
              "DecisionTreeClassifier(ccp_alpha=0.0, class_weight=None, criterion='entropy',\n",
              "                       max_depth=None, max_features=None, max_leaf_nodes=None,\n",
              "                       min_impurity_decrease=0.0, min_impurity_split=None,\n",
              "                       min_samples_leaf=1, min_samples_split=2,\n",
              "                       min_weight_fraction_leaf=0.0, presort='deprecated',\n",
              "                       random_state=None, splitter='best')"
            ]
          },
          "metadata": {
            "tags": []
          },
          "execution_count": 16
        }
      ]
    },
    {
      "cell_type": "code",
      "metadata": {
        "id": "C9og4sBhCGUz"
      },
      "source": [
        "predicted = dt.predict(X_test)"
      ],
      "execution_count": 17,
      "outputs": []
    },
    {
      "cell_type": "code",
      "metadata": {
        "colab": {
          "base_uri": "https://localhost:8080/"
        },
        "id": "U3yrgvgdCL04",
        "outputId": "3bbae929-8f88-4ffd-8a12-5982397f7144"
      },
      "source": [
        "dt.feature_importances_"
      ],
      "execution_count": 18,
      "outputs": [
        {
          "output_type": "execute_result",
          "data": {
            "text/plain": [
              "array([0.00000000e+00, 1.59038266e-03, 0.00000000e+00, 1.75967576e-03,\n",
              "       0.00000000e+00, 5.78994745e-04, 0.00000000e+00, 0.00000000e+00,\n",
              "       9.91078848e-01, 2.21721967e-03, 2.77487943e-03])"
            ]
          },
          "metadata": {
            "tags": []
          },
          "execution_count": 18
        }
      ]
    },
    {
      "cell_type": "code",
      "metadata": {
        "id": "XQrVEfhSCRAW"
      },
      "source": [
        "result_data = pd.DataFrame({\"actual\":Y_test, \"predicted\":predicted})"
      ],
      "execution_count": 19,
      "outputs": []
    },
    {
      "cell_type": "code",
      "metadata": {
        "colab": {
          "base_uri": "https://localhost:8080/",
          "height": 392
        },
        "id": "42msO846Coli",
        "outputId": "0f91bf81-01dd-4779-efa5-56f1b8320503"
      },
      "source": [
        "result_data"
      ],
      "execution_count": 20,
      "outputs": [
        {
          "output_type": "execute_result",
          "data": {
            "text/html": [
              "<div>\n",
              "<style scoped>\n",
              "    .dataframe tbody tr th:only-of-type {\n",
              "        vertical-align: middle;\n",
              "    }\n",
              "\n",
              "    .dataframe tbody tr th {\n",
              "        vertical-align: top;\n",
              "    }\n",
              "\n",
              "    .dataframe thead th {\n",
              "        text-align: right;\n",
              "    }\n",
              "</style>\n",
              "<table border=\"1\" class=\"dataframe\">\n",
              "  <thead>\n",
              "    <tr style=\"text-align: right;\">\n",
              "      <th></th>\n",
              "      <th>actual</th>\n",
              "      <th>predicted</th>\n",
              "    </tr>\n",
              "  </thead>\n",
              "  <tbody>\n",
              "    <tr>\n",
              "      <th>0</th>\n",
              "      <td>0</td>\n",
              "      <td>0</td>\n",
              "    </tr>\n",
              "    <tr>\n",
              "      <th>1</th>\n",
              "      <td>1</td>\n",
              "      <td>1</td>\n",
              "    </tr>\n",
              "    <tr>\n",
              "      <th>2</th>\n",
              "      <td>0</td>\n",
              "      <td>0</td>\n",
              "    </tr>\n",
              "    <tr>\n",
              "      <th>3</th>\n",
              "      <td>0</td>\n",
              "      <td>0</td>\n",
              "    </tr>\n",
              "    <tr>\n",
              "      <th>4</th>\n",
              "      <td>1</td>\n",
              "      <td>1</td>\n",
              "    </tr>\n",
              "    <tr>\n",
              "      <th>...</th>\n",
              "      <td>...</td>\n",
              "      <td>...</td>\n",
              "    </tr>\n",
              "    <tr>\n",
              "      <th>1553</th>\n",
              "      <td>1</td>\n",
              "      <td>1</td>\n",
              "    </tr>\n",
              "    <tr>\n",
              "      <th>1554</th>\n",
              "      <td>0</td>\n",
              "      <td>0</td>\n",
              "    </tr>\n",
              "    <tr>\n",
              "      <th>1555</th>\n",
              "      <td>0</td>\n",
              "      <td>0</td>\n",
              "    </tr>\n",
              "    <tr>\n",
              "      <th>1556</th>\n",
              "      <td>1</td>\n",
              "      <td>1</td>\n",
              "    </tr>\n",
              "    <tr>\n",
              "      <th>1557</th>\n",
              "      <td>1</td>\n",
              "      <td>1</td>\n",
              "    </tr>\n",
              "  </tbody>\n",
              "</table>\n",
              "<p>1558 rows × 2 columns</p>\n",
              "</div>"
            ],
            "text/plain": [
              "      actual  predicted\n",
              "0          0          0\n",
              "1          1          1\n",
              "2          0          0\n",
              "3          0          0\n",
              "4          1          1\n",
              "...      ...        ...\n",
              "1553       1          1\n",
              "1554       0          0\n",
              "1555       0          0\n",
              "1556       1          1\n",
              "1557       1          1\n",
              "\n",
              "[1558 rows x 2 columns]"
            ]
          },
          "metadata": {
            "tags": []
          },
          "execution_count": 20
        }
      ]
    },
    {
      "cell_type": "code",
      "metadata": {
        "colab": {
          "base_uri": "https://localhost:8080/"
        },
        "id": "vq4JdfQJCrs8",
        "outputId": "e053f48d-3158-4e3d-9706-533d64283c66"
      },
      "source": [
        "#1073 вредности биле 0 и се предвиделе како 0, 3 вредности биле 0 и се предвиделе како 1\n",
        "#1 вредности биле 1 и се предвиделе како 0, 481 вредности биле 1 и се предвиделе како 1\n",
        "confusion_matrix = pd.crosstab(result_data['actual'], result_data['predicted'], rownames={'Actual'},\n",
        "                               colnames=['Predicted'])\n",
        "print(confusion_matrix) "
      ],
      "execution_count": 28,
      "outputs": [
        {
          "output_type": "stream",
          "text": [
            "Predicted     0    1\n",
            "Actual              \n",
            "0          1073    3\n",
            "1             1  481\n"
          ],
          "name": "stdout"
        }
      ]
    },
    {
      "cell_type": "code",
      "metadata": {
        "colab": {
          "base_uri": "https://localhost:8080/",
          "height": 278
        },
        "id": "1-Rh1tAVDgY4",
        "outputId": "e4f7f9aa-73ca-41e4-d9e0-7bbe115dbf51"
      },
      "source": [
        "sns.heatmap(confusion_matrix, annot=True)\n",
        "plt.show()"
      ],
      "execution_count": 22,
      "outputs": [
        {
          "output_type": "display_data",
          "data": {
            "image/png": "[encoded data removed]",
            "text/plain": [
              "<Figure size 432x288 with 2 Axes>"
            ]
          },
          "metadata": {
            "tags": [],
            "needs_background": "light"
          }
        }
      ]
    },
    {
      "cell_type": "code",
      "metadata": {
        "colab": {
          "base_uri": "https://localhost:8080/"
        },
        "id": "QJGiE77mDnVg",
        "outputId": "176b61fe-a941-43d0-98f0-0a7556641248"
      },
      "source": [
        "#Оваа метрика пресметува точност на подмножество. \n",
        "#Резултатот од тестот е 0.997 од максимална вредност 1. \n",
        "accuracy_score(result_data['actual'], result_data['predicted']) "
      ],
      "execution_count": 23,
      "outputs": [
        {
          "output_type": "execute_result",
          "data": {
            "text/plain": [
              "0.9974326059050064"
            ]
          },
          "metadata": {
            "tags": []
          },
          "execution_count": 23
        }
      ]
    },
    {
      "cell_type": "code",
      "metadata": {
        "colab": {
          "base_uri": "https://localhost:8080/"
        },
        "id": "r85x-vvjDyUR",
        "outputId": "25ce03c4-a8ea-4dc0-a5cc-8d8b3958b25a"
      },
      "source": [
        "#Покажува просечна точност на предвидениот резултат.\n",
        "#Резултатот од тестот е 0.993 од максимална вредност 1.\n",
        "precision_score(result_data['actual'], result_data['predicted']) "
      ],
      "execution_count": 24,
      "outputs": [
        {
          "output_type": "execute_result",
          "data": {
            "text/plain": [
              "0.993801652892562"
            ]
          },
          "metadata": {
            "tags": []
          },
          "execution_count": 24
        }
      ]
    },
    {
      "cell_type": "code",
      "metadata": {
        "colab": {
          "base_uri": "https://localhost:8080/"
        },
        "id": "epiJXZSsD8gP",
        "outputId": "7b13b82d-8b70-4a36-9aa1-6f842920d1af"
      },
      "source": [
        "#Го споредува односот помеѓу точните позитивни и лажните негативни. Со помош на оваа формула се пресметува tp / (tp + fn).\n",
        "#Резултатот од тестот е 0.996 од максимална вредност 1.\n",
        "recall_score(result_data['actual'], result_data['predicted'])"
      ],
      "execution_count": 25,
      "outputs": [
        {
          "output_type": "execute_result",
          "data": {
            "text/plain": [
              "0.9979253112033195"
            ]
          },
          "metadata": {
            "tags": []
          },
          "execution_count": 25
        }
      ]
    },
    {
      "cell_type": "code",
      "metadata": {
        "colab": {
          "base_uri": "https://localhost:8080/"
        },
        "id": "nXBnvwICD_b5",
        "outputId": "4b00d141-a8fb-4887-bf20-09de4a445648"
      },
      "source": [
        "#Резултатот Ф1 може да се толкува како пондериран просек на прецизност и отповикување.\n",
        "#Резултатот од тестот е 0.996 од максимална вредност 1.\n",
        "f1_score(result_data['actual'], result_data['predicted'])"
      ],
      "execution_count": 26,
      "outputs": [
        {
          "output_type": "execute_result",
          "data": {
            "text/plain": [
              "0.9958592132505175"
            ]
          },
          "metadata": {
            "tags": []
          },
          "execution_count": 26
        }
      ]
    },
    {
      "cell_type": "code",
      "metadata": {
        "colab": {
          "base_uri": "https://localhost:8080/",
          "height": 278
        },
        "id": "6yR-ovTaEBWl",
        "outputId": "5b28be0e-df12-4068-ee83-ba68d8ea09ef"
      },
      "source": [
        "#Крива која ја покажува прецизноста на DecisionTreeClassifier \n",
        "plot_roc_curve(dt, X_test, Y_test)\n",
        "plt.show()"
      ],
      "execution_count": 27,
      "outputs": [
        {
          "output_type": "display_data",
          "data": {
            "image/png": "[encoded data removed]",
            "text/plain": [
              "<Figure size 432x288 with 1 Axes>"
            ]
          },
          "metadata": {
            "tags": [],
            "needs_background": "light"
          }
        }
      ]
    }
  ]
}